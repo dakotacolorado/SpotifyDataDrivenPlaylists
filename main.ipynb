{
 "cells": [
  {
   "cell_type": "code",
   "execution_count": 1,
   "id": "bcd46195-c76f-47a1-950d-ddde4f5860d4",
   "metadata": {
    "tags": []
   },
   "outputs": [
    {
     "name": "stderr",
     "output_type": "stream",
     "text": [
      "Using `localhost` as redirect URI without a port. Specify a port (e.g. `localhost:8080`) to allow automatic retrieval of authentication code instead of having to copy and paste the URL your browser is redirected to.\n"
     ]
    },
    {
     "name": "stdin",
     "output_type": "stream",
     "text": [
      "Enter the URL you were redirected to:  http://localhost/?code=AQDNgPpQ4HLc5EgRyPQbi7GP19m040_EVuA0WCfdkoIZ8tRRgYGBae1usAYWpA6dO1eTX8dt-iuiqDAlDGy-hXAlsw1wBdOgqUA_cvbIZBpuiOTLFhIdD8JDI_fraZK-jGkEhvpx6qAE-Al59rwarCJ2_PEFHOlwIqg8nkZUsfMDexzylNPaTYMadFwE\n"
     ]
    }
   ],
   "source": [
    "from IPython.display import Markdown, Latex\n",
    "displaym = lambda markdown : display(Markdown(markdown))\n",
    "from sklearn.cluster import AgglomerativeClustering\n",
    "from spotifyUtil import get_spotify_client, plot_dendrogram\n",
    "from sklearn.decomposition import PCA\n",
    "from matplotlib.pyplot import figure\n",
    "from scipy.cluster import hierarchy\n",
    "spotify = get_spotify_client()\n",
    "import matplotlib.pyplot as plt\n",
    "from scipy.stats import zscore\n",
    "from datetime import datetime\n",
    "import pandas as pd\n",
    "import numpy as np"
   ]
  },
  {
   "cell_type": "markdown",
   "id": "49d91929-c8f3-43f0-ad58-11887cb4cf0b",
   "metadata": {},
   "source": [
    "---\n",
    "# Collect All My Playlists"
   ]
  },
  {
   "cell_type": "code",
   "execution_count": 2,
   "id": "4dcb984d-e500-4310-8e55-b0e46285c389",
   "metadata": {
    "tags": []
   },
   "outputs": [
    {
     "data": {
      "text/markdown": [
       "\n",
       "## My Playlists  \n",
       "Collected **33** playlists\n"
      ],
      "text/plain": [
       "<IPython.core.display.Markdown object>"
      ]
     },
     "metadata": {},
     "output_type": "display_data"
    }
   ],
   "source": [
    "my_playlists = []\n",
    "offset = 0\n",
    "append_playlists = spotify.current_user_playlists(offset=offset)[\"items\"]\n",
    "while len(append_playlists) > 0:\n",
    "    my_playlists += append_playlists\n",
    "    offset += len(append_playlists)\n",
    "    append_playlists = spotify.current_user_playlists(offset=offset)[\"items\"]\n",
    "displaym(\"\"\"\n",
    "## My Playlists  \n",
    "Collected **{}** playlists\n",
    "\"\"\".format(\n",
    "    len(my_playlists)\n",
    "))"
   ]
  },
  {
   "cell_type": "markdown",
   "id": "6115a518-36f2-4499-a2d7-1ee59e19fb79",
   "metadata": {},
   "source": [
    "---\n",
    "# Union **WoofBeats&trade;** Playlists and Add Track Features"
   ]
  },
  {
   "cell_type": "code",
   "execution_count": 3,
   "id": "da2446be-be38-455e-9a24-570dc528fc13",
   "metadata": {
    "tags": []
   },
   "outputs": [
    {
     "data": {
      "text/markdown": [
       "\n",
       "## List **WoofBeats&trade;** Playlists\n",
       " - WoofBeats-2021-12: **26** songs \n",
       "- WoofBeats-2021-11: **23** songs \n",
       "- WoofBeats-2021-10: **27** songs \n",
       "- WoofBeats-2021-07: **30** songs \n",
       "- WoofBeats-2021-05: **37** songs \n",
       "- WoofBeats-2021-04: **50** songs \n",
       "- WoofBeats-2021-03: **38** songs \n",
       "- WoofBeats-2021-02: **45** songs \n",
       "- WoofBeats-2021-01: **56** songs \n",
       "- WoofBeats-2020-12: **46** songs\n",
       "---\n"
      ],
      "text/plain": [
       "<IPython.core.display.Markdown object>"
      ]
     },
     "metadata": {},
     "output_type": "display_data"
    }
   ],
   "source": [
    "WoofBeats_playlists = [\n",
    "    p for p in my_playlists \n",
    "    if \"WoofBeats\" in p[\"name\"] and \"20\" in p[\"name\"]\n",
    "]\n",
    "\n",
    "# get tracks\n",
    "for playlist in WoofBeats_playlists:\n",
    "    playlist.update({\n",
    "        \"tracks\":spotify.playlist_tracks(playlist[\"id\"]) \n",
    "    })\n",
    "\n",
    "displaym(\n",
    "\"\"\"\n",
    "## List **WoofBeats&trade;** Playlists\n",
    " - {}\n",
    "---\n",
    "\"\"\".format(\n",
    "    \" \\n- \".join([\n",
    "        \"{}: **{}** songs\".format(\n",
    "            playlist[\"name\"], \n",
    "            len(playlist[\"tracks\"][\"items\"])\n",
    "        ) \n",
    "        for playlist in WoofBeats_playlists\n",
    "    ])\n",
    "))"
   ]
  },
  {
   "cell_type": "markdown",
   "id": "e6eb3fff-f1f0-4bb5-b84d-eff2c41e760e",
   "metadata": {
    "tags": []
   },
   "source": [
    "## Add Track Features"
   ]
  },
  {
   "cell_type": "code",
   "execution_count": 4,
   "id": "2a069c13-163a-40fd-bb19-9935d927d31c",
   "metadata": {
    "tags": []
   },
   "outputs": [
    {
     "name": "stdout",
     "output_type": "stream",
     "text": [
      "<class 'pandas.core.frame.DataFrame'>\n",
      "RangeIndex: 378 entries, 0 to 377\n",
      "Data columns (total 25 columns):\n",
      " #   Column                   Non-Null Count  Dtype  \n",
      "---  ------                   --------------  -----  \n",
      " 0   track_id                 378 non-null    object \n",
      " 1   track_name               378 non-null    object \n",
      " 2   track_duration_ms        378 non-null    int64  \n",
      " 3   track_popularity         378 non-null    int64  \n",
      " 4   track_explicit           378 non-null    bool   \n",
      " 5   track_danceability       378 non-null    float64\n",
      " 6   track_energy             378 non-null    float64\n",
      " 7   track_key                378 non-null    int64  \n",
      " 8   track_loudness           378 non-null    float64\n",
      " 9   track_mode               378 non-null    int64  \n",
      " 10  track_speechiness        378 non-null    float64\n",
      " 11  track_acousticness       378 non-null    float64\n",
      " 12  track_instrumentalness   378 non-null    float64\n",
      " 13  track_liveness           378 non-null    float64\n",
      " 14  track_valence            378 non-null    float64\n",
      " 15  track_tempo              378 non-null    float64\n",
      " 16  track_time_signature     378 non-null    int64  \n",
      " 17  album_name               378 non-null    object \n",
      " 18  album_release_timestamp  378 non-null    float64\n",
      " 19  album_id                 378 non-null    object \n",
      " 20  artist_id                378 non-null    object \n",
      " 21  artist_name              378 non-null    object \n",
      " 22  playlist_name            378 non-null    object \n",
      " 23  playlist_id              378 non-null    object \n",
      " 24  added_by                 378 non-null    object \n",
      "dtypes: bool(1), float64(10), int64(5), object(9)\n",
      "memory usage: 71.4+ KB\n"
     ]
    },
    {
     "data": {
      "text/plain": [
       "None"
      ]
     },
     "metadata": {},
     "output_type": "display_data"
    },
    {
     "data": {
      "text/html": [
       "<div>\n",
       "<style scoped>\n",
       "    .dataframe tbody tr th:only-of-type {\n",
       "        vertical-align: middle;\n",
       "    }\n",
       "\n",
       "    .dataframe tbody tr th {\n",
       "        vertical-align: top;\n",
       "    }\n",
       "\n",
       "    .dataframe thead th {\n",
       "        text-align: right;\n",
       "    }\n",
       "</style>\n",
       "<table border=\"1\" class=\"dataframe\">\n",
       "  <thead>\n",
       "    <tr style=\"text-align: right;\">\n",
       "      <th></th>\n",
       "      <th>track_id</th>\n",
       "      <th>track_name</th>\n",
       "      <th>track_duration_ms</th>\n",
       "      <th>track_popularity</th>\n",
       "      <th>track_explicit</th>\n",
       "      <th>track_danceability</th>\n",
       "      <th>track_energy</th>\n",
       "      <th>track_key</th>\n",
       "      <th>track_loudness</th>\n",
       "      <th>track_mode</th>\n",
       "      <th>...</th>\n",
       "      <th>track_tempo</th>\n",
       "      <th>track_time_signature</th>\n",
       "      <th>album_name</th>\n",
       "      <th>album_release_timestamp</th>\n",
       "      <th>album_id</th>\n",
       "      <th>artist_id</th>\n",
       "      <th>artist_name</th>\n",
       "      <th>playlist_name</th>\n",
       "      <th>playlist_id</th>\n",
       "      <th>added_by</th>\n",
       "    </tr>\n",
       "  </thead>\n",
       "  <tbody>\n",
       "    <tr>\n",
       "      <th>0</th>\n",
       "      <td>7Fk0zNC7vGdoDwePPgByKh</td>\n",
       "      <td>Peaches N Cream (feat. Charlie Wilson)</td>\n",
       "      <td>284213</td>\n",
       "      <td>43</td>\n",
       "      <td>False</td>\n",
       "      <td>0.830</td>\n",
       "      <td>0.722</td>\n",
       "      <td>0</td>\n",
       "      <td>-6.099</td>\n",
       "      <td>1</td>\n",
       "      <td>...</td>\n",
       "      <td>109.987</td>\n",
       "      <td>4</td>\n",
       "      <td>Peaches N Cream (feat. Charlie Wilson)</td>\n",
       "      <td>1.425946e+09</td>\n",
       "      <td>0tKHgjptFpCMWQyKrwThXF</td>\n",
       "      <td>7hJcb9fa4alzcOq3EaNPoG</td>\n",
       "      <td>Snoop Dogg</td>\n",
       "      <td>WoofBeats-2021-12</td>\n",
       "      <td>4Wj5LF1wo57BP6Fk2Itzk9</td>\n",
       "      <td>davidmimorton</td>\n",
       "    </tr>\n",
       "    <tr>\n",
       "      <th>1</th>\n",
       "      <td>32YOyb6WzKcHHWOPNBndvL</td>\n",
       "      <td>the astronaut</td>\n",
       "      <td>185078</td>\n",
       "      <td>35</td>\n",
       "      <td>False</td>\n",
       "      <td>0.559</td>\n",
       "      <td>0.343</td>\n",
       "      <td>7</td>\n",
       "      <td>-9.155</td>\n",
       "      <td>1</td>\n",
       "      <td>...</td>\n",
       "      <td>166.034</td>\n",
       "      <td>4</td>\n",
       "      <td>the astronaut</td>\n",
       "      <td>1.617667e+09</td>\n",
       "      <td>2vZMnfL7DLYTIGiz3piGn7</td>\n",
       "      <td>7BexBpZwJEohkHnOeuXDoi</td>\n",
       "      <td>Ray Goren</td>\n",
       "      <td>WoofBeats-2021-12</td>\n",
       "      <td>4Wj5LF1wo57BP6Fk2Itzk9</td>\n",
       "      <td>Dan</td>\n",
       "    </tr>\n",
       "    <tr>\n",
       "      <th>2</th>\n",
       "      <td>0ssRH9I8P7X7tawJQiIhzE</td>\n",
       "      <td>1993 (feat. Little Ricky ZR3)</td>\n",
       "      <td>159832</td>\n",
       "      <td>53</td>\n",
       "      <td>True</td>\n",
       "      <td>0.701</td>\n",
       "      <td>0.676</td>\n",
       "      <td>9</td>\n",
       "      <td>-5.873</td>\n",
       "      <td>1</td>\n",
       "      <td>...</td>\n",
       "      <td>105.041</td>\n",
       "      <td>4</td>\n",
       "      <td>Ugly is Beautiful</td>\n",
       "      <td>1.594944e+09</td>\n",
       "      <td>1HmWQo43Gt8BR2dylfv3o4</td>\n",
       "      <td>6TLwD7HPWuiOzvXEa3oCNe</td>\n",
       "      <td>Oliver Tree</td>\n",
       "      <td>WoofBeats-2021-12</td>\n",
       "      <td>4Wj5LF1wo57BP6Fk2Itzk9</td>\n",
       "      <td>Dan</td>\n",
       "    </tr>\n",
       "    <tr>\n",
       "      <th>3</th>\n",
       "      <td>2KUyYDas5sAAulThIiZBO5</td>\n",
       "      <td>Brass</td>\n",
       "      <td>151380</td>\n",
       "      <td>41</td>\n",
       "      <td>True</td>\n",
       "      <td>0.775</td>\n",
       "      <td>0.890</td>\n",
       "      <td>2</td>\n",
       "      <td>-4.574</td>\n",
       "      <td>0</td>\n",
       "      <td>...</td>\n",
       "      <td>142.948</td>\n",
       "      <td>4</td>\n",
       "      <td>Brass</td>\n",
       "      <td>1.577059e+09</td>\n",
       "      <td>1ZRprAbchzdVCZZnH9BaDQ</td>\n",
       "      <td>22KyrgRdE2K6aB5wtZls3c</td>\n",
       "      <td>AG Club</td>\n",
       "      <td>WoofBeats-2021-12</td>\n",
       "      <td>4Wj5LF1wo57BP6Fk2Itzk9</td>\n",
       "      <td>Dakota</td>\n",
       "    </tr>\n",
       "    <tr>\n",
       "      <th>4</th>\n",
       "      <td>3sN85u5M7FoMmHa8E2aViO</td>\n",
       "      <td>Heybb!</td>\n",
       "      <td>148608</td>\n",
       "      <td>59</td>\n",
       "      <td>False</td>\n",
       "      <td>0.654</td>\n",
       "      <td>0.972</td>\n",
       "      <td>6</td>\n",
       "      <td>-2.872</td>\n",
       "      <td>0</td>\n",
       "      <td>...</td>\n",
       "      <td>117.009</td>\n",
       "      <td>4</td>\n",
       "      <td>Heybb!</td>\n",
       "      <td>1.571270e+09</td>\n",
       "      <td>5CfgvNG8Y0ZGXAx3rNvjC8</td>\n",
       "      <td>2jbd7OqeJJd1hz81vOXwwW</td>\n",
       "      <td>binki</td>\n",
       "      <td>WoofBeats-2021-12</td>\n",
       "      <td>4Wj5LF1wo57BP6Fk2Itzk9</td>\n",
       "      <td>Dakota</td>\n",
       "    </tr>\n",
       "  </tbody>\n",
       "</table>\n",
       "<p>5 rows × 25 columns</p>\n",
       "</div>"
      ],
      "text/plain": [
       "                 track_id                              track_name  \\\n",
       "0  7Fk0zNC7vGdoDwePPgByKh  Peaches N Cream (feat. Charlie Wilson)   \n",
       "1  32YOyb6WzKcHHWOPNBndvL                           the astronaut   \n",
       "2  0ssRH9I8P7X7tawJQiIhzE           1993 (feat. Little Ricky ZR3)   \n",
       "3  2KUyYDas5sAAulThIiZBO5                                   Brass   \n",
       "4  3sN85u5M7FoMmHa8E2aViO                                  Heybb!   \n",
       "\n",
       "   track_duration_ms  track_popularity  track_explicit  track_danceability  \\\n",
       "0             284213                43           False               0.830   \n",
       "1             185078                35           False               0.559   \n",
       "2             159832                53            True               0.701   \n",
       "3             151380                41            True               0.775   \n",
       "4             148608                59           False               0.654   \n",
       "\n",
       "   track_energy  track_key  track_loudness  track_mode  ...  track_tempo  \\\n",
       "0         0.722          0          -6.099           1  ...      109.987   \n",
       "1         0.343          7          -9.155           1  ...      166.034   \n",
       "2         0.676          9          -5.873           1  ...      105.041   \n",
       "3         0.890          2          -4.574           0  ...      142.948   \n",
       "4         0.972          6          -2.872           0  ...      117.009   \n",
       "\n",
       "   track_time_signature                              album_name  \\\n",
       "0                     4  Peaches N Cream (feat. Charlie Wilson)   \n",
       "1                     4                           the astronaut   \n",
       "2                     4                       Ugly is Beautiful   \n",
       "3                     4                                   Brass   \n",
       "4                     4                                  Heybb!   \n",
       "\n",
       "   album_release_timestamp                album_id               artist_id  \\\n",
       "0             1.425946e+09  0tKHgjptFpCMWQyKrwThXF  7hJcb9fa4alzcOq3EaNPoG   \n",
       "1             1.617667e+09  2vZMnfL7DLYTIGiz3piGn7  7BexBpZwJEohkHnOeuXDoi   \n",
       "2             1.594944e+09  1HmWQo43Gt8BR2dylfv3o4  6TLwD7HPWuiOzvXEa3oCNe   \n",
       "3             1.577059e+09  1ZRprAbchzdVCZZnH9BaDQ  22KyrgRdE2K6aB5wtZls3c   \n",
       "4             1.571270e+09  5CfgvNG8Y0ZGXAx3rNvjC8  2jbd7OqeJJd1hz81vOXwwW   \n",
       "\n",
       "   artist_name      playlist_name             playlist_id       added_by  \n",
       "0   Snoop Dogg  WoofBeats-2021-12  4Wj5LF1wo57BP6Fk2Itzk9  davidmimorton  \n",
       "1    Ray Goren  WoofBeats-2021-12  4Wj5LF1wo57BP6Fk2Itzk9            Dan  \n",
       "2  Oliver Tree  WoofBeats-2021-12  4Wj5LF1wo57BP6Fk2Itzk9            Dan  \n",
       "3      AG Club  WoofBeats-2021-12  4Wj5LF1wo57BP6Fk2Itzk9         Dakota  \n",
       "4        binki  WoofBeats-2021-12  4Wj5LF1wo57BP6Fk2Itzk9         Dakota  \n",
       "\n",
       "[5 rows x 25 columns]"
      ]
     },
     "metadata": {},
     "output_type": "display_data"
    }
   ],
   "source": [
    "WoofBeats_tracks = [\n",
    "    {\n",
    "        \"playlist_name\": playlist[\"name\"],\n",
    "        \"playlist_id\": playlist[\"id\"],\n",
    "        \"added_by\": track[\"added_by\"][\"id\"],\n",
    "        **track[\"track\"]\n",
    "    }\n",
    "    for playlist in WoofBeats_playlists\n",
    "    for track in playlist[\"tracks\"][\"items\"]\n",
    "]\n",
    "\n",
    "WoofBeats_tracks = [\n",
    "    {\n",
    "        \"track_id\" : track[\"id\"],\n",
    "        \"track_name\" :track[\"name\"],\n",
    "        \"track_duration_ms\" : track[\"duration_ms\"],\n",
    "        \"track_popularity\" : track[\"popularity\"],\n",
    "        \"track_explicit\" : track[\"explicit\"],\n",
    "        **{\n",
    "            \"track_\" + key:value \n",
    "            for key, value in spotify.audio_features([track[\"id\"]])[0].items()\n",
    "        },\n",
    "        \"album_name\" : track[\"album\"][\"name\"],\n",
    "        \"album_release_timestamp\" : pd.to_datetime(track[\"album\"][\"release_date\"]).timestamp(),\n",
    "        \"album_id\" : track[\"album\"][\"id\"],\n",
    "        \"artist_id\" : track[\"artists\"][0][\"id\"],\n",
    "        \"artist_name\" : track[\"artists\"][0][\"name\"],\n",
    "        \"playlist_name\" : track[\"playlist_name\"],\n",
    "        \"playlist_id\" : track[\"playlist_id\"],\n",
    "        \"added_by\": track[\"added_by\"]\n",
    "    }\n",
    "    for track in WoofBeats_tracks\n",
    "]\n",
    "\n",
    "added_by_map = {\n",
    "    \"12167264510\" : \"Dakota\",\n",
    "    \"12145760918\" : \"Dan\"\n",
    "}\n",
    "\n",
    "for track in WoofBeats_tracks:\n",
    "    added_by = track[\"added_by\"]\n",
    "    track[\"added_by\"] = added_by_map[added_by] if added_by in added_by_map else added_by\n",
    "\n",
    "for track in WoofBeats_tracks:\n",
    "    for key in [\n",
    "        \"track_type\",\n",
    "        \"track_uri\",\n",
    "        \"track_track_href\",\n",
    "        \"track_analysis_url\",\n",
    "        ]:\n",
    "        del track[key]\n",
    "        \n",
    "WoofBeats_df = pd.DataFrame(WoofBeats_tracks)\n",
    "display(WoofBeats_df.info())\n",
    "display(WoofBeats_df.head())"
   ]
  },
  {
   "cell_type": "code",
   "execution_count": 5,
   "id": "d98ed3f6-1ab0-4c5b-b79e-7470ea42fae2",
   "metadata": {
    "tags": []
   },
   "outputs": [
    {
     "data": {
      "text/markdown": [
       "\n",
       "### Feature Summary: **track duration ms**  \n",
       " - Mean: 219500.299\n",
       " - Std: 68144.476\n",
       " - Range: 99289 - 662773\n",
       " - Width: 563484\n",
       "\n",
       "        "
      ],
      "text/plain": [
       "<IPython.core.display.Markdown object>"
      ]
     },
     "metadata": {},
     "output_type": "display_data"
    },
    {
     "data": {
      "image/png": "[encoded data removed]",
      "text/plain": [
       "<Figure size 432x288 with 1 Axes>"
      ]
     },
     "metadata": {
      "needs_background": "light"
     },
     "output_type": "display_data"
    },
    {
     "data": {
      "image/png": "[encoded data removed]",
      "text/plain": [
       "<Figure size 432x288 with 1 Axes>"
      ]
     },
     "metadata": {
      "needs_background": "light"
     },
     "output_type": "display_data"
    },
    {
     "data": {
      "text/markdown": [
       "\n",
       "### Feature Summary: **track popularity**  \n",
       " - Mean: 47.196\n",
       " - Std: 19.661\n",
       " - Range: 0 - 83\n",
       " - Width: 83\n",
       "\n",
       "        "
      ],
      "text/plain": [
       "<IPython.core.display.Markdown object>"
      ]
     },
     "metadata": {},
     "output_type": "display_data"
    },
    {
     "data": {
      "image/png": "[encoded data removed]",
      "text/plain": [
       "<Figure size 432x288 with 1 Axes>"
      ]
     },
     "metadata": {
      "needs_background": "light"
     },
     "output_type": "display_data"
    },
    {
     "data": {
      "image/png": "[encoded data removed]",
      "text/plain": [
       "<Figure size 432x288 with 1 Axes>"
      ]
     },
     "metadata": {
      "needs_background": "light"
     },
     "output_type": "display_data"
    },
    {
     "data": {
      "text/markdown": [
       "\n",
       "### Feature Summary: **track danceability**  \n",
       " - Mean: 0.642\n",
       " - Std: 0.143\n",
       " - Range: 0.229 - 0.964\n",
       " - Width: 0.735\n",
       "\n",
       "        "
      ],
      "text/plain": [
       "<IPython.core.display.Markdown object>"
      ]
     },
     "metadata": {},
     "output_type": "display_data"
    },
    {
     "data": {
      "image/png": "[encoded data removed]",
      "text/plain": [
       "<Figure size 432x288 with 1 Axes>"
      ]
     },
     "metadata": {
      "needs_background": "light"
     },
     "output_type": "display_data"
    },
    {
     "data": {
      "image/png": "[encoded data removed]",
      "text/plain": [
       "<Figure size 432x288 with 1 Axes>"
      ]
     },
     "metadata": {
      "needs_background": "light"
     },
     "output_type": "display_data"
    },
    {
     "data": {
      "text/markdown": [
       "\n",
       "### Feature Summary: **track energy**  \n",
       " - Mean: 0.689\n",
       " - Std: 0.153\n",
       " - Range: 0.221 - 0.981\n",
       " - Width: 0.76\n",
       "\n",
       "        "
      ],
      "text/plain": [
       "<IPython.core.display.Markdown object>"
      ]
     },
     "metadata": {},
     "output_type": "display_data"
    },
    {
     "data": {
      "image/png": "[encoded data removed]",
      "text/plain": [
       "<Figure size 432x288 with 1 Axes>"
      ]
     },
     "metadata": {
      "needs_background": "light"
     },
     "output_type": "display_data"
    },
    {
     "data": {
      "image/png": "[encoded data removed]",
      "text/plain": [
       "<Figure size 432x288 with 1 Axes>"
      ]
     },
     "metadata": {
      "needs_background": "light"
     },
     "output_type": "display_data"
    },
    {
     "data": {
      "text/markdown": [
       "\n",
       "### Feature Summary: **track key**  \n",
       " - Mean: 5.386\n",
       " - Std: 3.472\n",
       " - Range: 0 - 11\n",
       " - Width: 11\n",
       "\n",
       "        "
      ],
      "text/plain": [
       "<IPython.core.display.Markdown object>"
      ]
     },
     "metadata": {},
     "output_type": "display_data"
    },
    {
     "data": {
      "image/png": "[encoded data removed]",
      "text/plain": [
       "<Figure size 432x288 with 1 Axes>"
      ]
     },
     "metadata": {
      "needs_background": "light"
     },
     "output_type": "display_data"
    },
    {
     "data": {
      "image/png": "[encoded data removed]",
      "text/plain": [
       "<Figure size 432x288 with 1 Axes>"
      ]
     },
     "metadata": {
      "needs_background": "light"
     },
     "output_type": "display_data"
    },
    {
     "data": {
      "text/markdown": [
       "\n",
       "### Feature Summary: **track loudness**  \n",
       " - Mean: -6.352\n",
       " - Std: 2.208\n",
       " - Range: -14.431 - -0.868\n",
       " - Width: 13.563\n",
       "\n",
       "        "
      ],
      "text/plain": [
       "<IPython.core.display.Markdown object>"
      ]
     },
     "metadata": {},
     "output_type": "display_data"
    },
    {
     "data": {
      "image/png": "[encoded data removed]",
      "text/plain": [
       "<Figure size 432x288 with 1 Axes>"
      ]
     },
     "metadata": {
      "needs_background": "light"
     },
     "output_type": "display_data"
    },
    {
     "data": {
      "image/png": "[encoded data removed]",
      "text/plain": [
       "<Figure size 432x288 with 1 Axes>"
      ]
     },
     "metadata": {
      "needs_background": "light"
     },
     "output_type": "display_data"
    },
    {
     "data": {
      "text/markdown": [
       "\n",
       "### Feature Summary: **track mode**  \n",
       " - Mean: 0.561\n",
       " - Std: 0.497\n",
       " - Range: 0 - 1\n",
       " - Width: 1\n",
       "\n",
       "        "
      ],
      "text/plain": [
       "<IPython.core.display.Markdown object>"
      ]
     },
     "metadata": {},
     "output_type": "display_data"
    },
    {
     "data": {
      "image/png": "[encoded data removed]",
      "text/plain": [
       "<Figure size 432x288 with 1 Axes>"
      ]
     },
     "metadata": {
      "needs_background": "light"
     },
     "output_type": "display_data"
    },
    {
     "data": {
      "image/png": "[encoded data removed]",
      "text/plain": [
       "<Figure size 432x288 with 1 Axes>"
      ]
     },
     "metadata": {
      "needs_background": "light"
     },
     "output_type": "display_data"
    },
    {
     "data": {
      "text/markdown": [
       "\n",
       "### Feature Summary: **track speechiness**  \n",
       " - Mean: 0.153\n",
       " - Std: 0.128\n",
       " - Range: 0.026 - 0.545\n",
       " - Width: 0.519\n",
       "\n",
       "        "
      ],
      "text/plain": [
       "<IPython.core.display.Markdown object>"
      ]
     },
     "metadata": {},
     "output_type": "display_data"
    },
    {
     "data": {
      "image/png": "[encoded data removed]",
      "text/plain": [
       "<Figure size 432x288 with 1 Axes>"
      ]
     },
     "metadata": {
      "needs_background": "light"
     },
     "output_type": "display_data"
    },
    {
     "data": {
      "image/png": "[encoded data removed]",
      "text/plain": [
       "<Figure size 432x288 with 1 Axes>"
      ]
     },
     "metadata": {
      "needs_background": "light"
     },
     "output_type": "display_data"
    },
    {
     "data": {
      "text/markdown": [
       "\n",
       "### Feature Summary: **track acousticness**  \n",
       " - Mean: 0.169\n",
       " - Std: 0.195\n",
       " - Range: 0.0 - 0.923\n",
       " - Width: 0.923\n",
       "\n",
       "        "
      ],
      "text/plain": [
       "<IPython.core.display.Markdown object>"
      ]
     },
     "metadata": {},
     "output_type": "display_data"
    },
    {
     "data": {
      "image/png": "[encoded data removed]",
      "text/plain": [
       "<Figure size 432x288 with 1 Axes>"
      ]
     },
     "metadata": {
      "needs_background": "light"
     },
     "output_type": "display_data"
    },
    {
     "data": {
      "image/png": "[encoded data removed]",
      "text/plain": [
       "<Figure size 432x288 with 1 Axes>"
      ]
     },
     "metadata": {
      "needs_background": "light"
     },
     "output_type": "display_data"
    },
    {
     "data": {
      "text/markdown": [
       "\n",
       "### Feature Summary: **track instrumentalness**  \n",
       " - Mean: 0.039\n",
       " - Std: 0.143\n",
       " - Range: 0.0 - 0.911\n",
       " - Width: 0.911\n",
       "\n",
       "        "
      ],
      "text/plain": [
       "<IPython.core.display.Markdown object>"
      ]
     },
     "metadata": {},
     "output_type": "display_data"
    },
    {
     "data": {
      "image/png": "[encoded data removed]",
      "text/plain": [
       "<Figure size 432x288 with 1 Axes>"
      ]
     },
     "metadata": {
      "needs_background": "light"
     },
     "output_type": "display_data"
    },
    {
     "data": {
      "image/png": "[encoded data removed]",
      "text/plain": [
       "<Figure size 432x288 with 1 Axes>"
      ]
     },
     "metadata": {
      "needs_background": "light"
     },
     "output_type": "display_data"
    },
    {
     "data": {
      "text/markdown": [
       "\n",
       "### Feature Summary: **track liveness**  \n",
       " - Mean: 0.216\n",
       " - Std: 0.163\n",
       " - Range: 0.026 - 0.821\n",
       " - Width: 0.795\n",
       "\n",
       "        "
      ],
      "text/plain": [
       "<IPython.core.display.Markdown object>"
      ]
     },
     "metadata": {},
     "output_type": "display_data"
    },
    {
     "data": {
      "image/png": "[encoded data removed]",
      "text/plain": [
       "<Figure size 432x288 with 1 Axes>"
      ]
     },
     "metadata": {
      "needs_background": "light"
     },
     "output_type": "display_data"
    },
    {
     "data": {
      "image/png": "[encoded data removed]",
      "text/plain": [
       "<Figure size 432x288 with 1 Axes>"
      ]
     },
     "metadata": {
      "needs_background": "light"
     },
     "output_type": "display_data"
    },
    {
     "data": {
      "text/markdown": [
       "\n",
       "### Feature Summary: **track valence**  \n",
       " - Mean: 0.517\n",
       " - Std: 0.22\n",
       " - Range: 0.037 - 0.968\n",
       " - Width: 0.931\n",
       "\n",
       "        "
      ],
      "text/plain": [
       "<IPython.core.display.Markdown object>"
      ]
     },
     "metadata": {},
     "output_type": "display_data"
    },
    {
     "data": {
      "image/png": "[encoded data removed]",
      "text/plain": [
       "<Figure size 432x288 with 1 Axes>"
      ]
     },
     "metadata": {
      "needs_background": "light"
     },
     "output_type": "display_data"
    },
    {
     "data": {
      "image/png": "[encoded data removed]",
      "text/plain": [
       "<Figure size 432x288 with 1 Axes>"
      ]
     },
     "metadata": {
      "needs_background": "light"
     },
     "output_type": "display_data"
    },
    {
     "data": {
      "text/markdown": [
       "\n",
       "### Feature Summary: **track tempo**  \n",
       " - Mean: 120.168\n",
       " - Std: 30.954\n",
       " - Range: 64.474 - 206.68\n",
       " - Width: 142.206\n",
       "\n",
       "        "
      ],
      "text/plain": [
       "<IPython.core.display.Markdown object>"
      ]
     },
     "metadata": {},
     "output_type": "display_data"
    },
    {
     "data": {
      "image/png": "[encoded data removed]",
      "text/plain": [
       "<Figure size 432x288 with 1 Axes>"
      ]
     },
     "metadata": {
      "needs_background": "light"
     },
     "output_type": "display_data"
    },
    {
     "data": {
      "image/png": "[encoded data removed]",
      "text/plain": [
       "<Figure size 432x288 with 1 Axes>"
      ]
     },
     "metadata": {
      "needs_background": "light"
     },
     "output_type": "display_data"
    },
    {
     "data": {
      "text/markdown": [
       "\n",
       "### Feature Summary: **track time signature**  \n",
       " - Mean: 3.984\n",
       " - Std: 0.205\n",
       " - Range: 3 - 5\n",
       " - Width: 2\n",
       "\n",
       "        "
      ],
      "text/plain": [
       "<IPython.core.display.Markdown object>"
      ]
     },
     "metadata": {},
     "output_type": "display_data"
    },
    {
     "data": {
      "image/png": "[encoded data removed]",
      "text/plain": [
       "<Figure size 432x288 with 1 Axes>"
      ]
     },
     "metadata": {
      "needs_background": "light"
     },
     "output_type": "display_data"
    },
    {
     "data": {
      "image/png": "[encoded data removed]",
      "text/plain": [
       "<Figure size 432x288 with 1 Axes>"
      ]
     },
     "metadata": {
      "needs_background": "light"
     },
     "output_type": "display_data"
    },
    {
     "data": {
      "text/markdown": [
       "\n",
       "### Feature Summary: **album release timestamp**  \n",
       " - Mean: 1450263085.714\n",
       " - Std: 282709959.663\n",
       " - Range: -100310400.0 - 1637539200.0\n",
       " - Width: 1737849600.0\n",
       "\n",
       "        "
      ],
      "text/plain": [
       "<IPython.core.display.Markdown object>"
      ]
     },
     "metadata": {},
     "output_type": "display_data"
    },
    {
     "data": {
      "image/png": "[encoded data removed]",
      "text/plain": [
       "<Figure size 432x288 with 1 Axes>"
      ]
     },
     "metadata": {
      "needs_background": "light"
     },
     "output_type": "display_data"
    },
    {
     "data": {
      "image/png": "[encoded data removed]",
      "text/plain": [
       "<Figure size 432x288 with 1 Axes>"
      ]
     },
     "metadata": {
      "needs_background": "light"
     },
     "output_type": "display_data"
    }
   ],
   "source": [
    "plt.rcParams[\"figure.figsize\"] = (8,4)\n",
    "for col in WoofBeats_df.columns:\n",
    "    if type(WoofBeats_df[col][0]) in [np.float64, np.int64]:\n",
    "        displaym(\"\"\"\n",
    "### Feature Summary: **{}**  \n",
    " - Mean: {}\n",
    " - Std: {}\n",
    " - Range: {} - {}\n",
    " - Width: {}\n",
    "\n",
    "        \"\"\".format(\n",
    "            col.replace(\"_\",\" \"),\n",
    "            round(WoofBeats_df[col].mean(),3),\n",
    "            round(WoofBeats_df[col].std(),3),\n",
    "            round(min(WoofBeats_df[col]),3),\n",
    "            round(max(WoofBeats_df[col]),3),\n",
    "            round(max(WoofBeats_df[col]) - min(WoofBeats_df[col]),3)\n",
    "        ))\n",
    "        WoofBeats_df[col].plot.hist()\n",
    "        plt.show()\n",
    "        WoofBeats_df.boxplot(col)\n",
    "        plt.show()"
   ]
  },
  {
   "cell_type": "code",
   "execution_count": 6,
   "id": "4e4bb38d-9987-4c32-bb61-11a7d7ff3721",
   "metadata": {
    "tags": []
   },
   "outputs": [
    {
     "data": {
      "text/markdown": [
       "\n",
       "### Feature Summary: **album name**  \n",
       " - Most Common: Complicate Your Life with Violence\n",
       " - Least Common: u and me, but mostly me (deluxe)\n",
       "    "
      ],
      "text/plain": [
       "<IPython.core.display.Markdown object>"
      ]
     },
     "metadata": {},
     "output_type": "display_data"
    },
    {
     "data": {
      "text/html": [
       "<div>\n",
       "<style scoped>\n",
       "    .dataframe tbody tr th:only-of-type {\n",
       "        vertical-align: middle;\n",
       "    }\n",
       "\n",
       "    .dataframe tbody tr th {\n",
       "        vertical-align: top;\n",
       "    }\n",
       "\n",
       "    .dataframe thead th {\n",
       "        text-align: right;\n",
       "    }\n",
       "</style>\n",
       "<table border=\"1\" class=\"dataframe\">\n",
       "  <thead>\n",
       "    <tr style=\"text-align: right;\">\n",
       "      <th></th>\n",
       "      <th>0</th>\n",
       "    </tr>\n",
       "    <tr>\n",
       "      <th>album_name</th>\n",
       "      <th></th>\n",
       "    </tr>\n",
       "  </thead>\n",
       "  <tbody>\n",
       "    <tr>\n",
       "      <th>Complicate Your Life with Violence</th>\n",
       "      <td>3</td>\n",
       "    </tr>\n",
       "    <tr>\n",
       "      <th>Operation: Wake Up</th>\n",
       "      <td>3</td>\n",
       "    </tr>\n",
       "    <tr>\n",
       "      <th>Sensational</th>\n",
       "      <td>3</td>\n",
       "    </tr>\n",
       "    <tr>\n",
       "      <th>Ugly is Beautiful</th>\n",
       "      <td>3</td>\n",
       "    </tr>\n",
       "    <tr>\n",
       "      <th>Gooey</th>\n",
       "      <td>3</td>\n",
       "    </tr>\n",
       "  </tbody>\n",
       "</table>\n",
       "</div>"
      ],
      "text/plain": [
       "                                    0\n",
       "album_name                           \n",
       "Complicate Your Life with Violence  3\n",
       "Operation: Wake Up                  3\n",
       "Sensational                         3\n",
       "Ugly is Beautiful                   3\n",
       "Gooey                               3"
      ]
     },
     "metadata": {},
     "output_type": "display_data"
    },
    {
     "data": {
      "text/markdown": [
       "\n",
       "### Feature Summary: **artist name**  \n",
       " - Most Common: Yung Gravy\n",
       " - Least Common: slowthai\n",
       "    "
      ],
      "text/plain": [
       "<IPython.core.display.Markdown object>"
      ]
     },
     "metadata": {},
     "output_type": "display_data"
    },
    {
     "data": {
      "text/html": [
       "<div>\n",
       "<style scoped>\n",
       "    .dataframe tbody tr th:only-of-type {\n",
       "        vertical-align: middle;\n",
       "    }\n",
       "\n",
       "    .dataframe tbody tr th {\n",
       "        vertical-align: top;\n",
       "    }\n",
       "\n",
       "    .dataframe thead th {\n",
       "        text-align: right;\n",
       "    }\n",
       "</style>\n",
       "<table border=\"1\" class=\"dataframe\">\n",
       "  <thead>\n",
       "    <tr style=\"text-align: right;\">\n",
       "      <th></th>\n",
       "      <th>0</th>\n",
       "    </tr>\n",
       "    <tr>\n",
       "      <th>artist_name</th>\n",
       "      <th></th>\n",
       "    </tr>\n",
       "  </thead>\n",
       "  <tbody>\n",
       "    <tr>\n",
       "      <th>Yung Gravy</th>\n",
       "      <td>10</td>\n",
       "    </tr>\n",
       "    <tr>\n",
       "      <th>A$AP Rocky</th>\n",
       "      <td>9</td>\n",
       "    </tr>\n",
       "    <tr>\n",
       "      <th>Mac Miller</th>\n",
       "      <td>7</td>\n",
       "    </tr>\n",
       "    <tr>\n",
       "      <th>Glass Animals</th>\n",
       "      <td>6</td>\n",
       "    </tr>\n",
       "    <tr>\n",
       "      <th>Eminem</th>\n",
       "      <td>6</td>\n",
       "    </tr>\n",
       "  </tbody>\n",
       "</table>\n",
       "</div>"
      ],
      "text/plain": [
       "                0\n",
       "artist_name      \n",
       "Yung Gravy     10\n",
       "A$AP Rocky      9\n",
       "Mac Miller      7\n",
       "Glass Animals   6\n",
       "Eminem          6"
      ]
     },
     "metadata": {},
     "output_type": "display_data"
    },
    {
     "data": {
      "text/markdown": [
       "\n",
       "### Feature Summary: **playlist name**  \n",
       " - Most Common: WoofBeats-2021-01\n",
       " - Least Common: WoofBeats-2021-11\n",
       "    "
      ],
      "text/plain": [
       "<IPython.core.display.Markdown object>"
      ]
     },
     "metadata": {},
     "output_type": "display_data"
    },
    {
     "data": {
      "text/html": [
       "<div>\n",
       "<style scoped>\n",
       "    .dataframe tbody tr th:only-of-type {\n",
       "        vertical-align: middle;\n",
       "    }\n",
       "\n",
       "    .dataframe tbody tr th {\n",
       "        vertical-align: top;\n",
       "    }\n",
       "\n",
       "    .dataframe thead th {\n",
       "        text-align: right;\n",
       "    }\n",
       "</style>\n",
       "<table border=\"1\" class=\"dataframe\">\n",
       "  <thead>\n",
       "    <tr style=\"text-align: right;\">\n",
       "      <th></th>\n",
       "      <th>0</th>\n",
       "    </tr>\n",
       "    <tr>\n",
       "      <th>playlist_name</th>\n",
       "      <th></th>\n",
       "    </tr>\n",
       "  </thead>\n",
       "  <tbody>\n",
       "    <tr>\n",
       "      <th>WoofBeats-2021-01</th>\n",
       "      <td>56</td>\n",
       "    </tr>\n",
       "    <tr>\n",
       "      <th>WoofBeats-2021-04</th>\n",
       "      <td>50</td>\n",
       "    </tr>\n",
       "    <tr>\n",
       "      <th>WoofBeats-2020-12</th>\n",
       "      <td>46</td>\n",
       "    </tr>\n",
       "    <tr>\n",
       "      <th>WoofBeats-2021-02</th>\n",
       "      <td>45</td>\n",
       "    </tr>\n",
       "    <tr>\n",
       "      <th>WoofBeats-2021-03</th>\n",
       "      <td>38</td>\n",
       "    </tr>\n",
       "  </tbody>\n",
       "</table>\n",
       "</div>"
      ],
      "text/plain": [
       "                    0\n",
       "playlist_name        \n",
       "WoofBeats-2021-01  56\n",
       "WoofBeats-2021-04  50\n",
       "WoofBeats-2020-12  46\n",
       "WoofBeats-2021-02  45\n",
       "WoofBeats-2021-03  38"
      ]
     },
     "metadata": {},
     "output_type": "display_data"
    },
    {
     "data": {
      "image/png": "[encoded data removed]",
      "text/plain": [
       "<Figure size 576x288 with 1 Axes>"
      ]
     },
     "metadata": {
      "needs_background": "light"
     },
     "output_type": "display_data"
    },
    {
     "data": {
      "text/markdown": [
       "\n",
       "### Feature Summary: **added by**  \n",
       " - Most Common: davidmimorton\n",
       " - Least Common: beet1eman\n",
       "    "
      ],
      "text/plain": [
       "<IPython.core.display.Markdown object>"
      ]
     },
     "metadata": {},
     "output_type": "display_data"
    },
    {
     "data": {
      "text/html": [
       "<div>\n",
       "<style scoped>\n",
       "    .dataframe tbody tr th:only-of-type {\n",
       "        vertical-align: middle;\n",
       "    }\n",
       "\n",
       "    .dataframe tbody tr th {\n",
       "        vertical-align: top;\n",
       "    }\n",
       "\n",
       "    .dataframe thead th {\n",
       "        text-align: right;\n",
       "    }\n",
       "</style>\n",
       "<table border=\"1\" class=\"dataframe\">\n",
       "  <thead>\n",
       "    <tr style=\"text-align: right;\">\n",
       "      <th></th>\n",
       "      <th>0</th>\n",
       "    </tr>\n",
       "    <tr>\n",
       "      <th>added_by</th>\n",
       "      <th></th>\n",
       "    </tr>\n",
       "  </thead>\n",
       "  <tbody>\n",
       "    <tr>\n",
       "      <th>davidmimorton</th>\n",
       "      <td>135</td>\n",
       "    </tr>\n",
       "    <tr>\n",
       "      <th>Dan</th>\n",
       "      <td>121</td>\n",
       "    </tr>\n",
       "    <tr>\n",
       "      <th>Dakota</th>\n",
       "      <td>118</td>\n",
       "    </tr>\n",
       "    <tr>\n",
       "      <th>1243264703</th>\n",
       "      <td>2</td>\n",
       "    </tr>\n",
       "    <tr>\n",
       "      <th>beet1eman</th>\n",
       "      <td>2</td>\n",
       "    </tr>\n",
       "  </tbody>\n",
       "</table>\n",
       "</div>"
      ],
      "text/plain": [
       "                 0\n",
       "added_by          \n",
       "davidmimorton  135\n",
       "Dan            121\n",
       "Dakota         118\n",
       "1243264703       2\n",
       "beet1eman        2"
      ]
     },
     "metadata": {},
     "output_type": "display_data"
    },
    {
     "data": {
      "image/png": "[encoded data removed]",
      "text/plain": [
       "<Figure size 576x288 with 1 Axes>"
      ]
     },
     "metadata": {
      "needs_background": "light"
     },
     "output_type": "display_data"
    }
   ],
   "source": [
    "plt.rcParams[\"figure.figsize\"] = (8,4)\n",
    "\n",
    "categorical_features = [\n",
    "    \"album_name\",\n",
    "    \"artist_name\",\n",
    "    \"playlist_name\",\n",
    "    \"added_by\"\n",
    "]\n",
    "\n",
    "for col in categorical_features:\n",
    "    sorted_categories = WoofBeats_df[[col]].groupby(col) \\\n",
    "            .size() \\\n",
    "            .sort_values(ascending=False) \\\n",
    "            .reset_index(col) \\\n",
    "            .set_index(col)\n",
    "    \n",
    "    displaym(\"\"\"\n",
    "### Feature Summary: **{}**  \n",
    " - Most Common: {}\n",
    " - Least Common: {}\n",
    "    \"\"\".format(\n",
    "        col.replace(\"_\",\" \"),\n",
    "        sorted_categories.index[0],\n",
    "        sorted_categories.index[len(sorted_categories.index)-1]\n",
    "    ))\n",
    "    display(sorted_categories.head())\n",
    "    if col in [\"added_by\", \"playlist_name\"]:\n",
    "        sorted_categories.plot.bar()\n",
    "        plt.show()\n",
    "    \n"
   ]
  },
  {
   "cell_type": "markdown",
   "id": "bfc5ae3d-0c52-49ec-a035-1dd80bb65b6d",
   "metadata": {},
   "source": [
    "# Standardize Numerical Features and Apply PCA Dimension Reduction"
   ]
  },
  {
   "cell_type": "code",
   "execution_count": 7,
   "id": "2fe3ca1d-c38d-4763-927f-c42ed53ff450",
   "metadata": {},
   "outputs": [
    {
     "data": {
      "text/html": [
       "<div>\n",
       "<style scoped>\n",
       "    .dataframe tbody tr th:only-of-type {\n",
       "        vertical-align: middle;\n",
       "    }\n",
       "\n",
       "    .dataframe tbody tr th {\n",
       "        vertical-align: top;\n",
       "    }\n",
       "\n",
       "    .dataframe thead th {\n",
       "        text-align: right;\n",
       "    }\n",
       "</style>\n",
       "<table border=\"1\" class=\"dataframe\">\n",
       "  <thead>\n",
       "    <tr style=\"text-align: right;\">\n",
       "      <th></th>\n",
       "      <th>0</th>\n",
       "      <th>1</th>\n",
       "      <th>2</th>\n",
       "      <th>3</th>\n",
       "      <th>4</th>\n",
       "      <th>5</th>\n",
       "      <th>6</th>\n",
       "      <th>7</th>\n",
       "      <th>8</th>\n",
       "      <th>9</th>\n",
       "    </tr>\n",
       "    <tr>\n",
       "      <th>track_id</th>\n",
       "      <th></th>\n",
       "      <th></th>\n",
       "      <th></th>\n",
       "      <th></th>\n",
       "      <th></th>\n",
       "      <th></th>\n",
       "      <th></th>\n",
       "      <th></th>\n",
       "      <th></th>\n",
       "      <th></th>\n",
       "    </tr>\n",
       "  </thead>\n",
       "  <tbody>\n",
       "    <tr>\n",
       "      <th>7Fk0zNC7vGdoDwePPgByKh</th>\n",
       "      <td>0.634910</td>\n",
       "      <td>0.828876</td>\n",
       "      <td>-0.066049</td>\n",
       "      <td>-0.997240</td>\n",
       "      <td>-1.749069</td>\n",
       "      <td>-0.209443</td>\n",
       "      <td>-0.591554</td>\n",
       "      <td>0.216209</td>\n",
       "      <td>1.037167</td>\n",
       "      <td>0.121346</td>\n",
       "    </tr>\n",
       "    <tr>\n",
       "      <th>32YOyb6WzKcHHWOPNBndvL</th>\n",
       "      <td>-1.491637</td>\n",
       "      <td>2.497890</td>\n",
       "      <td>-0.570859</td>\n",
       "      <td>1.346839</td>\n",
       "      <td>-0.419515</td>\n",
       "      <td>0.478721</td>\n",
       "      <td>-0.042521</td>\n",
       "      <td>0.332343</td>\n",
       "      <td>-0.809837</td>\n",
       "      <td>1.661732</td>\n",
       "    </tr>\n",
       "    <tr>\n",
       "      <th>0ssRH9I8P7X7tawJQiIhzE</th>\n",
       "      <td>-0.506023</td>\n",
       "      <td>-0.695315</td>\n",
       "      <td>-0.751912</td>\n",
       "      <td>-0.773873</td>\n",
       "      <td>-0.148652</td>\n",
       "      <td>0.264535</td>\n",
       "      <td>-0.942264</td>\n",
       "      <td>1.024014</td>\n",
       "      <td>-0.706184</td>\n",
       "      <td>-0.601408</td>\n",
       "    </tr>\n",
       "    <tr>\n",
       "      <th>2KUyYDas5sAAulThIiZBO5</th>\n",
       "      <td>-0.675438</td>\n",
       "      <td>-2.403172</td>\n",
       "      <td>-0.288253</td>\n",
       "      <td>0.526675</td>\n",
       "      <td>-0.126717</td>\n",
       "      <td>-0.324010</td>\n",
       "      <td>-0.076012</td>\n",
       "      <td>1.161829</td>\n",
       "      <td>1.228430</td>\n",
       "      <td>1.092821</td>\n",
       "    </tr>\n",
       "    <tr>\n",
       "      <th>3sN85u5M7FoMmHa8E2aViO</th>\n",
       "      <td>1.539195</td>\n",
       "      <td>-2.252992</td>\n",
       "      <td>-0.753785</td>\n",
       "      <td>-0.460625</td>\n",
       "      <td>-0.260324</td>\n",
       "      <td>-0.277079</td>\n",
       "      <td>-0.087617</td>\n",
       "      <td>-1.310181</td>\n",
       "      <td>-0.892559</td>\n",
       "      <td>-0.444473</td>\n",
       "    </tr>\n",
       "    <tr>\n",
       "      <th>...</th>\n",
       "      <td>...</td>\n",
       "      <td>...</td>\n",
       "      <td>...</td>\n",
       "      <td>...</td>\n",
       "      <td>...</td>\n",
       "      <td>...</td>\n",
       "      <td>...</td>\n",
       "      <td>...</td>\n",
       "      <td>...</td>\n",
       "      <td>...</td>\n",
       "    </tr>\n",
       "    <tr>\n",
       "      <th>42zd6DYQ4o4SECmTITrM1U</th>\n",
       "      <td>-0.213143</td>\n",
       "      <td>-1.046274</td>\n",
       "      <td>1.610563</td>\n",
       "      <td>-0.311398</td>\n",
       "      <td>0.966565</td>\n",
       "      <td>-0.547223</td>\n",
       "      <td>-0.907183</td>\n",
       "      <td>1.233265</td>\n",
       "      <td>0.088414</td>\n",
       "      <td>-1.412376</td>\n",
       "    </tr>\n",
       "    <tr>\n",
       "      <th>1qwMkkRiD5jqLeUUjfgblh</th>\n",
       "      <td>-0.626058</td>\n",
       "      <td>-2.107663</td>\n",
       "      <td>-0.489919</td>\n",
       "      <td>-0.637107</td>\n",
       "      <td>0.325701</td>\n",
       "      <td>-0.107457</td>\n",
       "      <td>-0.889775</td>\n",
       "      <td>0.803272</td>\n",
       "      <td>0.170915</td>\n",
       "      <td>0.681879</td>\n",
       "    </tr>\n",
       "    <tr>\n",
       "      <th>41LmqBEQojWdLobJyf2xjG</th>\n",
       "      <td>-0.437914</td>\n",
       "      <td>0.603801</td>\n",
       "      <td>0.918450</td>\n",
       "      <td>-0.073656</td>\n",
       "      <td>0.531739</td>\n",
       "      <td>-3.500676</td>\n",
       "      <td>0.797500</td>\n",
       "      <td>-0.851794</td>\n",
       "      <td>-1.814918</td>\n",
       "      <td>3.534617</td>\n",
       "    </tr>\n",
       "    <tr>\n",
       "      <th>4otVP2TcJliXWq2GjkvWkR</th>\n",
       "      <td>0.733878</td>\n",
       "      <td>-1.286248</td>\n",
       "      <td>-0.439236</td>\n",
       "      <td>-0.658878</td>\n",
       "      <td>-1.815403</td>\n",
       "      <td>0.329927</td>\n",
       "      <td>0.809459</td>\n",
       "      <td>-0.562220</td>\n",
       "      <td>-0.444885</td>\n",
       "      <td>-0.794213</td>\n",
       "    </tr>\n",
       "    <tr>\n",
       "      <th>3c5Og78p3plOCBbNLg5K9L</th>\n",
       "      <td>1.376864</td>\n",
       "      <td>1.532386</td>\n",
       "      <td>-1.188735</td>\n",
       "      <td>-0.163665</td>\n",
       "      <td>0.518422</td>\n",
       "      <td>-1.378123</td>\n",
       "      <td>-1.518686</td>\n",
       "      <td>-0.849919</td>\n",
       "      <td>0.979050</td>\n",
       "      <td>0.230317</td>\n",
       "    </tr>\n",
       "  </tbody>\n",
       "</table>\n",
       "<p>378 rows × 10 columns</p>\n",
       "</div>"
      ],
      "text/plain": [
       "                               0         1         2         3         4  \\\n",
       "track_id                                                                   \n",
       "7Fk0zNC7vGdoDwePPgByKh  0.634910  0.828876 -0.066049 -0.997240 -1.749069   \n",
       "32YOyb6WzKcHHWOPNBndvL -1.491637  2.497890 -0.570859  1.346839 -0.419515   \n",
       "0ssRH9I8P7X7tawJQiIhzE -0.506023 -0.695315 -0.751912 -0.773873 -0.148652   \n",
       "2KUyYDas5sAAulThIiZBO5 -0.675438 -2.403172 -0.288253  0.526675 -0.126717   \n",
       "3sN85u5M7FoMmHa8E2aViO  1.539195 -2.252992 -0.753785 -0.460625 -0.260324   \n",
       "...                          ...       ...       ...       ...       ...   \n",
       "42zd6DYQ4o4SECmTITrM1U -0.213143 -1.046274  1.610563 -0.311398  0.966565   \n",
       "1qwMkkRiD5jqLeUUjfgblh -0.626058 -2.107663 -0.489919 -0.637107  0.325701   \n",
       "41LmqBEQojWdLobJyf2xjG -0.437914  0.603801  0.918450 -0.073656  0.531739   \n",
       "4otVP2TcJliXWq2GjkvWkR  0.733878 -1.286248 -0.439236 -0.658878 -1.815403   \n",
       "3c5Og78p3plOCBbNLg5K9L  1.376864  1.532386 -1.188735 -0.163665  0.518422   \n",
       "\n",
       "                               5         6         7         8         9  \n",
       "track_id                                                                  \n",
       "7Fk0zNC7vGdoDwePPgByKh -0.209443 -0.591554  0.216209  1.037167  0.121346  \n",
       "32YOyb6WzKcHHWOPNBndvL  0.478721 -0.042521  0.332343 -0.809837  1.661732  \n",
       "0ssRH9I8P7X7tawJQiIhzE  0.264535 -0.942264  1.024014 -0.706184 -0.601408  \n",
       "2KUyYDas5sAAulThIiZBO5 -0.324010 -0.076012  1.161829  1.228430  1.092821  \n",
       "3sN85u5M7FoMmHa8E2aViO -0.277079 -0.087617 -1.310181 -0.892559 -0.444473  \n",
       "...                          ...       ...       ...       ...       ...  \n",
       "42zd6DYQ4o4SECmTITrM1U -0.547223 -0.907183  1.233265  0.088414 -1.412376  \n",
       "1qwMkkRiD5jqLeUUjfgblh -0.107457 -0.889775  0.803272  0.170915  0.681879  \n",
       "41LmqBEQojWdLobJyf2xjG -3.500676  0.797500 -0.851794 -1.814918  3.534617  \n",
       "4otVP2TcJliXWq2GjkvWkR  0.329927  0.809459 -0.562220 -0.444885 -0.794213  \n",
       "3c5Og78p3plOCBbNLg5K9L -1.378123 -1.518686 -0.849919  0.979050  0.230317  \n",
       "\n",
       "[378 rows x 10 columns]"
      ]
     },
     "execution_count": 7,
     "metadata": {},
     "output_type": "execute_result"
    },
    {
     "data": {
      "image/png": "[encoded data removed]",
      "text/plain": [
       "<Figure size 1008x288 with 1 Axes>"
      ]
     },
     "metadata": {
      "needs_background": "light"
     },
     "output_type": "display_data"
    }
   ],
   "source": [
    "plt.rcParams[\"figure.figsize\"] = (14,4)\n",
    "\n",
    "numerical_features = [\n",
    "    \"track_duration_ms\",\n",
    "    \"track_popularity\",\n",
    "    \"track_explicit\",\n",
    "    \"track_danceability\",\n",
    "    \"track_energy\",\n",
    "    \"track_key\",\n",
    "    \"track_loudness\",\n",
    "    \"track_mode\",\n",
    "    \"track_speechiness\",\n",
    "    \"track_acousticness\",\n",
    "    \"track_instrumentalness\",\n",
    "    \"track_liveness\",\n",
    "    \"track_valence\",\n",
    "    \"track_tempo\",\n",
    "    \"track_time_signature\",\n",
    "    \"album_release_timestamp\"\n",
    "] \n",
    "    \n",
    "standardized_numerical_features = WoofBeats_df[numerical_features].apply(zscore)\n",
    "\n",
    "pca = PCA(n_components=standardized_numerical_features.shape[1])\n",
    "pca.fit(standardized_numerical_features)\n",
    "\n",
    "reduced_numerical_features = pd.DataFrame(\n",
    "    pca.transform(standardized_numerical_features),\n",
    "    index=WoofBeats_df[\"track_id\"]\n",
    ")[[i for i, v in enumerate(pca.explained_variance_ratio_) if v > 0.05]]\n",
    "pd.DataFrame(pca.explained_variance_ratio_).plot.bar()\n",
    "reduced_numerical_features"
   ]
  },
  {
   "cell_type": "markdown",
   "id": "4999d34c-4469-46ed-aa86-37655886fce8",
   "metadata": {},
   "source": [
    "# Apply Clustering and Create **theRes/*.v001** Playlists"
   ]
  },
  {
   "cell_type": "code",
   "execution_count": 8,
   "id": "670c88c9-41e1-4f36-979b-77ed278bc33e",
   "metadata": {},
   "outputs": [
    {
     "data": {
      "image/png": "[encoded data removed]",
      "text/plain": [
       "<Figure size 1152x720 with 1 Axes>"
      ]
     },
     "metadata": {
      "needs_background": "light"
     },
     "output_type": "display_data"
    }
   ],
   "source": [
    "plt.rcParams[\"figure.figsize\"] = (16,10)\n",
    "model = AgglomerativeClustering(distance_threshold=0, n_clusters=None)\n",
    "model = model.fit(reduced_numerical_features)\n",
    "plot_dendrogram(model, truncate_mode=\"level\", p=6)\n",
    "model = AgglomerativeClustering(n_clusters=6)\n",
    "model = model.fit(reduced_numerical_features)"
   ]
  },
  {
   "cell_type": "code",
   "execution_count": 9,
   "id": "da008182-77e6-4941-948e-3e33aa84182a",
   "metadata": {},
   "outputs": [
    {
     "data": {
      "text/html": [
       "<div>\n",
       "<style scoped>\n",
       "    .dataframe tbody tr th:only-of-type {\n",
       "        vertical-align: middle;\n",
       "    }\n",
       "\n",
       "    .dataframe tbody tr th {\n",
       "        vertical-align: top;\n",
       "    }\n",
       "\n",
       "    .dataframe thead th {\n",
       "        text-align: right;\n",
       "    }\n",
       "</style>\n",
       "<table border=\"1\" class=\"dataframe\">\n",
       "  <thead>\n",
       "    <tr style=\"text-align: right;\">\n",
       "      <th></th>\n",
       "      <th>theRes_playlist_id</th>\n",
       "      <th>track_id</th>\n",
       "      <th>track_name</th>\n",
       "      <th>track_duration_ms</th>\n",
       "      <th>track_popularity</th>\n",
       "      <th>track_explicit</th>\n",
       "      <th>track_danceability</th>\n",
       "      <th>track_energy</th>\n",
       "      <th>track_key</th>\n",
       "      <th>track_loudness</th>\n",
       "      <th>...</th>\n",
       "      <th>track_tempo</th>\n",
       "      <th>track_time_signature</th>\n",
       "      <th>album_name</th>\n",
       "      <th>album_release_timestamp</th>\n",
       "      <th>album_id</th>\n",
       "      <th>artist_id</th>\n",
       "      <th>artist_name</th>\n",
       "      <th>playlist_name</th>\n",
       "      <th>playlist_id</th>\n",
       "      <th>added_by</th>\n",
       "    </tr>\n",
       "  </thead>\n",
       "  <tbody>\n",
       "    <tr>\n",
       "      <th>11</th>\n",
       "      <td>1</td>\n",
       "      <td>5qxChyzKLEyoPJ5qGrdurN</td>\n",
       "      <td>No Sleep Till Brooklyn</td>\n",
       "      <td>246933</td>\n",
       "      <td>68</td>\n",
       "      <td>True</td>\n",
       "      <td>0.712</td>\n",
       "      <td>0.691</td>\n",
       "      <td>8</td>\n",
       "      <td>-8.157</td>\n",
       "      <td>...</td>\n",
       "      <td>97.022</td>\n",
       "      <td>4</td>\n",
       "      <td>Licensed To Ill</td>\n",
       "      <td>5.323968e+08</td>\n",
       "      <td>11oR0ZuqB3ucZwb5TGbZxb</td>\n",
       "      <td>03r4iKL2g2442PT9n2UKsx</td>\n",
       "      <td>Beastie Boys</td>\n",
       "      <td>WoofBeats-2021-12</td>\n",
       "      <td>4Wj5LF1wo57BP6Fk2Itzk9</td>\n",
       "      <td>Dan</td>\n",
       "    </tr>\n",
       "    <tr>\n",
       "      <th>14</th>\n",
       "      <td>1</td>\n",
       "      <td>41r8mKvIbkQHLm5C9TaEJ6</td>\n",
       "      <td>Tenkkeys (Kklasikk Version)</td>\n",
       "      <td>131397</td>\n",
       "      <td>41</td>\n",
       "      <td>True</td>\n",
       "      <td>0.768</td>\n",
       "      <td>0.810</td>\n",
       "      <td>1</td>\n",
       "      <td>-7.918</td>\n",
       "      <td>...</td>\n",
       "      <td>93.044</td>\n",
       "      <td>4</td>\n",
       "      <td>Tenkkeys (Kklasikk Version)</td>\n",
       "      <td>1.473466e+09</td>\n",
       "      <td>6d7kzWOQC5vxa7moD4kZwu</td>\n",
       "      <td>0JXPiLgbGX4n86jsocSkG6</td>\n",
       "      <td>Spark Master Tape</td>\n",
       "      <td>WoofBeats-2021-12</td>\n",
       "      <td>4Wj5LF1wo57BP6Fk2Itzk9</td>\n",
       "      <td>davidmimorton</td>\n",
       "    </tr>\n",
       "    <tr>\n",
       "      <th>16</th>\n",
       "      <td>1</td>\n",
       "      <td>3jLHo30ucbkYY9P7v8leKh</td>\n",
       "      <td>Sea Sick</td>\n",
       "      <td>130714</td>\n",
       "      <td>60</td>\n",
       "      <td>False</td>\n",
       "      <td>0.817</td>\n",
       "      <td>0.577</td>\n",
       "      <td>6</td>\n",
       "      <td>-8.630</td>\n",
       "      <td>...</td>\n",
       "      <td>112.025</td>\n",
       "      <td>4</td>\n",
       "      <td>Sea Sick</td>\n",
       "      <td>1.567642e+09</td>\n",
       "      <td>2rW8WOaJP6R7rIFFaJEhoZ</td>\n",
       "      <td>2jbd7OqeJJd1hz81vOXwwW</td>\n",
       "      <td>binki</td>\n",
       "      <td>WoofBeats-2021-12</td>\n",
       "      <td>4Wj5LF1wo57BP6Fk2Itzk9</td>\n",
       "      <td>Dakota</td>\n",
       "    </tr>\n",
       "    <tr>\n",
       "      <th>19</th>\n",
       "      <td>1</td>\n",
       "      <td>7888F1QWPTn4cPbuknNV4T</td>\n",
       "      <td>HIT EM WHERE IT HURTS</td>\n",
       "      <td>165499</td>\n",
       "      <td>64</td>\n",
       "      <td>False</td>\n",
       "      <td>0.779</td>\n",
       "      <td>0.721</td>\n",
       "      <td>6</td>\n",
       "      <td>-6.371</td>\n",
       "      <td>...</td>\n",
       "      <td>178.046</td>\n",
       "      <td>4</td>\n",
       "      <td>HIT EM WHERE IT HURTS</td>\n",
       "      <td>1.600387e+09</td>\n",
       "      <td>2w4bxNOt8ZLIBaKH2oi6ij</td>\n",
       "      <td>23KIrX6iPiVOkx60F4bjNq</td>\n",
       "      <td>PawPaw Rod</td>\n",
       "      <td>WoofBeats-2021-12</td>\n",
       "      <td>4Wj5LF1wo57BP6Fk2Itzk9</td>\n",
       "      <td>davidmimorton</td>\n",
       "    </tr>\n",
       "    <tr>\n",
       "      <th>26</th>\n",
       "      <td>1</td>\n",
       "      <td>6tDDoYIxWvMLTdKpjFkc1B</td>\n",
       "      <td>telepatía</td>\n",
       "      <td>160191</td>\n",
       "      <td>83</td>\n",
       "      <td>False</td>\n",
       "      <td>0.653</td>\n",
       "      <td>0.524</td>\n",
       "      <td>11</td>\n",
       "      <td>-9.016</td>\n",
       "      <td>...</td>\n",
       "      <td>83.970</td>\n",
       "      <td>4</td>\n",
       "      <td>Sin Miedo (del Amor y Otros Demonios) ∞</td>\n",
       "      <td>1.607040e+09</td>\n",
       "      <td>00wSTrFxoSzA7eeS1UxHgd</td>\n",
       "      <td>1U1el3k54VvEUzo3ybLPlM</td>\n",
       "      <td>Kali Uchis</td>\n",
       "      <td>WoofBeats-2021-11</td>\n",
       "      <td>07NrtpvwnNcCGDUTKHvjIO</td>\n",
       "      <td>davidmimorton</td>\n",
       "    </tr>\n",
       "    <tr>\n",
       "      <th>...</th>\n",
       "      <td>...</td>\n",
       "      <td>...</td>\n",
       "      <td>...</td>\n",
       "      <td>...</td>\n",
       "      <td>...</td>\n",
       "      <td>...</td>\n",
       "      <td>...</td>\n",
       "      <td>...</td>\n",
       "      <td>...</td>\n",
       "      <td>...</td>\n",
       "      <td>...</td>\n",
       "      <td>...</td>\n",
       "      <td>...</td>\n",
       "      <td>...</td>\n",
       "      <td>...</td>\n",
       "      <td>...</td>\n",
       "      <td>...</td>\n",
       "      <td>...</td>\n",
       "      <td>...</td>\n",
       "      <td>...</td>\n",
       "      <td>...</td>\n",
       "    </tr>\n",
       "    <tr>\n",
       "      <th>354</th>\n",
       "      <td>1</td>\n",
       "      <td>2DylrERZbUpx845Cd8y7hU</td>\n",
       "      <td>Kevin</td>\n",
       "      <td>199382</td>\n",
       "      <td>0</td>\n",
       "      <td>True</td>\n",
       "      <td>0.677</td>\n",
       "      <td>0.352</td>\n",
       "      <td>7</td>\n",
       "      <td>-9.083</td>\n",
       "      <td>...</td>\n",
       "      <td>101.992</td>\n",
       "      <td>4</td>\n",
       "      <td>Kevin</td>\n",
       "      <td>1.588205e+09</td>\n",
       "      <td>6rqZTOVumjrqnV4cT6i9xq</td>\n",
       "      <td>5ut4VhaCRPsEjAZ93jpPfK</td>\n",
       "      <td>Oliver Malcolm</td>\n",
       "      <td>WoofBeats-2020-12</td>\n",
       "      <td>26ytCXO4GPGK6MEr3uZojZ</td>\n",
       "      <td>Dakota</td>\n",
       "    </tr>\n",
       "    <tr>\n",
       "      <th>360</th>\n",
       "      <td>1</td>\n",
       "      <td>0P2Dxoy0mdzM9NlFQoLZbc</td>\n",
       "      <td>Hollywood (feat. Snoop Dogg &amp; Jamie Principle)</td>\n",
       "      <td>293493</td>\n",
       "      <td>57</td>\n",
       "      <td>True</td>\n",
       "      <td>0.685</td>\n",
       "      <td>0.631</td>\n",
       "      <td>7</td>\n",
       "      <td>-10.338</td>\n",
       "      <td>...</td>\n",
       "      <td>104.126</td>\n",
       "      <td>4</td>\n",
       "      <td>The Now Now</td>\n",
       "      <td>1.530230e+09</td>\n",
       "      <td>1amYhlukNF8WdaQC3gKkgL</td>\n",
       "      <td>3AA28KZvwAUcZuOKwyblJQ</td>\n",
       "      <td>Gorillaz</td>\n",
       "      <td>WoofBeats-2020-12</td>\n",
       "      <td>26ytCXO4GPGK6MEr3uZojZ</td>\n",
       "      <td>Dan</td>\n",
       "    </tr>\n",
       "    <tr>\n",
       "      <th>361</th>\n",
       "      <td>1</td>\n",
       "      <td>0JzPnwc3eDdyBeReXFLgXr</td>\n",
       "      <td>Look Easy</td>\n",
       "      <td>165219</td>\n",
       "      <td>51</td>\n",
       "      <td>True</td>\n",
       "      <td>0.718</td>\n",
       "      <td>0.637</td>\n",
       "      <td>1</td>\n",
       "      <td>-9.962</td>\n",
       "      <td>...</td>\n",
       "      <td>108.023</td>\n",
       "      <td>4</td>\n",
       "      <td>Look Easy</td>\n",
       "      <td>1.594339e+09</td>\n",
       "      <td>0XCbNyUbT3873z30JAwkbi</td>\n",
       "      <td>6qgnBH6iDM91ipVXv28OMu</td>\n",
       "      <td>KAYTRANADA</td>\n",
       "      <td>WoofBeats-2020-12</td>\n",
       "      <td>26ytCXO4GPGK6MEr3uZojZ</td>\n",
       "      <td>davidmimorton</td>\n",
       "    </tr>\n",
       "    <tr>\n",
       "      <th>371</th>\n",
       "      <td>1</td>\n",
       "      <td>531MBHrtGF6nAkK4zUafi9</td>\n",
       "      <td>Mutual Butterflies</td>\n",
       "      <td>183875</td>\n",
       "      <td>62</td>\n",
       "      <td>True</td>\n",
       "      <td>0.616</td>\n",
       "      <td>0.649</td>\n",
       "      <td>3</td>\n",
       "      <td>-5.133</td>\n",
       "      <td>...</td>\n",
       "      <td>78.131</td>\n",
       "      <td>4</td>\n",
       "      <td>august</td>\n",
       "      <td>1.535674e+09</td>\n",
       "      <td>7h1xc7a0GqmwkzOu29YbjD</td>\n",
       "      <td>5YHM0i7v5TqqibZhS0YiuX</td>\n",
       "      <td>Ryan Trey</td>\n",
       "      <td>WoofBeats-2020-12</td>\n",
       "      <td>26ytCXO4GPGK6MEr3uZojZ</td>\n",
       "      <td>Dakota</td>\n",
       "    </tr>\n",
       "    <tr>\n",
       "      <th>373</th>\n",
       "      <td>1</td>\n",
       "      <td>42zd6DYQ4o4SECmTITrM1U</td>\n",
       "      <td>Dreams and Nightmares</td>\n",
       "      <td>230693</td>\n",
       "      <td>73</td>\n",
       "      <td>True</td>\n",
       "      <td>0.631</td>\n",
       "      <td>0.774</td>\n",
       "      <td>11</td>\n",
       "      <td>-2.459</td>\n",
       "      <td>...</td>\n",
       "      <td>79.745</td>\n",
       "      <td>4</td>\n",
       "      <td>Dreams and Nightmares (Deluxe Edition)</td>\n",
       "      <td>1.351210e+09</td>\n",
       "      <td>0zhZDmHEtDtok393SbZ3d7</td>\n",
       "      <td>20sxb77xiYeusSH8cVdatc</td>\n",
       "      <td>Meek Mill</td>\n",
       "      <td>WoofBeats-2020-12</td>\n",
       "      <td>26ytCXO4GPGK6MEr3uZojZ</td>\n",
       "      <td>Dakota</td>\n",
       "    </tr>\n",
       "  </tbody>\n",
       "</table>\n",
       "<p>110 rows × 26 columns</p>\n",
       "</div>"
      ],
      "text/plain": [
       "     theRes_playlist_id                track_id  \\\n",
       "11                    1  5qxChyzKLEyoPJ5qGrdurN   \n",
       "14                    1  41r8mKvIbkQHLm5C9TaEJ6   \n",
       "16                    1  3jLHo30ucbkYY9P7v8leKh   \n",
       "19                    1  7888F1QWPTn4cPbuknNV4T   \n",
       "26                    1  6tDDoYIxWvMLTdKpjFkc1B   \n",
       "..                  ...                     ...   \n",
       "354                   1  2DylrERZbUpx845Cd8y7hU   \n",
       "360                   1  0P2Dxoy0mdzM9NlFQoLZbc   \n",
       "361                   1  0JzPnwc3eDdyBeReXFLgXr   \n",
       "371                   1  531MBHrtGF6nAkK4zUafi9   \n",
       "373                   1  42zd6DYQ4o4SECmTITrM1U   \n",
       "\n",
       "                                         track_name  track_duration_ms  \\\n",
       "11                           No Sleep Till Brooklyn             246933   \n",
       "14                      Tenkkeys (Kklasikk Version)             131397   \n",
       "16                                         Sea Sick             130714   \n",
       "19                            HIT EM WHERE IT HURTS             165499   \n",
       "26                                        telepatía             160191   \n",
       "..                                              ...                ...   \n",
       "354                                           Kevin             199382   \n",
       "360  Hollywood (feat. Snoop Dogg & Jamie Principle)             293493   \n",
       "361                                       Look Easy             165219   \n",
       "371                              Mutual Butterflies             183875   \n",
       "373                           Dreams and Nightmares             230693   \n",
       "\n",
       "     track_popularity  track_explicit  track_danceability  track_energy  \\\n",
       "11                 68            True               0.712         0.691   \n",
       "14                 41            True               0.768         0.810   \n",
       "16                 60           False               0.817         0.577   \n",
       "19                 64           False               0.779         0.721   \n",
       "26                 83           False               0.653         0.524   \n",
       "..                ...             ...                 ...           ...   \n",
       "354                 0            True               0.677         0.352   \n",
       "360                57            True               0.685         0.631   \n",
       "361                51            True               0.718         0.637   \n",
       "371                62            True               0.616         0.649   \n",
       "373                73            True               0.631         0.774   \n",
       "\n",
       "     track_key  track_loudness  ...  track_tempo  track_time_signature  \\\n",
       "11           8          -8.157  ...       97.022                     4   \n",
       "14           1          -7.918  ...       93.044                     4   \n",
       "16           6          -8.630  ...      112.025                     4   \n",
       "19           6          -6.371  ...      178.046                     4   \n",
       "26          11          -9.016  ...       83.970                     4   \n",
       "..         ...             ...  ...          ...                   ...   \n",
       "354          7          -9.083  ...      101.992                     4   \n",
       "360          7         -10.338  ...      104.126                     4   \n",
       "361          1          -9.962  ...      108.023                     4   \n",
       "371          3          -5.133  ...       78.131                     4   \n",
       "373         11          -2.459  ...       79.745                     4   \n",
       "\n",
       "                                  album_name  album_release_timestamp  \\\n",
       "11                           Licensed To Ill             5.323968e+08   \n",
       "14               Tenkkeys (Kklasikk Version)             1.473466e+09   \n",
       "16                                  Sea Sick             1.567642e+09   \n",
       "19                     HIT EM WHERE IT HURTS             1.600387e+09   \n",
       "26   Sin Miedo (del Amor y Otros Demonios) ∞             1.607040e+09   \n",
       "..                                       ...                      ...   \n",
       "354                                    Kevin             1.588205e+09   \n",
       "360                              The Now Now             1.530230e+09   \n",
       "361                                Look Easy             1.594339e+09   \n",
       "371                                   august             1.535674e+09   \n",
       "373   Dreams and Nightmares (Deluxe Edition)             1.351210e+09   \n",
       "\n",
       "                   album_id               artist_id        artist_name  \\\n",
       "11   11oR0ZuqB3ucZwb5TGbZxb  03r4iKL2g2442PT9n2UKsx       Beastie Boys   \n",
       "14   6d7kzWOQC5vxa7moD4kZwu  0JXPiLgbGX4n86jsocSkG6  Spark Master Tape   \n",
       "16   2rW8WOaJP6R7rIFFaJEhoZ  2jbd7OqeJJd1hz81vOXwwW              binki   \n",
       "19   2w4bxNOt8ZLIBaKH2oi6ij  23KIrX6iPiVOkx60F4bjNq         PawPaw Rod   \n",
       "26   00wSTrFxoSzA7eeS1UxHgd  1U1el3k54VvEUzo3ybLPlM         Kali Uchis   \n",
       "..                      ...                     ...                ...   \n",
       "354  6rqZTOVumjrqnV4cT6i9xq  5ut4VhaCRPsEjAZ93jpPfK     Oliver Malcolm   \n",
       "360  1amYhlukNF8WdaQC3gKkgL  3AA28KZvwAUcZuOKwyblJQ           Gorillaz   \n",
       "361  0XCbNyUbT3873z30JAwkbi  6qgnBH6iDM91ipVXv28OMu         KAYTRANADA   \n",
       "371  7h1xc7a0GqmwkzOu29YbjD  5YHM0i7v5TqqibZhS0YiuX          Ryan Trey   \n",
       "373  0zhZDmHEtDtok393SbZ3d7  20sxb77xiYeusSH8cVdatc          Meek Mill   \n",
       "\n",
       "         playlist_name             playlist_id       added_by  \n",
       "11   WoofBeats-2021-12  4Wj5LF1wo57BP6Fk2Itzk9            Dan  \n",
       "14   WoofBeats-2021-12  4Wj5LF1wo57BP6Fk2Itzk9  davidmimorton  \n",
       "16   WoofBeats-2021-12  4Wj5LF1wo57BP6Fk2Itzk9         Dakota  \n",
       "19   WoofBeats-2021-12  4Wj5LF1wo57BP6Fk2Itzk9  davidmimorton  \n",
       "26   WoofBeats-2021-11  07NrtpvwnNcCGDUTKHvjIO  davidmimorton  \n",
       "..                 ...                     ...            ...  \n",
       "354  WoofBeats-2020-12  26ytCXO4GPGK6MEr3uZojZ         Dakota  \n",
       "360  WoofBeats-2020-12  26ytCXO4GPGK6MEr3uZojZ            Dan  \n",
       "361  WoofBeats-2020-12  26ytCXO4GPGK6MEr3uZojZ  davidmimorton  \n",
       "371  WoofBeats-2020-12  26ytCXO4GPGK6MEr3uZojZ         Dakota  \n",
       "373  WoofBeats-2020-12  26ytCXO4GPGK6MEr3uZojZ         Dakota  \n",
       "\n",
       "[110 rows x 26 columns]"
      ]
     },
     "execution_count": 9,
     "metadata": {},
     "output_type": "execute_result"
    }
   ],
   "source": [
    "theRes_playlist = pd.DataFrame(\n",
    "    model.labels_,\n",
    "    columns = [\"theRes_playlist_id\"]\n",
    ")\n",
    "theRes_playlist = pd.concat(\n",
    "    [theRes_playlist, WoofBeats_df],\n",
    "    axis=1\n",
    ")\n",
    "theRes_playlist[theRes_playlist[\"theRes_playlist_id\"]==1]"
   ]
  },
  {
   "cell_type": "code",
   "execution_count": 18,
   "id": "80ef386a-757c-4312-a820-fc401287a810",
   "metadata": {},
   "outputs": [],
   "source": [
    "current_user_id = spotify.current_user()[\"id\"]\n",
    "for playlist_id in set(theRes_playlist[\"theRes_playlist_id\"]):\n",
    "    new_playlist = spotify.user_playlist_create(\n",
    "        current_user_id,\n",
    "        \"theRes/cluster{}.v001\".format(playlist_id)\n",
    "    )\n",
    "    track_ids = list(theRes_playlist[theRes_playlist[\"theRes_playlist_id\"]==playlist_id][\"track_id\"])\n",
    "    uploaded_tracks_count = 0\n",
    "    page_size = 100\n",
    "    while uploaded_tracks_count<=len(track_ids):\n",
    "        end_of_page = min(len(track_ids),uploaded_tracks_count + page_size)\n",
    "        spotify.playlist_add_items(\n",
    "            new_playlist[\"id\"],\n",
    "            track_ids[uploaded_tracks_count:end_of_page]\n",
    "        )\n",
    "        uploaded_tracks_count += page_size"
   ]
  },
  {
   "cell_type": "code",
   "execution_count": 16,
   "id": "a9118460-50e3-43e6-9f95-6feb7bb2dccc",
   "metadata": {},
   "outputs": [
    {
     "data": {
      "text/plain": [
       "'6SeCkynwZo5P8HZWhPi6lj'"
      ]
     },
     "execution_count": 16,
     "metadata": {},
     "output_type": "execute_result"
    }
   ],
   "source": [
    "new_playlist[\"id\"][uploaded_tracks_count:end_of_page]"
   ]
  },
  {
   "cell_type": "code",
   "execution_count": 17,
   "id": "e6329d12-2ac5-4e9a-960c-28b1dd1281c9",
   "metadata": {},
   "outputs": [
    {
     "data": {
      "text/plain": [
       "0"
      ]
     },
     "execution_count": 17,
     "metadata": {},
     "output_type": "execute_result"
    }
   ],
   "source": [
    "uploaded_tracks_count"
   ]
  },
  {
   "cell_type": "code",
   "execution_count": null,
   "id": "35b8572f-a29d-4487-b9fd-af7f5f594be5",
   "metadata": {},
   "outputs": [],
   "source": []
  }
 ],
 "metadata": {
  "kernelspec": {
   "display_name": "Python 3 (ipykernel)",
   "language": "python",
   "name": "python3"
  },
  "language_info": {
   "codemirror_mode": {
    "name": "ipython",
    "version": 3
   },
   "file_extension": ".py",
   "mimetype": "text/x-python",
   "name": "python",
   "nbconvert_exporter": "python",
   "pygments_lexer": "ipython3",
   "version": "3.10.0"
  },
  "toc-autonumbering": true
 },
 "nbformat": 4,
 "nbformat_minor": 5
}
