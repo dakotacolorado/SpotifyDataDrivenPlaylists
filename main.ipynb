{
 "cells": [
  {
   "cell_type": "code",
   "execution_count": 1,
   "id": "bcd46195-c76f-47a1-950d-ddde4f5860d4",
   "metadata": {
    "tags": []
   },
   "outputs": [],
   "source": [
    "from IPython.display import Markdown, Latex\n",
    "displaym = lambda markdown : display(Markdown(markdown))\n",
    "from sklearn.cluster import AgglomerativeClustering\n",
    "from spotifyUtil import get_spotify_client, plot_dendrogram\n",
    "from sklearn.decomposition import PCA\n",
    "from matplotlib.pyplot import figure\n",
    "from scipy.cluster import hierarchy\n",
    "spotify = get_spotify_client()\n",
    "import matplotlib.pyplot as plt\n",
    "from scipy.stats import zscore\n",
    "from datetime import datetime\n",
    "import pandas as pd\n",
    "import numpy as np"
   ]
  },
  {
   "cell_type": "markdown",
   "id": "49d91929-c8f3-43f0-ad58-11887cb4cf0b",
   "metadata": {},
   "source": [
    "---\n",
    "# Collect All My Playlists"
   ]
  },
  {
   "cell_type": "code",
   "execution_count": 18,
   "id": "4dcb984d-e500-4310-8e55-b0e46285c389",
   "metadata": {
    "tags": []
   },
   "outputs": [
    {
     "data": {
      "text/markdown": [
       "\n",
       "## My Playlists  \n",
       "Collected **48** playlists\n"
      ],
      "text/plain": [
       "<IPython.core.display.Markdown object>"
      ]
     },
     "metadata": {},
     "output_type": "display_data"
    }
   ],
   "source": [
    "my_playlists = []\n",
    "offset = 0\n",
    "append_playlists = spotify.current_user_playlists(offset=offset)[\"items\"]\n",
    "while len(append_playlists) > 0:\n",
    "    my_playlists += append_playlists\n",
    "    offset += len(append_playlists)\n",
    "    append_playlists = spotify.current_user_playlists(offset=offset)[\"items\"]\n",
    "displaym(\"\"\"\n",
    "## My Playlists  \n",
    "Collected **{}** playlists\n",
    "\"\"\".format(\n",
    "    len(my_playlists)\n",
    "))"
   ]
  },
  {
   "cell_type": "markdown",
   "id": "6115a518-36f2-4499-a2d7-1ee59e19fb79",
   "metadata": {},
   "source": [
    "# Union **WoofBeats&trade;** Playlists and Add Track Features"
   ]
  },
  {
   "cell_type": "code",
   "execution_count": 12,
   "id": "da2446be-be38-455e-9a24-570dc528fc13",
   "metadata": {
    "tags": []
   },
   "outputs": [
    {
     "data": {
      "text/markdown": [
       "\n",
       "## **WoofBeats&trade;** Playlists\n",
       " - WoofBeats-2021-12: **26** songs \n",
       "- WoofBeats-2021-11: **23** songs \n",
       "- WoofBeats-2021-10: **27** songs \n",
       "- WoofBeats-2021-09: **34** songs \n",
       "- WoofBeats-2021-08: **29** songs \n",
       "- WoofBeats-2021-07: **30** songs \n",
       "- WoofBeats-2021-06: **50** songs \n",
       "- WoofBeats-2021-05: **37** songs \n",
       "- WoofBeats-2021-04: **50** songs \n",
       "- WoofBeats-2021-03: **38** songs \n",
       "- WoofBeats-2021-02: **45** songs \n",
       "- WoofBeats-2021-01: **56** songs \n",
       "- WoofBeats-2020-12: **46** songs\n",
       "---\n"
      ],
      "text/plain": [
       "<IPython.core.display.Markdown object>"
      ]
     },
     "metadata": {},
     "output_type": "display_data"
    }
   ],
   "source": [
    "WoofBeats_playlists = [\n",
    "    p for p in my_playlists \n",
    "    if \"WoofBeats\" in p[\"name\"] and \"20\" in p[\"name\"]\n",
    "]\n",
    "\n",
    "# get tracks\n",
    "for playlist in WoofBeats_playlists:\n",
    "    playlist.update({\n",
    "        \"tracks\":spotify.playlist_tracks(playlist[\"id\"]) \n",
    "    })\n",
    "\n",
    "displaym(\n",
    "\"\"\"\n",
    "## **WoofBeats&trade;** Playlists\n",
    " - {}\n",
    "---\n",
    "\"\"\".format(\n",
    "    \" \\n- \".join([\n",
    "        \"{}: **{}** songs\".format(\n",
    "            playlist[\"name\"], \n",
    "            len(playlist[\"tracks\"][\"items\"])\n",
    "        ) \n",
    "        for playlist in WoofBeats_playlists\n",
    "    ])\n",
    "))"
   ]
  },
  {
   "cell_type": "markdown",
   "id": "e6eb3fff-f1f0-4bb5-b84d-eff2c41e760e",
   "metadata": {
    "tags": []
   },
   "source": [
    "## Track Features"
   ]
  },
  {
   "cell_type": "code",
   "execution_count": 4,
   "id": "2a069c13-163a-40fd-bb19-9935d927d31c",
   "metadata": {
    "tags": []
   },
   "outputs": [
    {
     "name": "stdout",
     "output_type": "stream",
     "text": [
      "<class 'pandas.core.frame.DataFrame'>\n",
      "RangeIndex: 491 entries, 0 to 490\n",
      "Data columns (total 25 columns):\n",
      " #   Column                   Non-Null Count  Dtype  \n",
      "---  ------                   --------------  -----  \n",
      " 0   track_id                 491 non-null    object \n",
      " 1   track_name               491 non-null    object \n",
      " 2   track_duration_ms        491 non-null    int64  \n",
      " 3   track_popularity         491 non-null    int64  \n",
      " 4   track_explicit           491 non-null    bool   \n",
      " 5   track_danceability       491 non-null    float64\n",
      " 6   track_energy             491 non-null    float64\n",
      " 7   track_key                491 non-null    int64  \n",
      " 8   track_loudness           491 non-null    float64\n",
      " 9   track_mode               491 non-null    int64  \n",
      " 10  track_speechiness        491 non-null    float64\n",
      " 11  track_acousticness       491 non-null    float64\n",
      " 12  track_instrumentalness   491 non-null    float64\n",
      " 13  track_liveness           491 non-null    float64\n",
      " 14  track_valence            491 non-null    float64\n",
      " 15  track_tempo              491 non-null    float64\n",
      " 16  track_time_signature     491 non-null    int64  \n",
      " 17  album_name               491 non-null    object \n",
      " 18  album_release_timestamp  491 non-null    float64\n",
      " 19  album_id                 491 non-null    object \n",
      " 20  artist_id                491 non-null    object \n",
      " 21  artist_name              491 non-null    object \n",
      " 22  playlist_name            491 non-null    object \n",
      " 23  playlist_id              491 non-null    object \n",
      " 24  added_by                 491 non-null    object \n",
      "dtypes: bool(1), float64(10), int64(5), object(9)\n",
      "memory usage: 92.7+ KB\n"
     ]
    },
    {
     "data": {
      "text/plain": [
       "None"
      ]
     },
     "metadata": {},
     "output_type": "display_data"
    },
    {
     "data": {
      "text/html": [
       "<div>\n",
       "<style scoped>\n",
       "    .dataframe tbody tr th:only-of-type {\n",
       "        vertical-align: middle;\n",
       "    }\n",
       "\n",
       "    .dataframe tbody tr th {\n",
       "        vertical-align: top;\n",
       "    }\n",
       "\n",
       "    .dataframe thead th {\n",
       "        text-align: right;\n",
       "    }\n",
       "</style>\n",
       "<table border=\"1\" class=\"dataframe\">\n",
       "  <thead>\n",
       "    <tr style=\"text-align: right;\">\n",
       "      <th></th>\n",
       "      <th>track_id</th>\n",
       "      <th>track_name</th>\n",
       "      <th>track_duration_ms</th>\n",
       "      <th>track_popularity</th>\n",
       "      <th>track_explicit</th>\n",
       "      <th>track_danceability</th>\n",
       "      <th>track_energy</th>\n",
       "      <th>track_key</th>\n",
       "      <th>track_loudness</th>\n",
       "      <th>track_mode</th>\n",
       "      <th>...</th>\n",
       "      <th>track_tempo</th>\n",
       "      <th>track_time_signature</th>\n",
       "      <th>album_name</th>\n",
       "      <th>album_release_timestamp</th>\n",
       "      <th>album_id</th>\n",
       "      <th>artist_id</th>\n",
       "      <th>artist_name</th>\n",
       "      <th>playlist_name</th>\n",
       "      <th>playlist_id</th>\n",
       "      <th>added_by</th>\n",
       "    </tr>\n",
       "  </thead>\n",
       "  <tbody>\n",
       "    <tr>\n",
       "      <th>0</th>\n",
       "      <td>7Fk0zNC7vGdoDwePPgByKh</td>\n",
       "      <td>Peaches N Cream (feat. Charlie Wilson)</td>\n",
       "      <td>284213</td>\n",
       "      <td>43</td>\n",
       "      <td>False</td>\n",
       "      <td>0.830</td>\n",
       "      <td>0.722</td>\n",
       "      <td>0</td>\n",
       "      <td>-6.099</td>\n",
       "      <td>1</td>\n",
       "      <td>...</td>\n",
       "      <td>109.987</td>\n",
       "      <td>4</td>\n",
       "      <td>Peaches N Cream (feat. Charlie Wilson)</td>\n",
       "      <td>1.425946e+09</td>\n",
       "      <td>0tKHgjptFpCMWQyKrwThXF</td>\n",
       "      <td>7hJcb9fa4alzcOq3EaNPoG</td>\n",
       "      <td>Snoop Dogg</td>\n",
       "      <td>WoofBeats-2021-12</td>\n",
       "      <td>4Wj5LF1wo57BP6Fk2Itzk9</td>\n",
       "      <td>davidmimorton</td>\n",
       "    </tr>\n",
       "    <tr>\n",
       "      <th>1</th>\n",
       "      <td>32YOyb6WzKcHHWOPNBndvL</td>\n",
       "      <td>the astronaut</td>\n",
       "      <td>185078</td>\n",
       "      <td>35</td>\n",
       "      <td>False</td>\n",
       "      <td>0.559</td>\n",
       "      <td>0.343</td>\n",
       "      <td>7</td>\n",
       "      <td>-9.155</td>\n",
       "      <td>1</td>\n",
       "      <td>...</td>\n",
       "      <td>166.034</td>\n",
       "      <td>4</td>\n",
       "      <td>the astronaut</td>\n",
       "      <td>1.617667e+09</td>\n",
       "      <td>2vZMnfL7DLYTIGiz3piGn7</td>\n",
       "      <td>7BexBpZwJEohkHnOeuXDoi</td>\n",
       "      <td>Ray Goren</td>\n",
       "      <td>WoofBeats-2021-12</td>\n",
       "      <td>4Wj5LF1wo57BP6Fk2Itzk9</td>\n",
       "      <td>Dan</td>\n",
       "    </tr>\n",
       "    <tr>\n",
       "      <th>2</th>\n",
       "      <td>0ssRH9I8P7X7tawJQiIhzE</td>\n",
       "      <td>1993 (feat. Little Ricky ZR3)</td>\n",
       "      <td>159832</td>\n",
       "      <td>53</td>\n",
       "      <td>True</td>\n",
       "      <td>0.701</td>\n",
       "      <td>0.676</td>\n",
       "      <td>9</td>\n",
       "      <td>-5.873</td>\n",
       "      <td>1</td>\n",
       "      <td>...</td>\n",
       "      <td>105.041</td>\n",
       "      <td>4</td>\n",
       "      <td>Ugly is Beautiful</td>\n",
       "      <td>1.594944e+09</td>\n",
       "      <td>1HmWQo43Gt8BR2dylfv3o4</td>\n",
       "      <td>6TLwD7HPWuiOzvXEa3oCNe</td>\n",
       "      <td>Oliver Tree</td>\n",
       "      <td>WoofBeats-2021-12</td>\n",
       "      <td>4Wj5LF1wo57BP6Fk2Itzk9</td>\n",
       "      <td>Dan</td>\n",
       "    </tr>\n",
       "    <tr>\n",
       "      <th>3</th>\n",
       "      <td>2KUyYDas5sAAulThIiZBO5</td>\n",
       "      <td>Brass</td>\n",
       "      <td>151380</td>\n",
       "      <td>41</td>\n",
       "      <td>True</td>\n",
       "      <td>0.775</td>\n",
       "      <td>0.890</td>\n",
       "      <td>2</td>\n",
       "      <td>-4.574</td>\n",
       "      <td>0</td>\n",
       "      <td>...</td>\n",
       "      <td>142.948</td>\n",
       "      <td>4</td>\n",
       "      <td>Brass</td>\n",
       "      <td>1.577059e+09</td>\n",
       "      <td>1ZRprAbchzdVCZZnH9BaDQ</td>\n",
       "      <td>22KyrgRdE2K6aB5wtZls3c</td>\n",
       "      <td>AG Club</td>\n",
       "      <td>WoofBeats-2021-12</td>\n",
       "      <td>4Wj5LF1wo57BP6Fk2Itzk9</td>\n",
       "      <td>Dakota</td>\n",
       "    </tr>\n",
       "    <tr>\n",
       "      <th>4</th>\n",
       "      <td>3sN85u5M7FoMmHa8E2aViO</td>\n",
       "      <td>Heybb!</td>\n",
       "      <td>148608</td>\n",
       "      <td>59</td>\n",
       "      <td>False</td>\n",
       "      <td>0.654</td>\n",
       "      <td>0.972</td>\n",
       "      <td>6</td>\n",
       "      <td>-2.872</td>\n",
       "      <td>0</td>\n",
       "      <td>...</td>\n",
       "      <td>117.009</td>\n",
       "      <td>4</td>\n",
       "      <td>Heybb!</td>\n",
       "      <td>1.571270e+09</td>\n",
       "      <td>5CfgvNG8Y0ZGXAx3rNvjC8</td>\n",
       "      <td>2jbd7OqeJJd1hz81vOXwwW</td>\n",
       "      <td>binki</td>\n",
       "      <td>WoofBeats-2021-12</td>\n",
       "      <td>4Wj5LF1wo57BP6Fk2Itzk9</td>\n",
       "      <td>Dakota</td>\n",
       "    </tr>\n",
       "  </tbody>\n",
       "</table>\n",
       "<p>5 rows × 25 columns</p>\n",
       "</div>"
      ],
      "text/plain": [
       "                 track_id                              track_name  \\\n",
       "0  7Fk0zNC7vGdoDwePPgByKh  Peaches N Cream (feat. Charlie Wilson)   \n",
       "1  32YOyb6WzKcHHWOPNBndvL                           the astronaut   \n",
       "2  0ssRH9I8P7X7tawJQiIhzE           1993 (feat. Little Ricky ZR3)   \n",
       "3  2KUyYDas5sAAulThIiZBO5                                   Brass   \n",
       "4  3sN85u5M7FoMmHa8E2aViO                                  Heybb!   \n",
       "\n",
       "   track_duration_ms  track_popularity  track_explicit  track_danceability  \\\n",
       "0             284213                43           False               0.830   \n",
       "1             185078                35           False               0.559   \n",
       "2             159832                53            True               0.701   \n",
       "3             151380                41            True               0.775   \n",
       "4             148608                59           False               0.654   \n",
       "\n",
       "   track_energy  track_key  track_loudness  track_mode  ...  track_tempo  \\\n",
       "0         0.722          0          -6.099           1  ...      109.987   \n",
       "1         0.343          7          -9.155           1  ...      166.034   \n",
       "2         0.676          9          -5.873           1  ...      105.041   \n",
       "3         0.890          2          -4.574           0  ...      142.948   \n",
       "4         0.972          6          -2.872           0  ...      117.009   \n",
       "\n",
       "   track_time_signature                              album_name  \\\n",
       "0                     4  Peaches N Cream (feat. Charlie Wilson)   \n",
       "1                     4                           the astronaut   \n",
       "2                     4                       Ugly is Beautiful   \n",
       "3                     4                                   Brass   \n",
       "4                     4                                  Heybb!   \n",
       "\n",
       "   album_release_timestamp                album_id               artist_id  \\\n",
       "0             1.425946e+09  0tKHgjptFpCMWQyKrwThXF  7hJcb9fa4alzcOq3EaNPoG   \n",
       "1             1.617667e+09  2vZMnfL7DLYTIGiz3piGn7  7BexBpZwJEohkHnOeuXDoi   \n",
       "2             1.594944e+09  1HmWQo43Gt8BR2dylfv3o4  6TLwD7HPWuiOzvXEa3oCNe   \n",
       "3             1.577059e+09  1ZRprAbchzdVCZZnH9BaDQ  22KyrgRdE2K6aB5wtZls3c   \n",
       "4             1.571270e+09  5CfgvNG8Y0ZGXAx3rNvjC8  2jbd7OqeJJd1hz81vOXwwW   \n",
       "\n",
       "   artist_name      playlist_name             playlist_id       added_by  \n",
       "0   Snoop Dogg  WoofBeats-2021-12  4Wj5LF1wo57BP6Fk2Itzk9  davidmimorton  \n",
       "1    Ray Goren  WoofBeats-2021-12  4Wj5LF1wo57BP6Fk2Itzk9            Dan  \n",
       "2  Oliver Tree  WoofBeats-2021-12  4Wj5LF1wo57BP6Fk2Itzk9            Dan  \n",
       "3      AG Club  WoofBeats-2021-12  4Wj5LF1wo57BP6Fk2Itzk9         Dakota  \n",
       "4        binki  WoofBeats-2021-12  4Wj5LF1wo57BP6Fk2Itzk9         Dakota  \n",
       "\n",
       "[5 rows x 25 columns]"
      ]
     },
     "metadata": {},
     "output_type": "display_data"
    }
   ],
   "source": [
    "WoofBeats_tracks = [\n",
    "    {\n",
    "        \"playlist_name\": playlist[\"name\"],\n",
    "        \"playlist_id\": playlist[\"id\"],\n",
    "        \"added_by\": track[\"added_by\"][\"id\"],\n",
    "        **track[\"track\"]\n",
    "    }\n",
    "    for playlist in WoofBeats_playlists\n",
    "    for track in playlist[\"tracks\"][\"items\"]\n",
    "]\n",
    "\n",
    "WoofBeats_tracks = [\n",
    "    {\n",
    "        \"track_id\" : track[\"id\"],\n",
    "        \"track_name\" :track[\"name\"],\n",
    "        \"track_duration_ms\" : track[\"duration_ms\"],\n",
    "        \"track_popularity\" : track[\"popularity\"],\n",
    "        \"track_explicit\" : track[\"explicit\"],\n",
    "        **{\n",
    "            \"track_\" + key:value \n",
    "            for key, value in spotify.audio_features([track[\"id\"]])[0].items()\n",
    "        },\n",
    "        \"album_name\" : track[\"album\"][\"name\"],\n",
    "        \"album_release_timestamp\" : pd.to_datetime(track[\"album\"][\"release_date\"]).timestamp(),\n",
    "        \"album_id\" : track[\"album\"][\"id\"],\n",
    "        \"artist_id\" : track[\"artists\"][0][\"id\"],\n",
    "        \"artist_name\" : track[\"artists\"][0][\"name\"],\n",
    "        \"playlist_name\" : track[\"playlist_name\"],\n",
    "        \"playlist_id\" : track[\"playlist_id\"],\n",
    "        \"added_by\": track[\"added_by\"]\n",
    "    }\n",
    "    for track in WoofBeats_tracks\n",
    "]\n",
    "\n",
    "added_by_map = {\n",
    "    \"12167264510\" : \"Dakota\",\n",
    "    \"12145760918\" : \"Dan\"\n",
    "}\n",
    "\n",
    "for track in WoofBeats_tracks:\n",
    "    added_by = track[\"added_by\"]\n",
    "    track[\"added_by\"] = added_by_map[added_by] if added_by in added_by_map else added_by\n",
    "\n",
    "for track in WoofBeats_tracks:\n",
    "    for key in [\n",
    "        \"track_type\",\n",
    "        \"track_uri\",\n",
    "        \"track_track_href\",\n",
    "        \"track_analysis_url\",\n",
    "        ]:\n",
    "        del track[key]\n",
    "        \n",
    "WoofBeats_df = pd.DataFrame(WoofBeats_tracks)\n",
    "display(WoofBeats_df.info())\n",
    "display(WoofBeats_df.head())"
   ]
  },
  {
   "cell_type": "code",
   "execution_count": 5,
   "id": "d98ed3f6-1ab0-4c5b-b79e-7470ea42fae2",
   "metadata": {
    "tags": []
   },
   "outputs": [
    {
     "data": {
      "text/markdown": [
       "\n",
       "### Feature Summary: **track duration ms**  \n",
       " - Mean: 219453.878\n",
       " - Std: 65114.864\n",
       " - Range: 98275 - 662773\n",
       " - Width: 564498\n",
       "\n",
       "        "
      ],
      "text/plain": [
       "<IPython.core.display.Markdown object>"
      ]
     },
     "metadata": {},
     "output_type": "display_data"
    },
    {
     "data": {
      "image/png": "[encoded data removed]",
      "text/plain": [
       "<Figure size 432x288 with 1 Axes>"
      ]
     },
     "metadata": {
      "needs_background": "light"
     },
     "output_type": "display_data"
    },
    {
     "data": {
      "image/png": "[encoded data removed]",
      "text/plain": [
       "<Figure size 432x288 with 1 Axes>"
      ]
     },
     "metadata": {
      "needs_background": "light"
     },
     "output_type": "display_data"
    },
    {
     "data": {
      "text/markdown": [
       "\n",
       "### Feature Summary: **track popularity**  \n",
       " - Mean: 47.208\n",
       " - Std: 19.827\n",
       " - Range: 0 - 83\n",
       " - Width: 83\n",
       "\n",
       "        "
      ],
      "text/plain": [
       "<IPython.core.display.Markdown object>"
      ]
     },
     "metadata": {},
     "output_type": "display_data"
    },
    {
     "data": {
      "image/png": "[encoded data removed]",
      "text/plain": [
       "<Figure size 432x288 with 1 Axes>"
      ]
     },
     "metadata": {
      "needs_background": "light"
     },
     "output_type": "display_data"
    },
    {
     "data": {
      "image/png": "[encoded data removed]",
      "text/plain": [
       "<Figure size 432x288 with 1 Axes>"
      ]
     },
     "metadata": {
      "needs_background": "light"
     },
     "output_type": "display_data"
    },
    {
     "data": {
      "text/markdown": [
       "\n",
       "### Feature Summary: **track danceability**  \n",
       " - Mean: 0.637\n",
       " - Std: 0.145\n",
       " - Range: 0.152 - 0.964\n",
       " - Width: 0.812\n",
       "\n",
       "        "
      ],
      "text/plain": [
       "<IPython.core.display.Markdown object>"
      ]
     },
     "metadata": {},
     "output_type": "display_data"
    },
    {
     "data": {
      "image/png": "[encoded data removed]",
      "text/plain": [
       "<Figure size 432x288 with 1 Axes>"
      ]
     },
     "metadata": {
      "needs_background": "light"
     },
     "output_type": "display_data"
    },
    {
     "data": {
      "image/png": "[encoded data removed]",
      "text/plain": [
       "<Figure size 432x288 with 1 Axes>"
      ]
     },
     "metadata": {
      "needs_background": "light"
     },
     "output_type": "display_data"
    },
    {
     "data": {
      "text/markdown": [
       "\n",
       "### Feature Summary: **track energy**  \n",
       " - Mean: 0.692\n",
       " - Std: 0.154\n",
       " - Range: 0.221 - 0.981\n",
       " - Width: 0.76\n",
       "\n",
       "        "
      ],
      "text/plain": [
       "<IPython.core.display.Markdown object>"
      ]
     },
     "metadata": {},
     "output_type": "display_data"
    },
    {
     "data": {
      "image/png": "[encoded data removed]",
      "text/plain": [
       "<Figure size 432x288 with 1 Axes>"
      ]
     },
     "metadata": {
      "needs_background": "light"
     },
     "output_type": "display_data"
    },
    {
     "data": {
      "image/png": "[encoded data removed]",
      "text/plain": [
       "<Figure size 432x288 with 1 Axes>"
      ]
     },
     "metadata": {
      "needs_background": "light"
     },
     "output_type": "display_data"
    },
    {
     "data": {
      "text/markdown": [
       "\n",
       "### Feature Summary: **track key**  \n",
       " - Mean: 5.403\n",
       " - Std: 3.49\n",
       " - Range: 0 - 11\n",
       " - Width: 11\n",
       "\n",
       "        "
      ],
      "text/plain": [
       "<IPython.core.display.Markdown object>"
      ]
     },
     "metadata": {},
     "output_type": "display_data"
    },
    {
     "data": {
      "image/png": "[encoded data removed]",
      "text/plain": [
       "<Figure size 432x288 with 1 Axes>"
      ]
     },
     "metadata": {
      "needs_background": "light"
     },
     "output_type": "display_data"
    },
    {
     "data": {
      "image/png": "[encoded data removed]",
      "text/plain": [
       "<Figure size 432x288 with 1 Axes>"
      ]
     },
     "metadata": {
      "needs_background": "light"
     },
     "output_type": "display_data"
    },
    {
     "data": {
      "text/markdown": [
       "\n",
       "### Feature Summary: **track loudness**  \n",
       " - Mean: -6.421\n",
       " - Std: 2.199\n",
       " - Range: -14.431 - -0.868\n",
       " - Width: 13.563\n",
       "\n",
       "        "
      ],
      "text/plain": [
       "<IPython.core.display.Markdown object>"
      ]
     },
     "metadata": {},
     "output_type": "display_data"
    },
    {
     "data": {
      "image/png": "[encoded data removed]",
      "text/plain": [
       "<Figure size 432x288 with 1 Axes>"
      ]
     },
     "metadata": {
      "needs_background": "light"
     },
     "output_type": "display_data"
    },
    {
     "data": {
      "image/png": "[encoded data removed]",
      "text/plain": [
       "<Figure size 432x288 with 1 Axes>"
      ]
     },
     "metadata": {
      "needs_background": "light"
     },
     "output_type": "display_data"
    },
    {
     "data": {
      "text/markdown": [
       "\n",
       "### Feature Summary: **track mode**  \n",
       " - Mean: 0.564\n",
       " - Std: 0.496\n",
       " - Range: 0 - 1\n",
       " - Width: 1\n",
       "\n",
       "        "
      ],
      "text/plain": [
       "<IPython.core.display.Markdown object>"
      ]
     },
     "metadata": {},
     "output_type": "display_data"
    },
    {
     "data": {
      "image/png": "[encoded data removed]",
      "text/plain": [
       "<Figure size 432x288 with 1 Axes>"
      ]
     },
     "metadata": {
      "needs_background": "light"
     },
     "output_type": "display_data"
    },
    {
     "data": {
      "image/png": "[encoded data removed]",
      "text/plain": [
       "<Figure size 432x288 with 1 Axes>"
      ]
     },
     "metadata": {
      "needs_background": "light"
     },
     "output_type": "display_data"
    },
    {
     "data": {
      "text/markdown": [
       "\n",
       "### Feature Summary: **track speechiness**  \n",
       " - Mean: 0.155\n",
       " - Std: 0.131\n",
       " - Range: 0.026 - 0.902\n",
       " - Width: 0.876\n",
       "\n",
       "        "
      ],
      "text/plain": [
       "<IPython.core.display.Markdown object>"
      ]
     },
     "metadata": {},
     "output_type": "display_data"
    },
    {
     "data": {
      "image/png": "[encoded data removed]",
      "text/plain": [
       "<Figure size 432x288 with 1 Axes>"
      ]
     },
     "metadata": {
      "needs_background": "light"
     },
     "output_type": "display_data"
    },
    {
     "data": {
      "image/png": "[encoded data removed]",
      "text/plain": [
       "<Figure size 432x288 with 1 Axes>"
      ]
     },
     "metadata": {
      "needs_background": "light"
     },
     "output_type": "display_data"
    },
    {
     "data": {
      "text/markdown": [
       "\n",
       "### Feature Summary: **track acousticness**  \n",
       " - Mean: 0.172\n",
       " - Std: 0.2\n",
       " - Range: 0.0 - 0.923\n",
       " - Width: 0.923\n",
       "\n",
       "        "
      ],
      "text/plain": [
       "<IPython.core.display.Markdown object>"
      ]
     },
     "metadata": {},
     "output_type": "display_data"
    },
    {
     "data": {
      "image/png": "[encoded data removed]",
      "text/plain": [
       "<Figure size 432x288 with 1 Axes>"
      ]
     },
     "metadata": {
      "needs_background": "light"
     },
     "output_type": "display_data"
    },
    {
     "data": {
      "image/png": "[encoded data removed]",
      "text/plain": [
       "<Figure size 432x288 with 1 Axes>"
      ]
     },
     "metadata": {
      "needs_background": "light"
     },
     "output_type": "display_data"
    },
    {
     "data": {
      "text/markdown": [
       "\n",
       "### Feature Summary: **track instrumentalness**  \n",
       " - Mean: 0.038\n",
       " - Std: 0.138\n",
       " - Range: 0.0 - 0.911\n",
       " - Width: 0.911\n",
       "\n",
       "        "
      ],
      "text/plain": [
       "<IPython.core.display.Markdown object>"
      ]
     },
     "metadata": {},
     "output_type": "display_data"
    },
    {
     "data": {
      "image/png": "[encoded data removed]",
      "text/plain": [
       "<Figure size 432x288 with 1 Axes>"
      ]
     },
     "metadata": {
      "needs_background": "light"
     },
     "output_type": "display_data"
    },
    {
     "data": {
      "image/png": "[encoded data removed]",
      "text/plain": [
       "<Figure size 432x288 with 1 Axes>"
      ]
     },
     "metadata": {
      "needs_background": "light"
     },
     "output_type": "display_data"
    },
    {
     "data": {
      "text/markdown": [
       "\n",
       "### Feature Summary: **track liveness**  \n",
       " - Mean: 0.22\n",
       " - Std: 0.165\n",
       " - Range: 0.026 - 0.821\n",
       " - Width: 0.795\n",
       "\n",
       "        "
      ],
      "text/plain": [
       "<IPython.core.display.Markdown object>"
      ]
     },
     "metadata": {},
     "output_type": "display_data"
    },
    {
     "data": {
      "image/png": "[encoded data removed]",
      "text/plain": [
       "<Figure size 432x288 with 1 Axes>"
      ]
     },
     "metadata": {
      "needs_background": "light"
     },
     "output_type": "display_data"
    },
    {
     "data": {
      "image/png": "[encoded data removed]",
      "text/plain": [
       "<Figure size 432x288 with 1 Axes>"
      ]
     },
     "metadata": {
      "needs_background": "light"
     },
     "output_type": "display_data"
    },
    {
     "data": {
      "text/markdown": [
       "\n",
       "### Feature Summary: **track valence**  \n",
       " - Mean: 0.521\n",
       " - Std: 0.22\n",
       " - Range: 0.037 - 0.981\n",
       " - Width: 0.944\n",
       "\n",
       "        "
      ],
      "text/plain": [
       "<IPython.core.display.Markdown object>"
      ]
     },
     "metadata": {},
     "output_type": "display_data"
    },
    {
     "data": {
      "image/png": "[encoded data removed]",
      "text/plain": [
       "<Figure size 432x288 with 1 Axes>"
      ]
     },
     "metadata": {
      "needs_background": "light"
     },
     "output_type": "display_data"
    },
    {
     "data": {
      "image/png": "[encoded data removed]",
      "text/plain": [
       "<Figure size 432x288 with 1 Axes>"
      ]
     },
     "metadata": {
      "needs_background": "light"
     },
     "output_type": "display_data"
    },
    {
     "data": {
      "text/markdown": [
       "\n",
       "### Feature Summary: **track tempo**  \n",
       " - Mean: 119.347\n",
       " - Std: 31.009\n",
       " - Range: 64.474 - 206.68\n",
       " - Width: 142.206\n",
       "\n",
       "        "
      ],
      "text/plain": [
       "<IPython.core.display.Markdown object>"
      ]
     },
     "metadata": {},
     "output_type": "display_data"
    },
    {
     "data": {
      "image/png": "[encoded data removed]",
      "text/plain": [
       "<Figure size 432x288 with 1 Axes>"
      ]
     },
     "metadata": {
      "needs_background": "light"
     },
     "output_type": "display_data"
    },
    {
     "data": {
      "image/png": "[encoded data removed]",
      "text/plain": [
       "<Figure size 432x288 with 1 Axes>"
      ]
     },
     "metadata": {
      "needs_background": "light"
     },
     "output_type": "display_data"
    },
    {
     "data": {
      "text/markdown": [
       "\n",
       "### Feature Summary: **track time signature**  \n",
       " - Mean: 3.974\n",
       " - Std: 0.258\n",
       " - Range: 1 - 5\n",
       " - Width: 4\n",
       "\n",
       "        "
      ],
      "text/plain": [
       "<IPython.core.display.Markdown object>"
      ]
     },
     "metadata": {},
     "output_type": "display_data"
    },
    {
     "data": {
      "image/png": "[encoded data removed]",
      "text/plain": [
       "<Figure size 432x288 with 1 Axes>"
      ]
     },
     "metadata": {
      "needs_background": "light"
     },
     "output_type": "display_data"
    },
    {
     "data": {
      "image/png": "[encoded data removed]",
      "text/plain": [
       "<Figure size 432x288 with 1 Axes>"
      ]
     },
     "metadata": {
      "needs_background": "light"
     },
     "output_type": "display_data"
    },
    {
     "data": {
      "text/markdown": [
       "\n",
       "### Feature Summary: **album release timestamp**  \n",
       " - Mean: 1434715463.951\n",
       " - Std: 304560950.88\n",
       " - Range: -347155200.0 - 1637539200.0\n",
       " - Width: 1984694400.0\n",
       "\n",
       "        "
      ],
      "text/plain": [
       "<IPython.core.display.Markdown object>"
      ]
     },
     "metadata": {},
     "output_type": "display_data"
    },
    {
     "data": {
      "image/png": "[encoded data removed]",
      "text/plain": [
       "<Figure size 432x288 with 1 Axes>"
      ]
     },
     "metadata": {
      "needs_background": "light"
     },
     "output_type": "display_data"
    },
    {
     "data": {
      "image/png": "[encoded data removed]",
      "text/plain": [
       "<Figure size 432x288 with 1 Axes>"
      ]
     },
     "metadata": {
      "needs_background": "light"
     },
     "output_type": "display_data"
    }
   ],
   "source": [
    "plt.rcParams[\"figure.figsize\"] = (8,4)\n",
    "for col in WoofBeats_df.columns:\n",
    "    if type(WoofBeats_df[col][0]) in [np.float64, np.int64]:\n",
    "        displaym(\"\"\"\n",
    "### Feature Summary: **{}**  \n",
    " - Mean: {}\n",
    " - Std: {}\n",
    " - Range: {} - {}\n",
    " - Width: {}\n",
    "\n",
    "        \"\"\".format(\n",
    "            col.replace(\"_\",\" \"),\n",
    "            round(WoofBeats_df[col].mean(),3),\n",
    "            round(WoofBeats_df[col].std(),3),\n",
    "            round(min(WoofBeats_df[col]),3),\n",
    "            round(max(WoofBeats_df[col]),3),\n",
    "            round(max(WoofBeats_df[col]) - min(WoofBeats_df[col]),3)\n",
    "        ))\n",
    "        WoofBeats_df[col].plot.hist()\n",
    "        plt.show()\n",
    "        WoofBeats_df.boxplot(col)\n",
    "        plt.show()"
   ]
  },
  {
   "cell_type": "code",
   "execution_count": 6,
   "id": "4e4bb38d-9987-4c32-bb61-11a7d7ff3721",
   "metadata": {
    "tags": []
   },
   "outputs": [
    {
     "data": {
      "text/markdown": [
       "\n",
       "### Feature Summary: **album name**  \n",
       " - Most Common: Donda\n",
       " - Least Common: x (Deluxe Edition)\n",
       "    "
      ],
      "text/plain": [
       "<IPython.core.display.Markdown object>"
      ]
     },
     "metadata": {},
     "output_type": "display_data"
    },
    {
     "data": {
      "text/html": [
       "<div>\n",
       "<style scoped>\n",
       "    .dataframe tbody tr th:only-of-type {\n",
       "        vertical-align: middle;\n",
       "    }\n",
       "\n",
       "    .dataframe tbody tr th {\n",
       "        vertical-align: top;\n",
       "    }\n",
       "\n",
       "    .dataframe thead th {\n",
       "        text-align: right;\n",
       "    }\n",
       "</style>\n",
       "<table border=\"1\" class=\"dataframe\">\n",
       "  <thead>\n",
       "    <tr style=\"text-align: right;\">\n",
       "      <th></th>\n",
       "      <th>0</th>\n",
       "    </tr>\n",
       "    <tr>\n",
       "      <th>album_name</th>\n",
       "      <th></th>\n",
       "    </tr>\n",
       "  </thead>\n",
       "  <tbody>\n",
       "    <tr>\n",
       "      <th>Donda</th>\n",
       "      <td>4</td>\n",
       "    </tr>\n",
       "    <tr>\n",
       "      <th>Gooey</th>\n",
       "      <td>3</td>\n",
       "    </tr>\n",
       "    <tr>\n",
       "      <th>Ugly is Beautiful</th>\n",
       "      <td>3</td>\n",
       "    </tr>\n",
       "    <tr>\n",
       "      <th>The Tragedian's Decoupage</th>\n",
       "      <td>3</td>\n",
       "    </tr>\n",
       "    <tr>\n",
       "      <th>Complicate Your Life with Violence</th>\n",
       "      <td>3</td>\n",
       "    </tr>\n",
       "  </tbody>\n",
       "</table>\n",
       "</div>"
      ],
      "text/plain": [
       "                                    0\n",
       "album_name                           \n",
       "Donda                               4\n",
       "Gooey                               3\n",
       "Ugly is Beautiful                   3\n",
       "The Tragedian's Decoupage           3\n",
       "Complicate Your Life with Violence  3"
      ]
     },
     "metadata": {},
     "output_type": "display_data"
    },
    {
     "data": {
      "text/markdown": [
       "\n",
       "### Feature Summary: **artist name**  \n",
       " - Most Common: Yung Gravy\n",
       " - Least Common: ¿Téo?\n",
       "    "
      ],
      "text/plain": [
       "<IPython.core.display.Markdown object>"
      ]
     },
     "metadata": {},
     "output_type": "display_data"
    },
    {
     "data": {
      "text/html": [
       "<div>\n",
       "<style scoped>\n",
       "    .dataframe tbody tr th:only-of-type {\n",
       "        vertical-align: middle;\n",
       "    }\n",
       "\n",
       "    .dataframe tbody tr th {\n",
       "        vertical-align: top;\n",
       "    }\n",
       "\n",
       "    .dataframe thead th {\n",
       "        text-align: right;\n",
       "    }\n",
       "</style>\n",
       "<table border=\"1\" class=\"dataframe\">\n",
       "  <thead>\n",
       "    <tr style=\"text-align: right;\">\n",
       "      <th></th>\n",
       "      <th>0</th>\n",
       "    </tr>\n",
       "    <tr>\n",
       "      <th>artist_name</th>\n",
       "      <th></th>\n",
       "    </tr>\n",
       "  </thead>\n",
       "  <tbody>\n",
       "    <tr>\n",
       "      <th>Yung Gravy</th>\n",
       "      <td>13</td>\n",
       "    </tr>\n",
       "    <tr>\n",
       "      <th>A$AP Rocky</th>\n",
       "      <td>9</td>\n",
       "    </tr>\n",
       "    <tr>\n",
       "      <th>Kanye West</th>\n",
       "      <td>8</td>\n",
       "    </tr>\n",
       "    <tr>\n",
       "      <th>Mac Miller</th>\n",
       "      <td>7</td>\n",
       "    </tr>\n",
       "    <tr>\n",
       "      <th>$uicideboy$</th>\n",
       "      <td>6</td>\n",
       "    </tr>\n",
       "  </tbody>\n",
       "</table>\n",
       "</div>"
      ],
      "text/plain": [
       "              0\n",
       "artist_name    \n",
       "Yung Gravy   13\n",
       "A$AP Rocky    9\n",
       "Kanye West    8\n",
       "Mac Miller    7\n",
       "$uicideboy$   6"
      ]
     },
     "metadata": {},
     "output_type": "display_data"
    },
    {
     "data": {
      "text/markdown": [
       "\n",
       "### Feature Summary: **playlist name**  \n",
       " - Most Common: WoofBeats-2021-01\n",
       " - Least Common: WoofBeats-2021-11\n",
       "    "
      ],
      "text/plain": [
       "<IPython.core.display.Markdown object>"
      ]
     },
     "metadata": {},
     "output_type": "display_data"
    },
    {
     "data": {
      "text/html": [
       "<div>\n",
       "<style scoped>\n",
       "    .dataframe tbody tr th:only-of-type {\n",
       "        vertical-align: middle;\n",
       "    }\n",
       "\n",
       "    .dataframe tbody tr th {\n",
       "        vertical-align: top;\n",
       "    }\n",
       "\n",
       "    .dataframe thead th {\n",
       "        text-align: right;\n",
       "    }\n",
       "</style>\n",
       "<table border=\"1\" class=\"dataframe\">\n",
       "  <thead>\n",
       "    <tr style=\"text-align: right;\">\n",
       "      <th></th>\n",
       "      <th>0</th>\n",
       "    </tr>\n",
       "    <tr>\n",
       "      <th>playlist_name</th>\n",
       "      <th></th>\n",
       "    </tr>\n",
       "  </thead>\n",
       "  <tbody>\n",
       "    <tr>\n",
       "      <th>WoofBeats-2021-01</th>\n",
       "      <td>56</td>\n",
       "    </tr>\n",
       "    <tr>\n",
       "      <th>WoofBeats-2021-04</th>\n",
       "      <td>50</td>\n",
       "    </tr>\n",
       "    <tr>\n",
       "      <th>WoofBeats-2021-06</th>\n",
       "      <td>50</td>\n",
       "    </tr>\n",
       "    <tr>\n",
       "      <th>WoofBeats-2020-12</th>\n",
       "      <td>46</td>\n",
       "    </tr>\n",
       "    <tr>\n",
       "      <th>WoofBeats-2021-02</th>\n",
       "      <td>45</td>\n",
       "    </tr>\n",
       "  </tbody>\n",
       "</table>\n",
       "</div>"
      ],
      "text/plain": [
       "                    0\n",
       "playlist_name        \n",
       "WoofBeats-2021-01  56\n",
       "WoofBeats-2021-04  50\n",
       "WoofBeats-2021-06  50\n",
       "WoofBeats-2020-12  46\n",
       "WoofBeats-2021-02  45"
      ]
     },
     "metadata": {},
     "output_type": "display_data"
    },
    {
     "data": {
      "image/png": "[encoded data removed]",
      "text/plain": [
       "<Figure size 576x288 with 1 Axes>"
      ]
     },
     "metadata": {
      "needs_background": "light"
     },
     "output_type": "display_data"
    },
    {
     "data": {
      "text/markdown": [
       "\n",
       "### Feature Summary: **added by**  \n",
       " - Most Common: davidmimorton\n",
       " - Least Common: beet1eman\n",
       "    "
      ],
      "text/plain": [
       "<IPython.core.display.Markdown object>"
      ]
     },
     "metadata": {},
     "output_type": "display_data"
    },
    {
     "data": {
      "text/html": [
       "<div>\n",
       "<style scoped>\n",
       "    .dataframe tbody tr th:only-of-type {\n",
       "        vertical-align: middle;\n",
       "    }\n",
       "\n",
       "    .dataframe tbody tr th {\n",
       "        vertical-align: top;\n",
       "    }\n",
       "\n",
       "    .dataframe thead th {\n",
       "        text-align: right;\n",
       "    }\n",
       "</style>\n",
       "<table border=\"1\" class=\"dataframe\">\n",
       "  <thead>\n",
       "    <tr style=\"text-align: right;\">\n",
       "      <th></th>\n",
       "      <th>0</th>\n",
       "    </tr>\n",
       "    <tr>\n",
       "      <th>added_by</th>\n",
       "      <th></th>\n",
       "    </tr>\n",
       "  </thead>\n",
       "  <tbody>\n",
       "    <tr>\n",
       "      <th>davidmimorton</th>\n",
       "      <td>181</td>\n",
       "    </tr>\n",
       "    <tr>\n",
       "      <th>Dakota</th>\n",
       "      <td>157</td>\n",
       "    </tr>\n",
       "    <tr>\n",
       "      <th>Dan</th>\n",
       "      <td>149</td>\n",
       "    </tr>\n",
       "    <tr>\n",
       "      <th>1243264703</th>\n",
       "      <td>2</td>\n",
       "    </tr>\n",
       "    <tr>\n",
       "      <th>beet1eman</th>\n",
       "      <td>2</td>\n",
       "    </tr>\n",
       "  </tbody>\n",
       "</table>\n",
       "</div>"
      ],
      "text/plain": [
       "                 0\n",
       "added_by          \n",
       "davidmimorton  181\n",
       "Dakota         157\n",
       "Dan            149\n",
       "1243264703       2\n",
       "beet1eman        2"
      ]
     },
     "metadata": {},
     "output_type": "display_data"
    },
    {
     "data": {
      "image/png": "[encoded data removed]",
      "text/plain": [
       "<Figure size 576x288 with 1 Axes>"
      ]
     },
     "metadata": {
      "needs_background": "light"
     },
     "output_type": "display_data"
    }
   ],
   "source": [
    "plt.rcParams[\"figure.figsize\"] = (8,4)\n",
    "\n",
    "categorical_features = [\n",
    "    \"album_name\",\n",
    "    \"artist_name\",\n",
    "    \"playlist_name\",\n",
    "    \"added_by\"\n",
    "]\n",
    "\n",
    "for col in categorical_features:\n",
    "    sorted_categories = WoofBeats_df[[col]].groupby(col) \\\n",
    "            .size() \\\n",
    "            .sort_values(ascending=False) \\\n",
    "            .reset_index(col) \\\n",
    "            .set_index(col)\n",
    "    \n",
    "    displaym(\"\"\"\n",
    "### Feature Summary: **{}**  \n",
    " - Most Common: {}\n",
    " - Least Common: {}\n",
    "    \"\"\".format(\n",
    "        col.replace(\"_\",\" \"),\n",
    "        sorted_categories.index[0],\n",
    "        sorted_categories.index[len(sorted_categories.index)-1]\n",
    "    ))\n",
    "    display(sorted_categories.head())\n",
    "    if col in [\"added_by\", \"playlist_name\"]:\n",
    "        sorted_categories.plot.bar()\n",
    "        plt.show()\n",
    "    \n"
   ]
  },
  {
   "cell_type": "markdown",
   "id": "bfc5ae3d-0c52-49ec-a035-1dd80bb65b6d",
   "metadata": {},
   "source": [
    "# Standardize Numerical Features and Apply PCA Dimension Reduction"
   ]
  },
  {
   "cell_type": "code",
   "execution_count": 47,
   "id": "2fe3ca1d-c38d-4763-927f-c42ed53ff450",
   "metadata": {},
   "outputs": [
    {
     "data": {
      "text/markdown": [
       "\n",
       "## PCA Explained Variance Ratios Chart  \n",
       "- **Method**  \n",
       "    - Include components that explain **>5%** of the variance  \n",
       "- **Result**\n",
       "    - Used **10** principal components  \n",
       "    - Explained Variance Ratios (%): 13.5, 12.1, 8.9, 8.6, 7.6, 6.5, 6.5, 5.7, 5.5, 5.3, 4.7, 4.4, 3.3, 3.0, 2.8, 1.5  \n"
      ],
      "text/plain": [
       "<IPython.core.display.Markdown object>"
      ]
     },
     "metadata": {},
     "output_type": "display_data"
    },
    {
     "data": {
      "text/plain": [
       "<AxesSubplot:>"
      ]
     },
     "execution_count": 47,
     "metadata": {},
     "output_type": "execute_result"
    },
    {
     "data": {
      "image/png": "[encoded data removed]",
      "text/plain": [
       "<Figure size 1008x288 with 1 Axes>"
      ]
     },
     "metadata": {
      "needs_background": "light"
     },
     "output_type": "display_data"
    }
   ],
   "source": [
    "plt.rcParams[\"figure.figsize\"] = (14,4)\n",
    "\n",
    "numerical_features = [\n",
    "    \"track_duration_ms\",\n",
    "    \"track_popularity\",\n",
    "    \"track_explicit\",\n",
    "    \"track_danceability\",\n",
    "    \"track_energy\",\n",
    "    \"track_key\",\n",
    "    \"track_loudness\",\n",
    "    \"track_mode\",\n",
    "    \"track_speechiness\",\n",
    "    \"track_acousticness\",\n",
    "    \"track_instrumentalness\",\n",
    "    \"track_liveness\",\n",
    "    \"track_valence\",\n",
    "    \"track_tempo\",\n",
    "    \"track_time_signature\",\n",
    "    \"album_release_timestamp\"\n",
    "] \n",
    "    \n",
    "standardized_numerical_features = WoofBeats_df[numerical_features].apply(zscore)\n",
    "\n",
    "pca = PCA(n_components=standardized_numerical_features.shape[1])\n",
    "pca.fit(standardized_numerical_features)\n",
    "\n",
    "reduced_numerical_features = pd.DataFrame(\n",
    "    pca.transform(standardized_numerical_features),\n",
    "    index=WoofBeats_df[\"track_id\"]\n",
    ")[[i for i, v in enumerate(pca.explained_variance_ratio_) if v > 0.05]]\n",
    "displaym(\"\"\"\n",
    "## PCA Explained Variance Ratios Chart  \n",
    "- **Method**  \n",
    "    - Include components that explain **>5%** of the variance  \n",
    "- **Result**\n",
    "    - Used **{}** principal components  \n",
    "    - Explained Variance Ratios (%): {}  \n",
    "\"\"\".format(\n",
    "    len(reduced_numerical_features.columns),\n",
    "    \", \".join([str(round(e*100,1)) for e in pca.explained_variance_ratio_])\n",
    "))\n",
    "pd.DataFrame(pca.explained_variance_ratio_).plot.bar()"
   ]
  },
  {
   "cell_type": "markdown",
   "id": "4999d34c-4469-46ed-aa86-37655886fce8",
   "metadata": {},
   "source": [
    "# Apply Clustering and Create **theRes/*.v001** Playlists\n",
    "## Hierarchical Clustering Dendrogram \n",
    "- **Method**\n",
    "    - Generate **6** hierarchical clusters from the PCA transformed features"
   ]
  },
  {
   "cell_type": "code",
   "execution_count": 8,
   "id": "670c88c9-41e1-4f36-979b-77ed278bc33e",
   "metadata": {},
   "outputs": [
    {
     "data": {
      "image/png": "[encoded data removed]",
      "text/plain": [
       "<Figure size 1152x720 with 1 Axes>"
      ]
     },
     "metadata": {
      "needs_background": "light"
     },
     "output_type": "display_data"
    }
   ],
   "source": [
    "plt.rcParams[\"figure.figsize\"] = (16,10)\n",
    "model = AgglomerativeClustering(distance_threshold=0, n_clusters=None)\n",
    "model = model.fit(reduced_numerical_features)\n",
    "plot_dendrogram(model, truncate_mode=\"level\", p=6)\n",
    "model = AgglomerativeClustering(n_clusters=6)\n",
    "model = model.fit(reduced_numerical_features)"
   ]
  },
  {
   "cell_type": "markdown",
   "id": "93fa8694-e5a7-4c86-932c-e27a6b662edd",
   "metadata": {},
   "source": [
    "## Add Cluster Labels"
   ]
  },
  {
   "cell_type": "code",
   "execution_count": 9,
   "id": "da008182-77e6-4941-948e-3e33aa84182a",
   "metadata": {},
   "outputs": [
    {
     "data": {
      "text/html": [
       "<div>\n",
       "<style scoped>\n",
       "    .dataframe tbody tr th:only-of-type {\n",
       "        vertical-align: middle;\n",
       "    }\n",
       "\n",
       "    .dataframe tbody tr th {\n",
       "        vertical-align: top;\n",
       "    }\n",
       "\n",
       "    .dataframe thead th {\n",
       "        text-align: right;\n",
       "    }\n",
       "</style>\n",
       "<table border=\"1\" class=\"dataframe\">\n",
       "  <thead>\n",
       "    <tr style=\"text-align: right;\">\n",
       "      <th></th>\n",
       "      <th>theRes_playlist_id</th>\n",
       "      <th>track_id</th>\n",
       "      <th>track_name</th>\n",
       "      <th>track_duration_ms</th>\n",
       "      <th>track_popularity</th>\n",
       "      <th>track_explicit</th>\n",
       "      <th>track_danceability</th>\n",
       "      <th>track_energy</th>\n",
       "      <th>track_key</th>\n",
       "      <th>track_loudness</th>\n",
       "      <th>...</th>\n",
       "      <th>track_tempo</th>\n",
       "      <th>track_time_signature</th>\n",
       "      <th>album_name</th>\n",
       "      <th>album_release_timestamp</th>\n",
       "      <th>album_id</th>\n",
       "      <th>artist_id</th>\n",
       "      <th>artist_name</th>\n",
       "      <th>playlist_name</th>\n",
       "      <th>playlist_id</th>\n",
       "      <th>added_by</th>\n",
       "    </tr>\n",
       "  </thead>\n",
       "  <tbody>\n",
       "    <tr>\n",
       "      <th>7</th>\n",
       "      <td>1</td>\n",
       "      <td>4koUus4S93dvJTG1y2REpO</td>\n",
       "      <td>Pistol Packin'</td>\n",
       "      <td>133451</td>\n",
       "      <td>45</td>\n",
       "      <td>True</td>\n",
       "      <td>0.877</td>\n",
       "      <td>0.633</td>\n",
       "      <td>8</td>\n",
       "      <td>-7.827</td>\n",
       "      <td>...</td>\n",
       "      <td>144.067</td>\n",
       "      <td>4</td>\n",
       "      <td>Roommates</td>\n",
       "      <td>1.576800e+09</td>\n",
       "      <td>1ltF2yYtR3S6GbRJaZNSNp</td>\n",
       "      <td>3XdU4Dq9V7PluphM2tjhIE</td>\n",
       "      <td>Henry AZ</td>\n",
       "      <td>WoofBeats-2021-12</td>\n",
       "      <td>4Wj5LF1wo57BP6Fk2Itzk9</td>\n",
       "      <td>davidmimorton</td>\n",
       "    </tr>\n",
       "    <tr>\n",
       "      <th>8</th>\n",
       "      <td>1</td>\n",
       "      <td>64N9iPP5DxkAjNkmSGdg8h</td>\n",
       "      <td>Roller Disco 1980</td>\n",
       "      <td>204520</td>\n",
       "      <td>27</td>\n",
       "      <td>False</td>\n",
       "      <td>0.778</td>\n",
       "      <td>0.668</td>\n",
       "      <td>6</td>\n",
       "      <td>-5.397</td>\n",
       "      <td>...</td>\n",
       "      <td>99.999</td>\n",
       "      <td>4</td>\n",
       "      <td>Time Machine</td>\n",
       "      <td>1.579824e+09</td>\n",
       "      <td>0FFubmrHvePJdLgvKaVLIq</td>\n",
       "      <td>4JhjlqgMbd4RlrT81VoTIF</td>\n",
       "      <td>The Geek x Vrv</td>\n",
       "      <td>WoofBeats-2021-12</td>\n",
       "      <td>4Wj5LF1wo57BP6Fk2Itzk9</td>\n",
       "      <td>davidmimorton</td>\n",
       "    </tr>\n",
       "    <tr>\n",
       "      <th>13</th>\n",
       "      <td>1</td>\n",
       "      <td>6avIhKyw4XLjz3w1Q8pBIa</td>\n",
       "      <td>ozymandias</td>\n",
       "      <td>225755</td>\n",
       "      <td>34</td>\n",
       "      <td>False</td>\n",
       "      <td>0.730</td>\n",
       "      <td>0.437</td>\n",
       "      <td>4</td>\n",
       "      <td>-9.614</td>\n",
       "      <td>...</td>\n",
       "      <td>119.979</td>\n",
       "      <td>4</td>\n",
       "      <td>oRANGE.</td>\n",
       "      <td>1.603238e+09</td>\n",
       "      <td>0A6A8b1qnY9WApLW05Vohf</td>\n",
       "      <td>2EOIjdzbFGRM87IvJU34JJ</td>\n",
       "      <td>Stop Light Observations</td>\n",
       "      <td>WoofBeats-2021-12</td>\n",
       "      <td>4Wj5LF1wo57BP6Fk2Itzk9</td>\n",
       "      <td>Dan</td>\n",
       "    </tr>\n",
       "    <tr>\n",
       "      <th>20</th>\n",
       "      <td>1</td>\n",
       "      <td>365TSrFPqM66giaxJuafR3</td>\n",
       "      <td>Shine A Little Light</td>\n",
       "      <td>196777</td>\n",
       "      <td>57</td>\n",
       "      <td>False</td>\n",
       "      <td>0.440</td>\n",
       "      <td>0.719</td>\n",
       "      <td>8</td>\n",
       "      <td>-6.645</td>\n",
       "      <td>...</td>\n",
       "      <td>111.398</td>\n",
       "      <td>4</td>\n",
       "      <td>\"Let's Rock\"</td>\n",
       "      <td>1.561680e+09</td>\n",
       "      <td>0aA9rYw8PEv9G7tVIJ9dKg</td>\n",
       "      <td>7mnBLXK823vNxN3UWB7Gfz</td>\n",
       "      <td>The Black Keys</td>\n",
       "      <td>WoofBeats-2021-12</td>\n",
       "      <td>4Wj5LF1wo57BP6Fk2Itzk9</td>\n",
       "      <td>Dan</td>\n",
       "    </tr>\n",
       "    <tr>\n",
       "      <th>21</th>\n",
       "      <td>1</td>\n",
       "      <td>2b0G006xcIUoqvRDDaCT8E</td>\n",
       "      <td>July</td>\n",
       "      <td>207587</td>\n",
       "      <td>54</td>\n",
       "      <td>False</td>\n",
       "      <td>0.607</td>\n",
       "      <td>0.658</td>\n",
       "      <td>6</td>\n",
       "      <td>-5.552</td>\n",
       "      <td>...</td>\n",
       "      <td>99.983</td>\n",
       "      <td>4</td>\n",
       "      <td>Feels Like We’ve Been Here Before</td>\n",
       "      <td>1.602806e+09</td>\n",
       "      <td>3oDmsU4EhxfrPOBYycOyEO</td>\n",
       "      <td>3pT3KTodKJRyqpxoXINfQh</td>\n",
       "      <td>Betcha</td>\n",
       "      <td>WoofBeats-2021-12</td>\n",
       "      <td>4Wj5LF1wo57BP6Fk2Itzk9</td>\n",
       "      <td>Dan</td>\n",
       "    </tr>\n",
       "    <tr>\n",
       "      <th>...</th>\n",
       "      <td>...</td>\n",
       "      <td>...</td>\n",
       "      <td>...</td>\n",
       "      <td>...</td>\n",
       "      <td>...</td>\n",
       "      <td>...</td>\n",
       "      <td>...</td>\n",
       "      <td>...</td>\n",
       "      <td>...</td>\n",
       "      <td>...</td>\n",
       "      <td>...</td>\n",
       "      <td>...</td>\n",
       "      <td>...</td>\n",
       "      <td>...</td>\n",
       "      <td>...</td>\n",
       "      <td>...</td>\n",
       "      <td>...</td>\n",
       "      <td>...</td>\n",
       "      <td>...</td>\n",
       "      <td>...</td>\n",
       "      <td>...</td>\n",
       "    </tr>\n",
       "    <tr>\n",
       "      <th>474</th>\n",
       "      <td>1</td>\n",
       "      <td>0JzPnwc3eDdyBeReXFLgXr</td>\n",
       "      <td>Look Easy</td>\n",
       "      <td>165219</td>\n",
       "      <td>51</td>\n",
       "      <td>True</td>\n",
       "      <td>0.718</td>\n",
       "      <td>0.637</td>\n",
       "      <td>1</td>\n",
       "      <td>-9.962</td>\n",
       "      <td>...</td>\n",
       "      <td>108.023</td>\n",
       "      <td>4</td>\n",
       "      <td>Look Easy</td>\n",
       "      <td>1.594339e+09</td>\n",
       "      <td>0XCbNyUbT3873z30JAwkbi</td>\n",
       "      <td>6qgnBH6iDM91ipVXv28OMu</td>\n",
       "      <td>KAYTRANADA</td>\n",
       "      <td>WoofBeats-2020-12</td>\n",
       "      <td>26ytCXO4GPGK6MEr3uZojZ</td>\n",
       "      <td>davidmimorton</td>\n",
       "    </tr>\n",
       "    <tr>\n",
       "      <th>481</th>\n",
       "      <td>1</td>\n",
       "      <td>3Ka76BnYHotgd40hw9bCmy</td>\n",
       "      <td>Are You Dumm?</td>\n",
       "      <td>186000</td>\n",
       "      <td>41</td>\n",
       "      <td>True</td>\n",
       "      <td>0.689</td>\n",
       "      <td>0.797</td>\n",
       "      <td>6</td>\n",
       "      <td>-1.374</td>\n",
       "      <td>...</td>\n",
       "      <td>140.042</td>\n",
       "      <td>4</td>\n",
       "      <td>Are You Dumm?</td>\n",
       "      <td>1.558224e+09</td>\n",
       "      <td>64km14wDsYdGhIjEtr5EFl</td>\n",
       "      <td>3yWkGucNPWM01EylvM8Ng3</td>\n",
       "      <td>Flmmboiint Frdii</td>\n",
       "      <td>WoofBeats-2020-12</td>\n",
       "      <td>26ytCXO4GPGK6MEr3uZojZ</td>\n",
       "      <td>Dakota</td>\n",
       "    </tr>\n",
       "    <tr>\n",
       "      <th>482</th>\n",
       "      <td>1</td>\n",
       "      <td>2NSHs7fnTlqosMNy72P7Mb</td>\n",
       "      <td>Fast Talk</td>\n",
       "      <td>259947</td>\n",
       "      <td>0</td>\n",
       "      <td>False</td>\n",
       "      <td>0.603</td>\n",
       "      <td>0.502</td>\n",
       "      <td>9</td>\n",
       "      <td>-7.732</td>\n",
       "      <td>...</td>\n",
       "      <td>69.987</td>\n",
       "      <td>4</td>\n",
       "      <td>Fast Talk</td>\n",
       "      <td>1.535069e+09</td>\n",
       "      <td>3SMoItGjCanLw0iCHTeffs</td>\n",
       "      <td>648kpaANsUr1HABoE4mkPw</td>\n",
       "      <td>Houses</td>\n",
       "      <td>WoofBeats-2020-12</td>\n",
       "      <td>26ytCXO4GPGK6MEr3uZojZ</td>\n",
       "      <td>Dan</td>\n",
       "    </tr>\n",
       "    <tr>\n",
       "      <th>484</th>\n",
       "      <td>1</td>\n",
       "      <td>531MBHrtGF6nAkK4zUafi9</td>\n",
       "      <td>Mutual Butterflies</td>\n",
       "      <td>183875</td>\n",
       "      <td>62</td>\n",
       "      <td>True</td>\n",
       "      <td>0.616</td>\n",
       "      <td>0.649</td>\n",
       "      <td>3</td>\n",
       "      <td>-5.133</td>\n",
       "      <td>...</td>\n",
       "      <td>78.131</td>\n",
       "      <td>4</td>\n",
       "      <td>august</td>\n",
       "      <td>1.535674e+09</td>\n",
       "      <td>7h1xc7a0GqmwkzOu29YbjD</td>\n",
       "      <td>5YHM0i7v5TqqibZhS0YiuX</td>\n",
       "      <td>Ryan Trey</td>\n",
       "      <td>WoofBeats-2020-12</td>\n",
       "      <td>26ytCXO4GPGK6MEr3uZojZ</td>\n",
       "      <td>Dakota</td>\n",
       "    </tr>\n",
       "    <tr>\n",
       "      <th>490</th>\n",
       "      <td>1</td>\n",
       "      <td>3c5Og78p3plOCBbNLg5K9L</td>\n",
       "      <td>Lone - Slow Hours Remix</td>\n",
       "      <td>272999</td>\n",
       "      <td>44</td>\n",
       "      <td>False</td>\n",
       "      <td>0.360</td>\n",
       "      <td>0.679</td>\n",
       "      <td>5</td>\n",
       "      <td>-7.178</td>\n",
       "      <td>...</td>\n",
       "      <td>77.076</td>\n",
       "      <td>4</td>\n",
       "      <td>Divide &amp; Conquer (Remixes)</td>\n",
       "      <td>1.497571e+09</td>\n",
       "      <td>3XaUNjcSJ6oyhoaFTqRbLb</td>\n",
       "      <td>4AA8eXtzqh5ykxtafLaPOi</td>\n",
       "      <td>What So Not</td>\n",
       "      <td>WoofBeats-2020-12</td>\n",
       "      <td>26ytCXO4GPGK6MEr3uZojZ</td>\n",
       "      <td>davidmimorton</td>\n",
       "    </tr>\n",
       "  </tbody>\n",
       "</table>\n",
       "<p>139 rows × 26 columns</p>\n",
       "</div>"
      ],
      "text/plain": [
       "     theRes_playlist_id                track_id               track_name  \\\n",
       "7                     1  4koUus4S93dvJTG1y2REpO           Pistol Packin'   \n",
       "8                     1  64N9iPP5DxkAjNkmSGdg8h        Roller Disco 1980   \n",
       "13                    1  6avIhKyw4XLjz3w1Q8pBIa               ozymandias   \n",
       "20                    1  365TSrFPqM66giaxJuafR3     Shine A Little Light   \n",
       "21                    1  2b0G006xcIUoqvRDDaCT8E                     July   \n",
       "..                  ...                     ...                      ...   \n",
       "474                   1  0JzPnwc3eDdyBeReXFLgXr                Look Easy   \n",
       "481                   1  3Ka76BnYHotgd40hw9bCmy            Are You Dumm?   \n",
       "482                   1  2NSHs7fnTlqosMNy72P7Mb                Fast Talk   \n",
       "484                   1  531MBHrtGF6nAkK4zUafi9       Mutual Butterflies   \n",
       "490                   1  3c5Og78p3plOCBbNLg5K9L  Lone - Slow Hours Remix   \n",
       "\n",
       "     track_duration_ms  track_popularity  track_explicit  track_danceability  \\\n",
       "7               133451                45            True               0.877   \n",
       "8               204520                27           False               0.778   \n",
       "13              225755                34           False               0.730   \n",
       "20              196777                57           False               0.440   \n",
       "21              207587                54           False               0.607   \n",
       "..                 ...               ...             ...                 ...   \n",
       "474             165219                51            True               0.718   \n",
       "481             186000                41            True               0.689   \n",
       "482             259947                 0           False               0.603   \n",
       "484             183875                62            True               0.616   \n",
       "490             272999                44           False               0.360   \n",
       "\n",
       "     track_energy  track_key  track_loudness  ...  track_tempo  \\\n",
       "7           0.633          8          -7.827  ...      144.067   \n",
       "8           0.668          6          -5.397  ...       99.999   \n",
       "13          0.437          4          -9.614  ...      119.979   \n",
       "20          0.719          8          -6.645  ...      111.398   \n",
       "21          0.658          6          -5.552  ...       99.983   \n",
       "..            ...        ...             ...  ...          ...   \n",
       "474         0.637          1          -9.962  ...      108.023   \n",
       "481         0.797          6          -1.374  ...      140.042   \n",
       "482         0.502          9          -7.732  ...       69.987   \n",
       "484         0.649          3          -5.133  ...       78.131   \n",
       "490         0.679          5          -7.178  ...       77.076   \n",
       "\n",
       "     track_time_signature                         album_name  \\\n",
       "7                       4                          Roommates   \n",
       "8                       4                       Time Machine   \n",
       "13                      4                            oRANGE.   \n",
       "20                      4                       \"Let's Rock\"   \n",
       "21                      4  Feels Like We’ve Been Here Before   \n",
       "..                    ...                                ...   \n",
       "474                     4                          Look Easy   \n",
       "481                     4                      Are You Dumm?   \n",
       "482                     4                          Fast Talk   \n",
       "484                     4                             august   \n",
       "490                     4         Divide & Conquer (Remixes)   \n",
       "\n",
       "     album_release_timestamp                album_id               artist_id  \\\n",
       "7               1.576800e+09  1ltF2yYtR3S6GbRJaZNSNp  3XdU4Dq9V7PluphM2tjhIE   \n",
       "8               1.579824e+09  0FFubmrHvePJdLgvKaVLIq  4JhjlqgMbd4RlrT81VoTIF   \n",
       "13              1.603238e+09  0A6A8b1qnY9WApLW05Vohf  2EOIjdzbFGRM87IvJU34JJ   \n",
       "20              1.561680e+09  0aA9rYw8PEv9G7tVIJ9dKg  7mnBLXK823vNxN3UWB7Gfz   \n",
       "21              1.602806e+09  3oDmsU4EhxfrPOBYycOyEO  3pT3KTodKJRyqpxoXINfQh   \n",
       "..                       ...                     ...                     ...   \n",
       "474             1.594339e+09  0XCbNyUbT3873z30JAwkbi  6qgnBH6iDM91ipVXv28OMu   \n",
       "481             1.558224e+09  64km14wDsYdGhIjEtr5EFl  3yWkGucNPWM01EylvM8Ng3   \n",
       "482             1.535069e+09  3SMoItGjCanLw0iCHTeffs  648kpaANsUr1HABoE4mkPw   \n",
       "484             1.535674e+09  7h1xc7a0GqmwkzOu29YbjD  5YHM0i7v5TqqibZhS0YiuX   \n",
       "490             1.497571e+09  3XaUNjcSJ6oyhoaFTqRbLb  4AA8eXtzqh5ykxtafLaPOi   \n",
       "\n",
       "                 artist_name      playlist_name             playlist_id  \\\n",
       "7                   Henry AZ  WoofBeats-2021-12  4Wj5LF1wo57BP6Fk2Itzk9   \n",
       "8             The Geek x Vrv  WoofBeats-2021-12  4Wj5LF1wo57BP6Fk2Itzk9   \n",
       "13   Stop Light Observations  WoofBeats-2021-12  4Wj5LF1wo57BP6Fk2Itzk9   \n",
       "20            The Black Keys  WoofBeats-2021-12  4Wj5LF1wo57BP6Fk2Itzk9   \n",
       "21                    Betcha  WoofBeats-2021-12  4Wj5LF1wo57BP6Fk2Itzk9   \n",
       "..                       ...                ...                     ...   \n",
       "474               KAYTRANADA  WoofBeats-2020-12  26ytCXO4GPGK6MEr3uZojZ   \n",
       "481         Flmmboiint Frdii  WoofBeats-2020-12  26ytCXO4GPGK6MEr3uZojZ   \n",
       "482                   Houses  WoofBeats-2020-12  26ytCXO4GPGK6MEr3uZojZ   \n",
       "484                Ryan Trey  WoofBeats-2020-12  26ytCXO4GPGK6MEr3uZojZ   \n",
       "490              What So Not  WoofBeats-2020-12  26ytCXO4GPGK6MEr3uZojZ   \n",
       "\n",
       "          added_by  \n",
       "7    davidmimorton  \n",
       "8    davidmimorton  \n",
       "13             Dan  \n",
       "20             Dan  \n",
       "21             Dan  \n",
       "..             ...  \n",
       "474  davidmimorton  \n",
       "481         Dakota  \n",
       "482            Dan  \n",
       "484         Dakota  \n",
       "490  davidmimorton  \n",
       "\n",
       "[139 rows x 26 columns]"
      ]
     },
     "execution_count": 9,
     "metadata": {},
     "output_type": "execute_result"
    }
   ],
   "source": [
    "theRes_playlist = pd.DataFrame(\n",
    "    model.labels_,\n",
    "    columns = [\"theRes_playlist_id\"]\n",
    ")\n",
    "theRes_playlist = pd.concat(\n",
    "    [theRes_playlist, WoofBeats_df],\n",
    "    axis=1\n",
    ")\n",
    "theRes_playlist[theRes_playlist[\"theRes_playlist_id\"]==1]"
   ]
  },
  {
   "cell_type": "markdown",
   "id": "d82422e6-2b88-42f5-bcfd-a3dc3a67218c",
   "metadata": {},
   "source": [
    "## Create Playlist for each Cluster Label"
   ]
  },
  {
   "cell_type": "code",
   "execution_count": 11,
   "id": "80ef386a-757c-4312-a820-fc401287a810",
   "metadata": {},
   "outputs": [
    {
     "data": {
      "text/markdown": [
       "\n",
       "---\n",
       "Created Playlist: **theRes/cluster0.v001**   \n",
       "Song Count: **41**\n",
       "---\n",
       "    "
      ],
      "text/plain": [
       "<IPython.core.display.Markdown object>"
      ]
     },
     "metadata": {},
     "output_type": "display_data"
    },
    {
     "data": {
      "text/markdown": [
       "\n",
       "---\n",
       "Created Playlist: **theRes/cluster1.v001**   \n",
       "Song Count: **139**\n",
       "---\n",
       "    "
      ],
      "text/plain": [
       "<IPython.core.display.Markdown object>"
      ]
     },
     "metadata": {},
     "output_type": "display_data"
    },
    {
     "data": {
      "text/markdown": [
       "\n",
       "---\n",
       "Created Playlist: **theRes/cluster2.v001**   \n",
       "Song Count: **159**\n",
       "---\n",
       "    "
      ],
      "text/plain": [
       "<IPython.core.display.Markdown object>"
      ]
     },
     "metadata": {},
     "output_type": "display_data"
    },
    {
     "data": {
      "text/markdown": [
       "\n",
       "---\n",
       "Created Playlist: **theRes/cluster3.v001**   \n",
       "Song Count: **115**\n",
       "---\n",
       "    "
      ],
      "text/plain": [
       "<IPython.core.display.Markdown object>"
      ]
     },
     "metadata": {},
     "output_type": "display_data"
    },
    {
     "data": {
      "text/markdown": [
       "\n",
       "---\n",
       "Created Playlist: **theRes/cluster4.v001**   \n",
       "Song Count: **17**\n",
       "---\n",
       "    "
      ],
      "text/plain": [
       "<IPython.core.display.Markdown object>"
      ]
     },
     "metadata": {},
     "output_type": "display_data"
    },
    {
     "data": {
      "text/markdown": [
       "\n",
       "---\n",
       "Created Playlist: **theRes/cluster5.v001**   \n",
       "Song Count: **20**\n",
       "---\n",
       "    "
      ],
      "text/plain": [
       "<IPython.core.display.Markdown object>"
      ]
     },
     "metadata": {},
     "output_type": "display_data"
    }
   ],
   "source": [
    "current_user_id = spotify.current_user()[\"id\"]\n",
    "for playlist_id in set(theRes_playlist[\"theRes_playlist_id\"]):\n",
    "    new_playlist = spotify.user_playlist_create(\n",
    "        current_user_id,\n",
    "        \"theRes/cluster{}.v001\".format(playlist_id)\n",
    "    )\n",
    "    track_ids = list(theRes_playlist[theRes_playlist[\"theRes_playlist_id\"]==playlist_id][\"track_id\"])\n",
    "\n",
    "    displaym(\"\"\"\n",
    "---\n",
    "Created Playlist: **{}**   \n",
    "Song Count: **{}**\n",
    "---\n",
    "    \"\"\".format(\n",
    "        new_playlist[\"name\"],\n",
    "        len(track_ids)\n",
    "    ))\n",
    "    uploaded_tracks_count = 0\n",
    "    page_size = 100\n",
    "    while uploaded_tracks_count<=len(track_ids):\n",
    "        end_of_page = min(len(track_ids),uploaded_tracks_count + page_size)\n",
    "        spotify.playlist_add_items(\n",
    "            new_playlist[\"id\"],\n",
    "            track_ids[uploaded_tracks_count:end_of_page]\n",
    "        )\n",
    "        uploaded_tracks_count += page_size"
   ]
  }
 ],
 "metadata": {
  "kernelspec": {
   "display_name": "Python 3 (ipykernel)",
   "language": "python",
   "name": "python3"
  },
  "language_info": {
   "codemirror_mode": {
    "name": "ipython",
    "version": 3
   },
   "file_extension": ".py",
   "mimetype": "text/x-python",
   "name": "python",
   "nbconvert_exporter": "python",
   "pygments_lexer": "ipython3",
   "version": "3.10.0"
  },
  "toc-autonumbering": true
 },
 "nbformat": 4,
 "nbformat_minor": 5
}
