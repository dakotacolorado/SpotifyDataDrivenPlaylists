{
 "cells": [
  {
   "cell_type": "code",
   "execution_count": 19,
   "id": "bcd46195-c76f-47a1-950d-ddde4f5860d4",
   "metadata": {
    "tags": []
   },
   "outputs": [],
   "source": [
    "from IPython.display import Markdown, Latex\n",
    "displaym = lambda markdown : display(Markdown(markdown))\n",
    "from spotifyUtil import get_spotify_client\n",
    "spotify = get_spotify_client()\n",
    "import matplotlib.pyplot as plt\n",
    "import pandas as pd\n",
    "import numpy as np"
   ]
  },
  {
   "cell_type": "markdown",
   "id": "49d91929-c8f3-43f0-ad58-11887cb4cf0b",
   "metadata": {},
   "source": [
    "---\n",
    "# Collect All My Playlists"
   ]
  },
  {
   "cell_type": "code",
   "execution_count": 2,
   "id": "4dcb984d-e500-4310-8e55-b0e46285c389",
   "metadata": {
    "tags": []
   },
   "outputs": [
    {
     "data": {
      "text/markdown": [
       "\n",
       "## My Playlists  \n",
       "Collected **69** playlists\n"
      ],
      "text/plain": [
       "<IPython.core.display.Markdown object>"
      ]
     },
     "metadata": {},
     "output_type": "display_data"
    }
   ],
   "source": [
    "my_playlists = []\n",
    "offset = 0\n",
    "append_playlists = spotify.current_user_playlists(offset=offset)[\"items\"]\n",
    "while len(append_playlists) > 0:\n",
    "    my_playlists += append_playlists\n",
    "    offset += len(append_playlists)\n",
    "    append_playlists = spotify.current_user_playlists(offset=offset)[\"items\"]\n",
    "displaym(\"\"\"\n",
    "## My Playlists  \n",
    "Collected **{}** playlists\n",
    "\"\"\".format(\n",
    "    len(my_playlists)\n",
    "))"
   ]
  },
  {
   "cell_type": "markdown",
   "id": "6115a518-36f2-4499-a2d7-1ee59e19fb79",
   "metadata": {},
   "source": [
    "---\n",
    "# Union **WoofBeats&trade;** Monthly Playlists"
   ]
  },
  {
   "cell_type": "code",
   "execution_count": 8,
   "id": "da2446be-be38-455e-9a24-570dc528fc13",
   "metadata": {
    "tags": []
   },
   "outputs": [
    {
     "data": {
      "text/markdown": [
       "\n",
       "## **List WoofBeats&trade;** 2021 Monthly Playlists\n",
       " - WoofBeats-2021-12: **26** songs \n",
       "- WoofBeats-2021-11: **23** songs \n",
       "- WoofBeats-2021-10: **27** songs \n",
       "- WoofBeats-2021-09: **34** songs \n",
       "- WoofBeats-2021-08: **29** songs \n",
       "- WoofBeats-2021-07: **30** songs \n",
       "- WoofBeats-2021-06: **50** songs \n",
       "- WoofBeats-2021-05: **37** songs \n",
       "- WoofBeats-2021-04: **50** songs \n",
       "- WoofBeats-2021-03: **38** songs \n",
       "- WoofBeats-2021-02: **45** songs \n",
       "- WoofBeats-2021-01: **56** songs \n",
       "- WoofBeats-2020-12: **46** songs\n",
       "---\n"
      ],
      "text/plain": [
       "<IPython.core.display.Markdown object>"
      ]
     },
     "metadata": {},
     "output_type": "display_data"
    }
   ],
   "source": [
    "WoofBeats_playlists = [\n",
    "    p for p in my_playlists \n",
    "    if \"WoofBeats\" in p[\"name\"] and \"20\" in p[\"name\"]\n",
    "]\n",
    "\n",
    "# get tracks\n",
    "for playlist in WoofBeats_playlists:\n",
    "    playlist.update({\n",
    "        \"tracks\":spotify.playlist_tracks(playlist[\"id\"]) \n",
    "    })\n",
    "\n",
    "displaym(\n",
    "\"\"\"\n",
    "## **List WoofBeats&trade;** 2021 Monthly Playlists\n",
    " - {}\n",
    "---\n",
    "\"\"\".format(\n",
    "    \" \\n- \".join([\n",
    "        \"{}: **{}** songs\".format(\n",
    "            playlist[\"name\"], \n",
    "            len(playlist[\"tracks\"][\"items\"])\n",
    "        ) \n",
    "        for playlist in WoofBeats_playlists\n",
    "    ])\n",
    "))"
   ]
  },
  {
   "cell_type": "markdown",
   "id": "e6eb3fff-f1f0-4bb5-b84d-eff2c41e760e",
   "metadata": {
    "tags": []
   },
   "source": [
    "## Format/Enrich **WoofBeats&trade;** Tracks"
   ]
  },
  {
   "cell_type": "code",
   "execution_count": 74,
   "id": "2a069c13-163a-40fd-bb19-9935d927d31c",
   "metadata": {
    "jupyter": {
     "source_hidden": true
    },
    "tags": []
   },
   "outputs": [
    {
     "name": "stdout",
     "output_type": "stream",
     "text": [
      "<class 'pandas.core.frame.DataFrame'>\n",
      "RangeIndex: 491 entries, 0 to 490\n",
      "Data columns (total 13 columns):\n",
      " #   Column              Non-Null Count  Dtype \n",
      "---  ------              --------------  ----- \n",
      " 0   track_id            491 non-null    object\n",
      " 1   track_name          491 non-null    object\n",
      " 2   track_duration_ms   491 non-null    int64 \n",
      " 3   track_popularity    491 non-null    int64 \n",
      " 4   track_explicit      491 non-null    bool  \n",
      " 5   album_name          491 non-null    object\n",
      " 6   album_release_date  491 non-null    object\n",
      " 7   album_id            491 non-null    object\n",
      " 8   artist_id           491 non-null    object\n",
      " 9   artist_name         491 non-null    object\n",
      " 10  playlist_name       491 non-null    object\n",
      " 11  playlist_id         491 non-null    object\n",
      " 12  added_by            491 non-null    object\n",
      "dtypes: bool(1), int64(2), object(10)\n",
      "memory usage: 46.6+ KB\n"
     ]
    },
    {
     "data": {
      "text/plain": [
       "None"
      ]
     },
     "metadata": {},
     "output_type": "display_data"
    },
    {
     "data": {
      "text/html": [
       "<div>\n",
       "<style scoped>\n",
       "    .dataframe tbody tr th:only-of-type {\n",
       "        vertical-align: middle;\n",
       "    }\n",
       "\n",
       "    .dataframe tbody tr th {\n",
       "        vertical-align: top;\n",
       "    }\n",
       "\n",
       "    .dataframe thead th {\n",
       "        text-align: right;\n",
       "    }\n",
       "</style>\n",
       "<table border=\"1\" class=\"dataframe\">\n",
       "  <thead>\n",
       "    <tr style=\"text-align: right;\">\n",
       "      <th></th>\n",
       "      <th>track_id</th>\n",
       "      <th>track_name</th>\n",
       "      <th>track_duration_ms</th>\n",
       "      <th>track_popularity</th>\n",
       "      <th>track_explicit</th>\n",
       "      <th>album_name</th>\n",
       "      <th>album_release_date</th>\n",
       "      <th>album_id</th>\n",
       "      <th>artist_id</th>\n",
       "      <th>artist_name</th>\n",
       "      <th>playlist_name</th>\n",
       "      <th>playlist_id</th>\n",
       "      <th>added_by</th>\n",
       "    </tr>\n",
       "  </thead>\n",
       "  <tbody>\n",
       "    <tr>\n",
       "      <th>0</th>\n",
       "      <td>7Fk0zNC7vGdoDwePPgByKh</td>\n",
       "      <td>Peaches N Cream (feat. Charlie Wilson)</td>\n",
       "      <td>284213</td>\n",
       "      <td>43</td>\n",
       "      <td>False</td>\n",
       "      <td>Peaches N Cream (feat. Charlie Wilson)</td>\n",
       "      <td>2015-03-10</td>\n",
       "      <td>0tKHgjptFpCMWQyKrwThXF</td>\n",
       "      <td>7hJcb9fa4alzcOq3EaNPoG</td>\n",
       "      <td>Snoop Dogg</td>\n",
       "      <td>WoofBeats-2021-12</td>\n",
       "      <td>4Wj5LF1wo57BP6Fk2Itzk9</td>\n",
       "      <td>davidmimorton</td>\n",
       "    </tr>\n",
       "    <tr>\n",
       "      <th>1</th>\n",
       "      <td>32YOyb6WzKcHHWOPNBndvL</td>\n",
       "      <td>the astronaut</td>\n",
       "      <td>185077</td>\n",
       "      <td>35</td>\n",
       "      <td>False</td>\n",
       "      <td>the astronaut</td>\n",
       "      <td>2021-04-06</td>\n",
       "      <td>2vZMnfL7DLYTIGiz3piGn7</td>\n",
       "      <td>7BexBpZwJEohkHnOeuXDoi</td>\n",
       "      <td>Ray Goren</td>\n",
       "      <td>WoofBeats-2021-12</td>\n",
       "      <td>4Wj5LF1wo57BP6Fk2Itzk9</td>\n",
       "      <td>Dan</td>\n",
       "    </tr>\n",
       "    <tr>\n",
       "      <th>2</th>\n",
       "      <td>0ssRH9I8P7X7tawJQiIhzE</td>\n",
       "      <td>1993 (feat. Little Ricky ZR3)</td>\n",
       "      <td>159832</td>\n",
       "      <td>53</td>\n",
       "      <td>True</td>\n",
       "      <td>Ugly is Beautiful</td>\n",
       "      <td>2020-07-17</td>\n",
       "      <td>1HmWQo43Gt8BR2dylfv3o4</td>\n",
       "      <td>6TLwD7HPWuiOzvXEa3oCNe</td>\n",
       "      <td>Oliver Tree</td>\n",
       "      <td>WoofBeats-2021-12</td>\n",
       "      <td>4Wj5LF1wo57BP6Fk2Itzk9</td>\n",
       "      <td>Dan</td>\n",
       "    </tr>\n",
       "    <tr>\n",
       "      <th>3</th>\n",
       "      <td>2KUyYDas5sAAulThIiZBO5</td>\n",
       "      <td>Brass</td>\n",
       "      <td>151379</td>\n",
       "      <td>41</td>\n",
       "      <td>True</td>\n",
       "      <td>Brass</td>\n",
       "      <td>2019-12-23</td>\n",
       "      <td>1ZRprAbchzdVCZZnH9BaDQ</td>\n",
       "      <td>22KyrgRdE2K6aB5wtZls3c</td>\n",
       "      <td>AG Club</td>\n",
       "      <td>WoofBeats-2021-12</td>\n",
       "      <td>4Wj5LF1wo57BP6Fk2Itzk9</td>\n",
       "      <td>Dakota</td>\n",
       "    </tr>\n",
       "    <tr>\n",
       "      <th>4</th>\n",
       "      <td>3sN85u5M7FoMmHa8E2aViO</td>\n",
       "      <td>Heybb!</td>\n",
       "      <td>148607</td>\n",
       "      <td>59</td>\n",
       "      <td>False</td>\n",
       "      <td>Heybb!</td>\n",
       "      <td>2019-10-17</td>\n",
       "      <td>5CfgvNG8Y0ZGXAx3rNvjC8</td>\n",
       "      <td>2jbd7OqeJJd1hz81vOXwwW</td>\n",
       "      <td>binki</td>\n",
       "      <td>WoofBeats-2021-12</td>\n",
       "      <td>4Wj5LF1wo57BP6Fk2Itzk9</td>\n",
       "      <td>Dakota</td>\n",
       "    </tr>\n",
       "    <tr>\n",
       "      <th>...</th>\n",
       "      <td>...</td>\n",
       "      <td>...</td>\n",
       "      <td>...</td>\n",
       "      <td>...</td>\n",
       "      <td>...</td>\n",
       "      <td>...</td>\n",
       "      <td>...</td>\n",
       "      <td>...</td>\n",
       "      <td>...</td>\n",
       "      <td>...</td>\n",
       "      <td>...</td>\n",
       "      <td>...</td>\n",
       "      <td>...</td>\n",
       "    </tr>\n",
       "    <tr>\n",
       "      <th>486</th>\n",
       "      <td>42zd6DYQ4o4SECmTITrM1U</td>\n",
       "      <td>Dreams and Nightmares</td>\n",
       "      <td>230693</td>\n",
       "      <td>73</td>\n",
       "      <td>True</td>\n",
       "      <td>Dreams and Nightmares (Deluxe Edition)</td>\n",
       "      <td>2012-10-26</td>\n",
       "      <td>0zhZDmHEtDtok393SbZ3d7</td>\n",
       "      <td>20sxb77xiYeusSH8cVdatc</td>\n",
       "      <td>Meek Mill</td>\n",
       "      <td>WoofBeats-2020-12</td>\n",
       "      <td>26ytCXO4GPGK6MEr3uZojZ</td>\n",
       "      <td>Dakota</td>\n",
       "    </tr>\n",
       "    <tr>\n",
       "      <th>487</th>\n",
       "      <td>1qwMkkRiD5jqLeUUjfgblh</td>\n",
       "      <td>Lock It Up (feat. Anderson .Paak)</td>\n",
       "      <td>170226</td>\n",
       "      <td>62</td>\n",
       "      <td>True</td>\n",
       "      <td>Music To Be Murdered By</td>\n",
       "      <td>2020-01-17</td>\n",
       "      <td>4otkd9As6YaxxEkIjXPiZ6</td>\n",
       "      <td>7dGJo4pcD2V6oG8kP0tJRR</td>\n",
       "      <td>Eminem</td>\n",
       "      <td>WoofBeats-2020-12</td>\n",
       "      <td>26ytCXO4GPGK6MEr3uZojZ</td>\n",
       "      <td>Dakota</td>\n",
       "    </tr>\n",
       "    <tr>\n",
       "      <th>488</th>\n",
       "      <td>41LmqBEQojWdLobJyf2xjG</td>\n",
       "      <td>Cheapskate</td>\n",
       "      <td>177171</td>\n",
       "      <td>51</td>\n",
       "      <td>False</td>\n",
       "      <td>Cheapskate</td>\n",
       "      <td>2017-07-21</td>\n",
       "      <td>2XxmBqWYO5kwVIptXjI8DO</td>\n",
       "      <td>6TLwD7HPWuiOzvXEa3oCNe</td>\n",
       "      <td>Oliver Tree</td>\n",
       "      <td>WoofBeats-2020-12</td>\n",
       "      <td>26ytCXO4GPGK6MEr3uZojZ</td>\n",
       "      <td>Dan</td>\n",
       "    </tr>\n",
       "    <tr>\n",
       "      <th>489</th>\n",
       "      <td>4otVP2TcJliXWq2GjkvWkR</td>\n",
       "      <td>I'm Not Alright</td>\n",
       "      <td>187797</td>\n",
       "      <td>36</td>\n",
       "      <td>False</td>\n",
       "      <td>I'm Not Alright</td>\n",
       "      <td>2019-07-12</td>\n",
       "      <td>7vrpY8wM34sFteQRSPS2Na</td>\n",
       "      <td>6t1gpxYbY8OlLA7D2RiikQ</td>\n",
       "      <td>Loud Luxury</td>\n",
       "      <td>WoofBeats-2020-12</td>\n",
       "      <td>26ytCXO4GPGK6MEr3uZojZ</td>\n",
       "      <td>Dan</td>\n",
       "    </tr>\n",
       "    <tr>\n",
       "      <th>490</th>\n",
       "      <td>3c5Og78p3plOCBbNLg5K9L</td>\n",
       "      <td>Lone - Slow Hours Remix</td>\n",
       "      <td>272999</td>\n",
       "      <td>44</td>\n",
       "      <td>False</td>\n",
       "      <td>Divide &amp; Conquer (Remixes)</td>\n",
       "      <td>2017-06-16</td>\n",
       "      <td>3XaUNjcSJ6oyhoaFTqRbLb</td>\n",
       "      <td>4AA8eXtzqh5ykxtafLaPOi</td>\n",
       "      <td>What So Not</td>\n",
       "      <td>WoofBeats-2020-12</td>\n",
       "      <td>26ytCXO4GPGK6MEr3uZojZ</td>\n",
       "      <td>davidmimorton</td>\n",
       "    </tr>\n",
       "  </tbody>\n",
       "</table>\n",
       "<p>491 rows × 13 columns</p>\n",
       "</div>"
      ],
      "text/plain": [
       "                   track_id                              track_name  \\\n",
       "0    7Fk0zNC7vGdoDwePPgByKh  Peaches N Cream (feat. Charlie Wilson)   \n",
       "1    32YOyb6WzKcHHWOPNBndvL                           the astronaut   \n",
       "2    0ssRH9I8P7X7tawJQiIhzE           1993 (feat. Little Ricky ZR3)   \n",
       "3    2KUyYDas5sAAulThIiZBO5                                   Brass   \n",
       "4    3sN85u5M7FoMmHa8E2aViO                                  Heybb!   \n",
       "..                      ...                                     ...   \n",
       "486  42zd6DYQ4o4SECmTITrM1U                   Dreams and Nightmares   \n",
       "487  1qwMkkRiD5jqLeUUjfgblh       Lock It Up (feat. Anderson .Paak)   \n",
       "488  41LmqBEQojWdLobJyf2xjG                              Cheapskate   \n",
       "489  4otVP2TcJliXWq2GjkvWkR                         I'm Not Alright   \n",
       "490  3c5Og78p3plOCBbNLg5K9L                 Lone - Slow Hours Remix   \n",
       "\n",
       "     track_duration_ms  track_popularity  track_explicit  \\\n",
       "0               284213                43           False   \n",
       "1               185077                35           False   \n",
       "2               159832                53            True   \n",
       "3               151379                41            True   \n",
       "4               148607                59           False   \n",
       "..                 ...               ...             ...   \n",
       "486             230693                73            True   \n",
       "487             170226                62            True   \n",
       "488             177171                51           False   \n",
       "489             187797                36           False   \n",
       "490             272999                44           False   \n",
       "\n",
       "                                 album_name album_release_date  \\\n",
       "0    Peaches N Cream (feat. Charlie Wilson)         2015-03-10   \n",
       "1                             the astronaut         2021-04-06   \n",
       "2                         Ugly is Beautiful         2020-07-17   \n",
       "3                                     Brass         2019-12-23   \n",
       "4                                    Heybb!         2019-10-17   \n",
       "..                                      ...                ...   \n",
       "486  Dreams and Nightmares (Deluxe Edition)         2012-10-26   \n",
       "487                 Music To Be Murdered By         2020-01-17   \n",
       "488                              Cheapskate         2017-07-21   \n",
       "489                         I'm Not Alright         2019-07-12   \n",
       "490              Divide & Conquer (Remixes)         2017-06-16   \n",
       "\n",
       "                   album_id               artist_id  artist_name  \\\n",
       "0    0tKHgjptFpCMWQyKrwThXF  7hJcb9fa4alzcOq3EaNPoG   Snoop Dogg   \n",
       "1    2vZMnfL7DLYTIGiz3piGn7  7BexBpZwJEohkHnOeuXDoi    Ray Goren   \n",
       "2    1HmWQo43Gt8BR2dylfv3o4  6TLwD7HPWuiOzvXEa3oCNe  Oliver Tree   \n",
       "3    1ZRprAbchzdVCZZnH9BaDQ  22KyrgRdE2K6aB5wtZls3c      AG Club   \n",
       "4    5CfgvNG8Y0ZGXAx3rNvjC8  2jbd7OqeJJd1hz81vOXwwW        binki   \n",
       "..                      ...                     ...          ...   \n",
       "486  0zhZDmHEtDtok393SbZ3d7  20sxb77xiYeusSH8cVdatc    Meek Mill   \n",
       "487  4otkd9As6YaxxEkIjXPiZ6  7dGJo4pcD2V6oG8kP0tJRR       Eminem   \n",
       "488  2XxmBqWYO5kwVIptXjI8DO  6TLwD7HPWuiOzvXEa3oCNe  Oliver Tree   \n",
       "489  7vrpY8wM34sFteQRSPS2Na  6t1gpxYbY8OlLA7D2RiikQ  Loud Luxury   \n",
       "490  3XaUNjcSJ6oyhoaFTqRbLb  4AA8eXtzqh5ykxtafLaPOi  What So Not   \n",
       "\n",
       "         playlist_name             playlist_id       added_by  \n",
       "0    WoofBeats-2021-12  4Wj5LF1wo57BP6Fk2Itzk9  davidmimorton  \n",
       "1    WoofBeats-2021-12  4Wj5LF1wo57BP6Fk2Itzk9            Dan  \n",
       "2    WoofBeats-2021-12  4Wj5LF1wo57BP6Fk2Itzk9            Dan  \n",
       "3    WoofBeats-2021-12  4Wj5LF1wo57BP6Fk2Itzk9         Dakota  \n",
       "4    WoofBeats-2021-12  4Wj5LF1wo57BP6Fk2Itzk9         Dakota  \n",
       "..                 ...                     ...            ...  \n",
       "486  WoofBeats-2020-12  26ytCXO4GPGK6MEr3uZojZ         Dakota  \n",
       "487  WoofBeats-2020-12  26ytCXO4GPGK6MEr3uZojZ         Dakota  \n",
       "488  WoofBeats-2020-12  26ytCXO4GPGK6MEr3uZojZ            Dan  \n",
       "489  WoofBeats-2020-12  26ytCXO4GPGK6MEr3uZojZ            Dan  \n",
       "490  WoofBeats-2020-12  26ytCXO4GPGK6MEr3uZojZ  davidmimorton  \n",
       "\n",
       "[491 rows x 13 columns]"
      ]
     },
     "execution_count": 74,
     "metadata": {},
     "output_type": "execute_result"
    }
   ],
   "source": [
    "WoofBeats_tracks = [\n",
    "    {\n",
    "        \"playlist_name\": playlist[\"name\"],\n",
    "        \"playlist_id\": playlist[\"id\"],\n",
    "        \"added_by\": track[\"added_by\"][\"id\"],\n",
    "        **track[\"track\"]\n",
    "    }\n",
    "    for playlist in WoofBeats_playlists\n",
    "    for track in playlist[\"tracks\"][\"items\"]\n",
    "]\n",
    "\n",
    "WoofBeats_tracks = [\n",
    "    {\n",
    "        \"track_id\" : track[\"id\"],\n",
    "        \"track_name\" :track[\"name\"],\n",
    "        \"track_duration_ms\" : track[\"duration_ms\"],\n",
    "        \"track_popularity\" : track[\"popularity\"],\n",
    "        \"track_explicit\" : track[\"explicit\"],\n",
    "        # **{\n",
    "        #     \"track_\" + key:value \n",
    "        #     for key, value in spotify.audio_features([track[\"id\"]])[0].items()\n",
    "        # },\n",
    "        \"album_name\" : track[\"album\"][\"name\"],\n",
    "        \"album_release_date\" : track[\"album\"][\"release_date\"],\n",
    "        \"album_id\" : track[\"album\"][\"id\"],\n",
    "        \"artist_id\" : track[\"artists\"][0][\"id\"],\n",
    "        \"artist_name\" : track[\"artists\"][0][\"name\"],\n",
    "        \"playlist_name\" : track[\"playlist_name\"],\n",
    "        \"playlist_id\" : track[\"playlist_id\"],\n",
    "        \"added_by\": track[\"added_by\"]\n",
    "    }\n",
    "    for track in WoofBeats_tracks\n",
    "]\n",
    "\n",
    "added_by_map = {\n",
    "    \"12167264510\" : \"Dakota\",\n",
    "    \"12145760918\" : \"Dan\"\n",
    "}\n",
    "\n",
    "for track in WoofBeats_tracks:\n",
    "    added_by = track[\"added_by\"]\n",
    "    track[\"added_by\"] = added_by_map[added_by] if added_by in added_by_map else added_by\n",
    "\n",
    "# for track in WoofBeats_tracks:\n",
    "#     for key in [\n",
    "#         \"track_type\",\n",
    "#         \"track_uri\",\n",
    "#         \"track_track_href\",\n",
    "#         \"track_analysis_url\",\n",
    "#         ]:\n",
    "#         del track[key]\n",
    "        \n",
    "WoofBeats_df = pd.DataFrame(WoofBeats_tracks)\n",
    "display(WoofBeats_df.info())\n",
    "WoofBeats_df"
   ]
  },
  {
   "cell_type": "code",
   "execution_count": 25,
   "id": "d98ed3f6-1ab0-4c5b-b79e-7470ea42fae2",
   "metadata": {
    "jupyter": {
     "source_hidden": true
    },
    "tags": []
   },
   "outputs": [
    {
     "data": {
      "text/markdown": [
       "\n",
       "### Feature Summary: **track duration ms**  \n",
       " - Mean: 219453.878\n",
       " - Std: 65114.864\n",
       "\n",
       "        "
      ],
      "text/plain": [
       "<IPython.core.display.Markdown object>"
      ]
     },
     "metadata": {},
     "output_type": "display_data"
    },
    {
     "data": {
      "image/png": "[encoded data removed]",
      "text/plain": [
       "<Figure size 432x288 with 1 Axes>"
      ]
     },
     "metadata": {
      "needs_background": "light"
     },
     "output_type": "display_data"
    },
    {
     "data": {
      "text/markdown": [
       "\n",
       "### Feature Summary: **track popularity**  \n",
       " - Mean: 47.212\n",
       " - Std: 19.802\n",
       "\n",
       "        "
      ],
      "text/plain": [
       "<IPython.core.display.Markdown object>"
      ]
     },
     "metadata": {},
     "output_type": "display_data"
    },
    {
     "data": {
      "image/png": "[encoded data removed]",
      "text/plain": [
       "<Figure size 432x288 with 1 Axes>"
      ]
     },
     "metadata": {
      "needs_background": "light"
     },
     "output_type": "display_data"
    },
    {
     "data": {
      "text/markdown": [
       "\n",
       "### Feature Summary: **track danceability**  \n",
       " - Mean: 0.637\n",
       " - Std: 0.145\n",
       "\n",
       "        "
      ],
      "text/plain": [
       "<IPython.core.display.Markdown object>"
      ]
     },
     "metadata": {},
     "output_type": "display_data"
    },
    {
     "data": {
      "image/png": "[encoded data removed]",
      "text/plain": [
       "<Figure size 432x288 with 1 Axes>"
      ]
     },
     "metadata": {
      "needs_background": "light"
     },
     "output_type": "display_data"
    },
    {
     "data": {
      "text/markdown": [
       "\n",
       "### Feature Summary: **track energy**  \n",
       " - Mean: 0.692\n",
       " - Std: 0.154\n",
       "\n",
       "        "
      ],
      "text/plain": [
       "<IPython.core.display.Markdown object>"
      ]
     },
     "metadata": {},
     "output_type": "display_data"
    },
    {
     "data": {
      "image/png": "[encoded data removed]",
      "text/plain": [
       "<Figure size 432x288 with 1 Axes>"
      ]
     },
     "metadata": {
      "needs_background": "light"
     },
     "output_type": "display_data"
    },
    {
     "data": {
      "text/markdown": [
       "\n",
       "### Feature Summary: **track key**  \n",
       " - Mean: 5.403\n",
       " - Std: 3.49\n",
       "\n",
       "        "
      ],
      "text/plain": [
       "<IPython.core.display.Markdown object>"
      ]
     },
     "metadata": {},
     "output_type": "display_data"
    },
    {
     "data": {
      "image/png": "[encoded data removed]",
      "text/plain": [
       "<Figure size 432x288 with 1 Axes>"
      ]
     },
     "metadata": {
      "needs_background": "light"
     },
     "output_type": "display_data"
    },
    {
     "data": {
      "text/markdown": [
       "\n",
       "### Feature Summary: **track loudness**  \n",
       " - Mean: -6.421\n",
       " - Std: 2.199\n",
       "\n",
       "        "
      ],
      "text/plain": [
       "<IPython.core.display.Markdown object>"
      ]
     },
     "metadata": {},
     "output_type": "display_data"
    },
    {
     "data": {
      "image/png": "[encoded data removed]",
      "text/plain": [
       "<Figure size 432x288 with 1 Axes>"
      ]
     },
     "metadata": {
      "needs_background": "light"
     },
     "output_type": "display_data"
    },
    {
     "data": {
      "text/markdown": [
       "\n",
       "### Feature Summary: **track mode**  \n",
       " - Mean: 0.564\n",
       " - Std: 0.496\n",
       "\n",
       "        "
      ],
      "text/plain": [
       "<IPython.core.display.Markdown object>"
      ]
     },
     "metadata": {},
     "output_type": "display_data"
    },
    {
     "data": {
      "image/png": "[encoded data removed]",
      "text/plain": [
       "<Figure size 432x288 with 1 Axes>"
      ]
     },
     "metadata": {
      "needs_background": "light"
     },
     "output_type": "display_data"
    },
    {
     "data": {
      "text/markdown": [
       "\n",
       "### Feature Summary: **track speechiness**  \n",
       " - Mean: 0.155\n",
       " - Std: 0.131\n",
       "\n",
       "        "
      ],
      "text/plain": [
       "<IPython.core.display.Markdown object>"
      ]
     },
     "metadata": {},
     "output_type": "display_data"
    },
    {
     "data": {
      "image/png": "[encoded data removed]",
      "text/plain": [
       "<Figure size 432x288 with 1 Axes>"
      ]
     },
     "metadata": {
      "needs_background": "light"
     },
     "output_type": "display_data"
    },
    {
     "data": {
      "text/markdown": [
       "\n",
       "### Feature Summary: **track acousticness**  \n",
       " - Mean: 0.172\n",
       " - Std: 0.2\n",
       "\n",
       "        "
      ],
      "text/plain": [
       "<IPython.core.display.Markdown object>"
      ]
     },
     "metadata": {},
     "output_type": "display_data"
    },
    {
     "data": {
      "image/png": "[encoded data removed]",
      "text/plain": [
       "<Figure size 432x288 with 1 Axes>"
      ]
     },
     "metadata": {
      "needs_background": "light"
     },
     "output_type": "display_data"
    },
    {
     "data": {
      "text/markdown": [
       "\n",
       "### Feature Summary: **track instrumentalness**  \n",
       " - Mean: 0.038\n",
       " - Std: 0.138\n",
       "\n",
       "        "
      ],
      "text/plain": [
       "<IPython.core.display.Markdown object>"
      ]
     },
     "metadata": {},
     "output_type": "display_data"
    },
    {
     "data": {
      "image/png": "[encoded data removed]",
      "text/plain": [
       "<Figure size 432x288 with 1 Axes>"
      ]
     },
     "metadata": {
      "needs_background": "light"
     },
     "output_type": "display_data"
    },
    {
     "data": {
      "text/markdown": [
       "\n",
       "### Feature Summary: **track liveness**  \n",
       " - Mean: 0.22\n",
       " - Std: 0.165\n",
       "\n",
       "        "
      ],
      "text/plain": [
       "<IPython.core.display.Markdown object>"
      ]
     },
     "metadata": {},
     "output_type": "display_data"
    },
    {
     "data": {
      "image/png": "[encoded data removed]",
      "text/plain": [
       "<Figure size 432x288 with 1 Axes>"
      ]
     },
     "metadata": {
      "needs_background": "light"
     },
     "output_type": "display_data"
    },
    {
     "data": {
      "text/markdown": [
       "\n",
       "### Feature Summary: **track valence**  \n",
       " - Mean: 0.521\n",
       " - Std: 0.22\n",
       "\n",
       "        "
      ],
      "text/plain": [
       "<IPython.core.display.Markdown object>"
      ]
     },
     "metadata": {},
     "output_type": "display_data"
    },
    {
     "data": {
      "image/png": "[encoded data removed]",
      "text/plain": [
       "<Figure size 432x288 with 1 Axes>"
      ]
     },
     "metadata": {
      "needs_background": "light"
     },
     "output_type": "display_data"
    },
    {
     "data": {
      "text/markdown": [
       "\n",
       "### Feature Summary: **track tempo**  \n",
       " - Mean: 119.347\n",
       " - Std: 31.009\n",
       "\n",
       "        "
      ],
      "text/plain": [
       "<IPython.core.display.Markdown object>"
      ]
     },
     "metadata": {},
     "output_type": "display_data"
    },
    {
     "data": {
      "image/png": "[encoded data removed]",
      "text/plain": [
       "<Figure size 432x288 with 1 Axes>"
      ]
     },
     "metadata": {
      "needs_background": "light"
     },
     "output_type": "display_data"
    },
    {
     "data": {
      "text/markdown": [
       "\n",
       "### Feature Summary: **track time signature**  \n",
       " - Mean: 3.974\n",
       " - Std: 0.258\n",
       "\n",
       "        "
      ],
      "text/plain": [
       "<IPython.core.display.Markdown object>"
      ]
     },
     "metadata": {},
     "output_type": "display_data"
    },
    {
     "data": {
      "image/png": "[encoded data removed]",
      "text/plain": [
       "<Figure size 432x288 with 1 Axes>"
      ]
     },
     "metadata": {
      "needs_background": "light"
     },
     "output_type": "display_data"
    }
   ],
   "source": [
    "for col in WoofBeats_df.columns:\n",
    "    if type(WoofBeats_df[col][0]) in [np.float64, np.int64]:\n",
    "        displaym(\"\"\"\n",
    "### Feature Summary: **{}**  \n",
    " - Mean: {}\n",
    " - Std: {}\n",
    "\n",
    "        \"\"\".format(\n",
    "            col.replace(\"_\",\" \"),\n",
    "            round(WoofBeats_df[col].mean(),3),\n",
    "            round(WoofBeats_df[col].std(),3)\n",
    "        ))\n",
    "        WoofBeats_df[col].plot.hist()\n",
    "        plt.show()"
   ]
  },
  {
   "cell_type": "code",
   "execution_count": 73,
   "id": "4f09f30e-fc87-4b37-b081-5a73d450798a",
   "metadata": {
    "jupyter": {
     "source_hidden": true
    },
    "tags": []
   },
   "outputs": [
    {
     "data": {
      "text/markdown": [
       "\n",
       "### Feature Summary: **album name**  \n",
       " - Most Common: Donda\n",
       " - Least Common: x (Deluxe Edition)\n",
       "    "
      ],
      "text/plain": [
       "<IPython.core.display.Markdown object>"
      ]
     },
     "metadata": {},
     "output_type": "display_data"
    },
    {
     "data": {
      "text/html": [
       "<div>\n",
       "<style scoped>\n",
       "    .dataframe tbody tr th:only-of-type {\n",
       "        vertical-align: middle;\n",
       "    }\n",
       "\n",
       "    .dataframe tbody tr th {\n",
       "        vertical-align: top;\n",
       "    }\n",
       "\n",
       "    .dataframe thead th {\n",
       "        text-align: right;\n",
       "    }\n",
       "</style>\n",
       "<table border=\"1\" class=\"dataframe\">\n",
       "  <thead>\n",
       "    <tr style=\"text-align: right;\">\n",
       "      <th></th>\n",
       "      <th>album_name</th>\n",
       "      <th>0</th>\n",
       "    </tr>\n",
       "  </thead>\n",
       "  <tbody>\n",
       "    <tr>\n",
       "      <th>0</th>\n",
       "      <td>Donda</td>\n",
       "      <td>4</td>\n",
       "    </tr>\n",
       "    <tr>\n",
       "      <th>1</th>\n",
       "      <td>Gooey</td>\n",
       "      <td>3</td>\n",
       "    </tr>\n",
       "    <tr>\n",
       "      <th>2</th>\n",
       "      <td>Ugly is Beautiful</td>\n",
       "      <td>3</td>\n",
       "    </tr>\n",
       "    <tr>\n",
       "      <th>3</th>\n",
       "      <td>The Tragedian's Decoupage</td>\n",
       "      <td>3</td>\n",
       "    </tr>\n",
       "    <tr>\n",
       "      <th>4</th>\n",
       "      <td>Complicate Your Life with Violence</td>\n",
       "      <td>3</td>\n",
       "    </tr>\n",
       "  </tbody>\n",
       "</table>\n",
       "</div>"
      ],
      "text/plain": [
       "                           album_name  0\n",
       "0                               Donda  4\n",
       "1                               Gooey  3\n",
       "2                   Ugly is Beautiful  3\n",
       "3           The Tragedian's Decoupage  3\n",
       "4  Complicate Your Life with Violence  3"
      ]
     },
     "metadata": {},
     "output_type": "display_data"
    },
    {
     "data": {
      "text/markdown": [
       "\n",
       "### Feature Summary: **artist name**  \n",
       " - Most Common: Yung Gravy\n",
       " - Least Common: ¿Téo?\n",
       "    "
      ],
      "text/plain": [
       "<IPython.core.display.Markdown object>"
      ]
     },
     "metadata": {},
     "output_type": "display_data"
    },
    {
     "data": {
      "text/html": [
       "<div>\n",
       "<style scoped>\n",
       "    .dataframe tbody tr th:only-of-type {\n",
       "        vertical-align: middle;\n",
       "    }\n",
       "\n",
       "    .dataframe tbody tr th {\n",
       "        vertical-align: top;\n",
       "    }\n",
       "\n",
       "    .dataframe thead th {\n",
       "        text-align: right;\n",
       "    }\n",
       "</style>\n",
       "<table border=\"1\" class=\"dataframe\">\n",
       "  <thead>\n",
       "    <tr style=\"text-align: right;\">\n",
       "      <th></th>\n",
       "      <th>artist_name</th>\n",
       "      <th>0</th>\n",
       "    </tr>\n",
       "  </thead>\n",
       "  <tbody>\n",
       "    <tr>\n",
       "      <th>0</th>\n",
       "      <td>Yung Gravy</td>\n",
       "      <td>13</td>\n",
       "    </tr>\n",
       "    <tr>\n",
       "      <th>1</th>\n",
       "      <td>A$AP Rocky</td>\n",
       "      <td>9</td>\n",
       "    </tr>\n",
       "    <tr>\n",
       "      <th>2</th>\n",
       "      <td>Kanye West</td>\n",
       "      <td>8</td>\n",
       "    </tr>\n",
       "    <tr>\n",
       "      <th>3</th>\n",
       "      <td>Mac Miller</td>\n",
       "      <td>7</td>\n",
       "    </tr>\n",
       "    <tr>\n",
       "      <th>4</th>\n",
       "      <td>$uicideboy$</td>\n",
       "      <td>6</td>\n",
       "    </tr>\n",
       "  </tbody>\n",
       "</table>\n",
       "</div>"
      ],
      "text/plain": [
       "   artist_name   0\n",
       "0   Yung Gravy  13\n",
       "1   A$AP Rocky   9\n",
       "2   Kanye West   8\n",
       "3   Mac Miller   7\n",
       "4  $uicideboy$   6"
      ]
     },
     "metadata": {},
     "output_type": "display_data"
    },
    {
     "data": {
      "text/markdown": [
       "\n",
       "### Feature Summary: **playlist name**  \n",
       " - Most Common: WoofBeats-2021-01\n",
       " - Least Common: WoofBeats-2021-11\n",
       "    "
      ],
      "text/plain": [
       "<IPython.core.display.Markdown object>"
      ]
     },
     "metadata": {},
     "output_type": "display_data"
    },
    {
     "data": {
      "text/html": [
       "<div>\n",
       "<style scoped>\n",
       "    .dataframe tbody tr th:only-of-type {\n",
       "        vertical-align: middle;\n",
       "    }\n",
       "\n",
       "    .dataframe tbody tr th {\n",
       "        vertical-align: top;\n",
       "    }\n",
       "\n",
       "    .dataframe thead th {\n",
       "        text-align: right;\n",
       "    }\n",
       "</style>\n",
       "<table border=\"1\" class=\"dataframe\">\n",
       "  <thead>\n",
       "    <tr style=\"text-align: right;\">\n",
       "      <th></th>\n",
       "      <th>playlist_name</th>\n",
       "      <th>0</th>\n",
       "    </tr>\n",
       "  </thead>\n",
       "  <tbody>\n",
       "    <tr>\n",
       "      <th>0</th>\n",
       "      <td>WoofBeats-2021-01</td>\n",
       "      <td>56</td>\n",
       "    </tr>\n",
       "    <tr>\n",
       "      <th>1</th>\n",
       "      <td>WoofBeats-2021-04</td>\n",
       "      <td>50</td>\n",
       "    </tr>\n",
       "    <tr>\n",
       "      <th>2</th>\n",
       "      <td>WoofBeats-2021-06</td>\n",
       "      <td>50</td>\n",
       "    </tr>\n",
       "    <tr>\n",
       "      <th>3</th>\n",
       "      <td>WoofBeats-2020-12</td>\n",
       "      <td>46</td>\n",
       "    </tr>\n",
       "    <tr>\n",
       "      <th>4</th>\n",
       "      <td>WoofBeats-2021-02</td>\n",
       "      <td>45</td>\n",
       "    </tr>\n",
       "  </tbody>\n",
       "</table>\n",
       "</div>"
      ],
      "text/plain": [
       "       playlist_name   0\n",
       "0  WoofBeats-2021-01  56\n",
       "1  WoofBeats-2021-04  50\n",
       "2  WoofBeats-2021-06  50\n",
       "3  WoofBeats-2020-12  46\n",
       "4  WoofBeats-2021-02  45"
      ]
     },
     "metadata": {},
     "output_type": "display_data"
    },
    {
     "data": {
      "text/markdown": [
       "\n",
       "### Feature Summary: **added by**  \n",
       " - Most Common: davidmimorton\n",
       " - Least Common: beet1eman\n",
       "    "
      ],
      "text/plain": [
       "<IPython.core.display.Markdown object>"
      ]
     },
     "metadata": {},
     "output_type": "display_data"
    },
    {
     "data": {
      "text/html": [
       "<div>\n",
       "<style scoped>\n",
       "    .dataframe tbody tr th:only-of-type {\n",
       "        vertical-align: middle;\n",
       "    }\n",
       "\n",
       "    .dataframe tbody tr th {\n",
       "        vertical-align: top;\n",
       "    }\n",
       "\n",
       "    .dataframe thead th {\n",
       "        text-align: right;\n",
       "    }\n",
       "</style>\n",
       "<table border=\"1\" class=\"dataframe\">\n",
       "  <thead>\n",
       "    <tr style=\"text-align: right;\">\n",
       "      <th></th>\n",
       "      <th>added_by</th>\n",
       "      <th>0</th>\n",
       "    </tr>\n",
       "  </thead>\n",
       "  <tbody>\n",
       "    <tr>\n",
       "      <th>0</th>\n",
       "      <td>davidmimorton</td>\n",
       "      <td>181</td>\n",
       "    </tr>\n",
       "    <tr>\n",
       "      <th>1</th>\n",
       "      <td>Dakota</td>\n",
       "      <td>157</td>\n",
       "    </tr>\n",
       "    <tr>\n",
       "      <th>2</th>\n",
       "      <td>Dan</td>\n",
       "      <td>149</td>\n",
       "    </tr>\n",
       "    <tr>\n",
       "      <th>3</th>\n",
       "      <td>1243264703</td>\n",
       "      <td>2</td>\n",
       "    </tr>\n",
       "    <tr>\n",
       "      <th>4</th>\n",
       "      <td>beet1eman</td>\n",
       "      <td>2</td>\n",
       "    </tr>\n",
       "  </tbody>\n",
       "</table>\n",
       "</div>"
      ],
      "text/plain": [
       "        added_by    0\n",
       "0  davidmimorton  181\n",
       "1         Dakota  157\n",
       "2            Dan  149\n",
       "3     1243264703    2\n",
       "4      beet1eman    2"
      ]
     },
     "metadata": {},
     "output_type": "display_data"
    }
   ],
   "source": [
    "categorical_features = [\n",
    "    \"album_name\",\n",
    "    \"artist_name\",\n",
    "    \"playlist_name\",\n",
    "    \"added_by\"\n",
    "]\n",
    "\n",
    "for col in categorical_features:\n",
    "    sorted_categories = WoofBeats_df[[col]].groupby(col) \\\n",
    "            .size() \\\n",
    "            .sort_values(ascending=False) \\\n",
    "            .reset_index()\n",
    "    \n",
    "    displaym(\"\"\"\n",
    "### Feature Summary: **{}**  \n",
    " - Most Common: {}\n",
    " - Least Common: {}\n",
    "    \"\"\".format(\n",
    "        col.replace(\"_\",\" \"),\n",
    "        sorted_categories[col][0],\n",
    "        sorted_categories[col][len(sorted_categories[col])-1]\n",
    "    ))\n",
    "    display(sorted_categories.head())\n",
    "# dir(WoofBeats_df[categorical_features[0]].plot)"
   ]
  }
 ],
 "metadata": {
  "kernelspec": {
   "display_name": "Python 3 (ipykernel)",
   "language": "python",
   "name": "python3"
  },
  "language_info": {
   "codemirror_mode": {
    "name": "ipython",
    "version": 3
   },
   "file_extension": ".py",
   "mimetype": "text/x-python",
   "name": "python",
   "nbconvert_exporter": "python",
   "pygments_lexer": "ipython3",
   "version": "3.10.0"
  },
  "toc-autonumbering": true
 },
 "nbformat": 4,
 "nbformat_minor": 5
}
